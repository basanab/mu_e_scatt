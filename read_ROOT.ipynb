{
  "nbformat": 4,
  "nbformat_minor": 0,
  "metadata": {
    "colab": {
      "provenance": [],
      "authorship_tag": "ABX9TyMhdyLvnm5DxJ+OtnAdi9U2",
      "include_colab_link": true
    },
    "kernelspec": {
      "name": "python3",
      "display_name": "Python 3"
    },
    "language_info": {
      "name": "python"
    }
  },
  "cells": [
    {
      "cell_type": "markdown",
      "metadata": {
        "id": "view-in-github",
        "colab_type": "text"
      },
      "source": [
        "<a href=\"https://colab.research.google.com/github/basanab/mu_e_scatt/blob/main/read_ROOT.ipynb\" target=\"_parent\"><img src=\"https://colab.research.google.com/assets/colab-badge.svg\" alt=\"Open In Colab\"/></a>"
      ]
    },
    {
      "cell_type": "code",
      "execution_count": null,
      "metadata": {
        "id": "njtwWoZg1Fxe"
      },
      "outputs": [],
      "source": [
        "pip install uproot    # new"
      ]
    },
    {
      "cell_type": "code",
      "source": [
        "import numpy as np\n",
        "import matplotlib.pyplot as plt\n",
        "import pandas as pd\n",
        "import uproot\n",
        "import math as mt"
      ],
      "metadata": {
        "id": "bxTYQ5061WjS"
      },
      "execution_count": null,
      "outputs": []
    },
    {
      "cell_type": "code",
      "source": [
        "file = uproot.open(\"/content/drive/MyDrive/ColabNotebooks/beryllium/scat_Be_500GeV_10Cr.root\")\n",
        "file.keys()\n",
        "file.classnames()\n",
        "branch=file[\"mu_e_scatt\"]\n",
        "branch.keys()"
      ],
      "metadata": {
        "id": "515Ei2Gi1ZMJ"
      },
      "execution_count": null,
      "outputs": []
    },
    {
      "cell_type": "code",
      "source": [
        "df=branch.arrays(['event_id', 'mu_x', 'mu_y', 'mu_z', 'e_x', 'e_y', 'e_z', 'mu_E','electron_E','mu_px',\n",
        " 'mu_py',\n",
        " 'mu_pz',\n",
        " 'e_px',\n",
        " 'e_py',\n",
        " 'e_pz',\n",
        " 'scat_type'], library=\"pd\")\n",
        "# df"
      ],
      "metadata": {
        "id": "3XsOwQXQ1i2p"
      },
      "execution_count": null,
      "outputs": []
    },
    {
      "cell_type": "code",
      "source": [
        "df.to_csv('Be_500geV_10Cr.csv', header=True, index=False, sep='\\t', mode='a')"
      ],
      "metadata": {
        "id": "ZBs9IutX1pZc"
      },
      "execution_count": null,
      "outputs": []
    },
    {
      "cell_type": "code",
      "source": [
        "#to separate out the elastic scattering type\n",
        "df_sort1=df_Be_500_10Cr[df_Be_500_10Cr['scat_type']==1]\n",
        "#reset index without adding new column \"index\" , as drop=true\n",
        "df_sort1.reset_index(level=None, drop=True, inplace=True)\n",
        "print(df_sort1)\n",
        "#This will give the number of rows in all columns where the value = 1\n",
        "(df_sort1==1).sum()"
      ],
      "metadata": {
        "id": "PQGaUaNs1zO4"
      },
      "execution_count": null,
      "outputs": []
    },
    {
      "cell_type": "code",
      "source": [
        "me= 0.511 * 10**(-3) #in units of GeV/c^2\n",
        "mm= 207* me\n",
        "pi= np.sqrt(500**2- mm**2)\n",
        "pi # in units of GeV\n",
        "deter=[]\n",
        "for i in range(len(df_sort1)):\n",
        "    matx=np.array([[0,0,-pi*1000],[df_sort1[\"mu_px\"][i],df_sort1[\"mu_py\"][i],df_sort1[\"mu_pz\"][i]],[df_sort1[\"e_px\"][i],df_sort1[\"e_py\"][i],df_sort1[\"e_pz\"][i]]])\n",
        "    deter.append(np.linalg.det(matx))\n",
        "#momentum units are taken in MeV by Geant4\n",
        "print(deter)\n"
      ],
      "metadata": {
        "id": "k0vSjLE_2OLT"
      },
      "execution_count": null,
      "outputs": []
    },
    {
      "cell_type": "code",
      "source": [
        "df_sort1[\"determinant\"]=deter\n",
        "df_sort1"
      ],
      "metadata": {
        "id": "hvfKp7Y52S85"
      },
      "execution_count": null,
      "outputs": []
    },
    {
      "cell_type": "code",
      "source": [
        "# to check the coplanarity factor that is determinant = 0\n",
        "sort2=df_sort1[df_sort1[\"determinant\"]==0.0]\n",
        "#reset index without adding new column \"index\" , as drop=true\n",
        "sort2.reset_index(level=None, drop=True, inplace=True)\n",
        "sort2"
      ],
      "metadata": {
        "id": "ucEMhw432-uC"
      },
      "execution_count": null,
      "outputs": []
    },
    {
      "cell_type": "code",
      "source": [
        "# To subtract the thickness of target (0.005 mm)\n",
        "sort2['e_z'] = sort2['e_z']+0.005\n",
        "sort2['mu_z'] = sort2['mu_z']+0.005"
      ],
      "metadata": {
        "id": "mdKT8jTf3m9w"
      },
      "execution_count": null,
      "outputs": []
    },
    {
      "cell_type": "code",
      "source": [
        "# to find the scayttering angles from the sorted datasheet\n",
        "tm =np.pi-np.arccos( sort2.iloc[:,3]/np.sqrt( sort2.iloc[:,1]**2+  sort2.iloc[:,2]**2+  sort2.iloc[:,3]**2))\n",
        "te = np.pi -np.arccos( sort2.iloc[:,6]/np.sqrt( sort2.iloc[:,4]**2+  sort2.iloc[:,5]**2+  sort2.iloc[:,6]**2))"
      ],
      "metadata": {
        "id": "IR7e9Cw34EAt"
      },
      "execution_count": null,
      "outputs": []
    },
    {
      "cell_type": "code",
      "source": [
        "resul_ang= pd.DataFrame({\"tm\":tm,\"te\":te},columns=['tm','te'])#to make resultant angles as separate dataframes\n",
        "# to add the angles column with the sorted dataframe\n",
        "ang_sort = pd.concat([sort2,resul_ang], axis=1)\n",
        "ang_sort"
      ],
      "metadata": {
        "id": "LcxgQbIc4Qe_"
      },
      "execution_count": null,
      "outputs": []
    }
  ]
}