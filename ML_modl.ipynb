{
  "nbformat": 4,
  "nbformat_minor": 0,
  "metadata": {
    "colab": {
      "provenance": [],
      "mount_file_id": "1WMEA-MjT-UtszBE3jbmVmazP0YkCumG2",
      "authorship_tag": "ABX9TyMV8MUNAFMy5oQtDvL3soTP",
      "include_colab_link": true
    },
    "kernelspec": {
      "name": "python3",
      "display_name": "Python 3"
    },
    "language_info": {
      "name": "python"
    },
    "gpuClass": "standard"
  },
  "cells": [
    {
      "cell_type": "markdown",
      "metadata": {
        "id": "view-in-github",
        "colab_type": "text"
      },
      "source": [
        "<a href=\"https://colab.research.google.com/github/basanab/mu_e_scatt/blob/main/ML_modl.ipynb\" target=\"_parent\"><img src=\"https://colab.research.google.com/assets/colab-badge.svg\" alt=\"Open In Colab\"/></a>"
      ]
    },
    {
      "cell_type": "code",
      "source": [
        "import numpy as np\n",
        "import matplotlib.pyplot as plt\n",
        "import pandas as pd\n",
        "import tensorflow as tf\n",
        "from tensorflow import keras\n",
        "from tensorflow.keras import layers\n",
        "from tensorflow.keras import Sequential\n",
        "from tensorflow.keras import optimizers\n",
        "from tensorflow.keras.models import Model\n",
        "from tensorflow.keras.models import load_model\n",
        "from scipy.optimize import curve_fit \n"
      ],
      "metadata": {
        "id": "CtW7KZPgdSTr"
      },
      "execution_count": 1,
      "outputs": []
    },
    {
      "cell_type": "code",
      "source": [
        "df=pd.read_csv(\"/content/newmu_table.csv\", sep=\"\\t\")\n",
        "df"
      ],
      "metadata": {
        "colab": {
          "base_uri": "https://localhost:8080/",
          "height": 424
        },
        "id": "pstCD7umJ5c-",
        "outputId": "2c7ae187-868c-4363-dc02-d54cdf660821"
      },
      "execution_count": 41,
      "outputs": [
        {
          "output_type": "execute_result",
          "data": {
            "text/plain": [
              "         E_mu  Theta_e  Theta_mu       Emu_p      Ee_p\n",
              "0         0.5    0.000  0.213165    0.479139  0.021371\n",
              "1         0.5    0.001  0.213165    0.479139  0.021371\n",
              "2         0.5    0.002  0.213165    0.479141  0.021369\n",
              "3         0.5    0.003  0.213165    0.479143  0.021367\n",
              "4         0.5    0.004  0.213165    0.479146  0.021364\n",
              "...       ...      ...       ...         ...       ...\n",
              "99995  1000.0    0.045  0.000108  999.496246  0.504264\n",
              "99996  1000.0    0.046  0.000108  999.517929  0.482581\n",
              "99997  1000.0    0.047  0.000108  999.538244  0.462266\n",
              "99998  1000.0    0.048  0.000108  999.557302  0.443208\n",
              "99999  1000.0    0.049  0.000108  999.575207  0.425303\n",
              "\n",
              "[100000 rows x 5 columns]"
            ],
            "text/html": [
              "\n",
              "  <div id=\"df-28af635e-44db-4358-bf63-67e305127dcc\">\n",
              "    <div class=\"colab-df-container\">\n",
              "      <div>\n",
              "<style scoped>\n",
              "    .dataframe tbody tr th:only-of-type {\n",
              "        vertical-align: middle;\n",
              "    }\n",
              "\n",
              "    .dataframe tbody tr th {\n",
              "        vertical-align: top;\n",
              "    }\n",
              "\n",
              "    .dataframe thead th {\n",
              "        text-align: right;\n",
              "    }\n",
              "</style>\n",
              "<table border=\"1\" class=\"dataframe\">\n",
              "  <thead>\n",
              "    <tr style=\"text-align: right;\">\n",
              "      <th></th>\n",
              "      <th>E_mu</th>\n",
              "      <th>Theta_e</th>\n",
              "      <th>Theta_mu</th>\n",
              "      <th>Emu_p</th>\n",
              "      <th>Ee_p</th>\n",
              "    </tr>\n",
              "  </thead>\n",
              "  <tbody>\n",
              "    <tr>\n",
              "      <th>0</th>\n",
              "      <td>0.5</td>\n",
              "      <td>0.000</td>\n",
              "      <td>0.213165</td>\n",
              "      <td>0.479139</td>\n",
              "      <td>0.021371</td>\n",
              "    </tr>\n",
              "    <tr>\n",
              "      <th>1</th>\n",
              "      <td>0.5</td>\n",
              "      <td>0.001</td>\n",
              "      <td>0.213165</td>\n",
              "      <td>0.479139</td>\n",
              "      <td>0.021371</td>\n",
              "    </tr>\n",
              "    <tr>\n",
              "      <th>2</th>\n",
              "      <td>0.5</td>\n",
              "      <td>0.002</td>\n",
              "      <td>0.213165</td>\n",
              "      <td>0.479141</td>\n",
              "      <td>0.021369</td>\n",
              "    </tr>\n",
              "    <tr>\n",
              "      <th>3</th>\n",
              "      <td>0.5</td>\n",
              "      <td>0.003</td>\n",
              "      <td>0.213165</td>\n",
              "      <td>0.479143</td>\n",
              "      <td>0.021367</td>\n",
              "    </tr>\n",
              "    <tr>\n",
              "      <th>4</th>\n",
              "      <td>0.5</td>\n",
              "      <td>0.004</td>\n",
              "      <td>0.213165</td>\n",
              "      <td>0.479146</td>\n",
              "      <td>0.021364</td>\n",
              "    </tr>\n",
              "    <tr>\n",
              "      <th>...</th>\n",
              "      <td>...</td>\n",
              "      <td>...</td>\n",
              "      <td>...</td>\n",
              "      <td>...</td>\n",
              "      <td>...</td>\n",
              "    </tr>\n",
              "    <tr>\n",
              "      <th>99995</th>\n",
              "      <td>1000.0</td>\n",
              "      <td>0.045</td>\n",
              "      <td>0.000108</td>\n",
              "      <td>999.496246</td>\n",
              "      <td>0.504264</td>\n",
              "    </tr>\n",
              "    <tr>\n",
              "      <th>99996</th>\n",
              "      <td>1000.0</td>\n",
              "      <td>0.046</td>\n",
              "      <td>0.000108</td>\n",
              "      <td>999.517929</td>\n",
              "      <td>0.482581</td>\n",
              "    </tr>\n",
              "    <tr>\n",
              "      <th>99997</th>\n",
              "      <td>1000.0</td>\n",
              "      <td>0.047</td>\n",
              "      <td>0.000108</td>\n",
              "      <td>999.538244</td>\n",
              "      <td>0.462266</td>\n",
              "    </tr>\n",
              "    <tr>\n",
              "      <th>99998</th>\n",
              "      <td>1000.0</td>\n",
              "      <td>0.048</td>\n",
              "      <td>0.000108</td>\n",
              "      <td>999.557302</td>\n",
              "      <td>0.443208</td>\n",
              "    </tr>\n",
              "    <tr>\n",
              "      <th>99999</th>\n",
              "      <td>1000.0</td>\n",
              "      <td>0.049</td>\n",
              "      <td>0.000108</td>\n",
              "      <td>999.575207</td>\n",
              "      <td>0.425303</td>\n",
              "    </tr>\n",
              "  </tbody>\n",
              "</table>\n",
              "<p>100000 rows × 5 columns</p>\n",
              "</div>\n",
              "      <button class=\"colab-df-convert\" onclick=\"convertToInteractive('df-28af635e-44db-4358-bf63-67e305127dcc')\"\n",
              "              title=\"Convert this dataframe to an interactive table.\"\n",
              "              style=\"display:none;\">\n",
              "        \n",
              "  <svg xmlns=\"http://www.w3.org/2000/svg\" height=\"24px\"viewBox=\"0 0 24 24\"\n",
              "       width=\"24px\">\n",
              "    <path d=\"M0 0h24v24H0V0z\" fill=\"none\"/>\n",
              "    <path d=\"M18.56 5.44l.94 2.06.94-2.06 2.06-.94-2.06-.94-.94-2.06-.94 2.06-2.06.94zm-11 1L8.5 8.5l.94-2.06 2.06-.94-2.06-.94L8.5 2.5l-.94 2.06-2.06.94zm10 10l.94 2.06.94-2.06 2.06-.94-2.06-.94-.94-2.06-.94 2.06-2.06.94z\"/><path d=\"M17.41 7.96l-1.37-1.37c-.4-.4-.92-.59-1.43-.59-.52 0-1.04.2-1.43.59L10.3 9.45l-7.72 7.72c-.78.78-.78 2.05 0 2.83L4 21.41c.39.39.9.59 1.41.59.51 0 1.02-.2 1.41-.59l7.78-7.78 2.81-2.81c.8-.78.8-2.07 0-2.86zM5.41 20L4 18.59l7.72-7.72 1.47 1.35L5.41 20z\"/>\n",
              "  </svg>\n",
              "      </button>\n",
              "      \n",
              "  <style>\n",
              "    .colab-df-container {\n",
              "      display:flex;\n",
              "      flex-wrap:wrap;\n",
              "      gap: 12px;\n",
              "    }\n",
              "\n",
              "    .colab-df-convert {\n",
              "      background-color: #E8F0FE;\n",
              "      border: none;\n",
              "      border-radius: 50%;\n",
              "      cursor: pointer;\n",
              "      display: none;\n",
              "      fill: #1967D2;\n",
              "      height: 32px;\n",
              "      padding: 0 0 0 0;\n",
              "      width: 32px;\n",
              "    }\n",
              "\n",
              "    .colab-df-convert:hover {\n",
              "      background-color: #E2EBFA;\n",
              "      box-shadow: 0px 1px 2px rgba(60, 64, 67, 0.3), 0px 1px 3px 1px rgba(60, 64, 67, 0.15);\n",
              "      fill: #174EA6;\n",
              "    }\n",
              "\n",
              "    [theme=dark] .colab-df-convert {\n",
              "      background-color: #3B4455;\n",
              "      fill: #D2E3FC;\n",
              "    }\n",
              "\n",
              "    [theme=dark] .colab-df-convert:hover {\n",
              "      background-color: #434B5C;\n",
              "      box-shadow: 0px 1px 3px 1px rgba(0, 0, 0, 0.15);\n",
              "      filter: drop-shadow(0px 1px 2px rgba(0, 0, 0, 0.3));\n",
              "      fill: #FFFFFF;\n",
              "    }\n",
              "  </style>\n",
              "\n",
              "      <script>\n",
              "        const buttonEl =\n",
              "          document.querySelector('#df-28af635e-44db-4358-bf63-67e305127dcc button.colab-df-convert');\n",
              "        buttonEl.style.display =\n",
              "          google.colab.kernel.accessAllowed ? 'block' : 'none';\n",
              "\n",
              "        async function convertToInteractive(key) {\n",
              "          const element = document.querySelector('#df-28af635e-44db-4358-bf63-67e305127dcc');\n",
              "          const dataTable =\n",
              "            await google.colab.kernel.invokeFunction('convertToInteractive',\n",
              "                                                     [key], {});\n",
              "          if (!dataTable) return;\n",
              "\n",
              "          const docLinkHtml = 'Like what you see? Visit the ' +\n",
              "            '<a target=\"_blank\" href=https://colab.research.google.com/notebooks/data_table.ipynb>data table notebook</a>'\n",
              "            + ' to learn more about interactive tables.';\n",
              "          element.innerHTML = '';\n",
              "          dataTable['output_type'] = 'display_data';\n",
              "          await google.colab.output.renderOutput(dataTable, element);\n",
              "          const docLink = document.createElement('div');\n",
              "          docLink.innerHTML = docLinkHtml;\n",
              "          element.appendChild(docLink);\n",
              "        }\n",
              "      </script>\n",
              "    </div>\n",
              "  </div>\n",
              "  "
            ]
          },
          "metadata": {},
          "execution_count": 41
        }
      ]
    },
    {
      "cell_type": "code",
      "execution_count": 39,
      "metadata": {
        "id": "35z5KleUbb2R"
      },
      "outputs": [],
      "source": [
        "# df=pd.read_excel(\"/content/drive/MyDrive/ColabNotebooks/muon_data.xlsx\")\n",
        "# df"
      ]
    },
    {
      "cell_type": "code",
      "source": [
        "# Create a copy for further processing\n",
        "dataset = df.copy()\n",
        "# Check for null values\n",
        "dataset.isna().sum()"
      ],
      "metadata": {
        "id": "ahHkL8KKfNoh",
        "colab": {
          "base_uri": "https://localhost:8080/"
        },
        "outputId": "0149364d-7f3c-4700-9c77-932fce9a0255"
      },
      "execution_count": 42,
      "outputs": [
        {
          "output_type": "execute_result",
          "data": {
            "text/plain": [
              "E_mu        0\n",
              "Theta_e     0\n",
              "Theta_mu    0\n",
              "Emu_p       0\n",
              "Ee_p        0\n",
              "dtype: int64"
            ]
          },
          "metadata": {},
          "execution_count": 42
        }
      ]
    },
    {
      "cell_type": "code",
      "source": [
        "# Split the Dataset and create train and test sets\n",
        "train_dataset = dataset.sample(frac=0.8, random_state=0)\n",
        "test_dataset = dataset.drop(train_dataset.index)\n",
        "\n",
        "print(dataset.shape, train_dataset.shape, test_dataset.shape)\n",
        "train_dataset.describe().transpose()"
      ],
      "metadata": {
        "id": "klSf4W4BfuSW",
        "colab": {
          "base_uri": "https://localhost:8080/",
          "height": 224
        },
        "outputId": "9f9c157c-736d-417b-a6fd-5cda637fc617"
      },
      "execution_count": 43,
      "outputs": [
        {
          "output_type": "stream",
          "name": "stdout",
          "text": [
            "(100000, 5) (80000, 5) (20000, 5)\n"
          ]
        },
        {
          "output_type": "execute_result",
          "data": {
            "text/plain": [
              "            count        mean         std       min         25%         50%  \\\n",
              "E_mu      80000.0  500.062487  288.479844  0.500000  250.500000  500.000000   \n",
              "Theta_e   80000.0    0.024507    0.014416  0.000000    0.012000    0.024000   \n",
              "Theta_mu  80000.0    0.001022    0.006104  0.000106    0.000165    0.000269   \n",
              "Emu_p     80000.0  474.746827  293.400281  0.479139  218.261402  469.503675   \n",
              "Ee_p      80000.0   25.316171   94.062318  0.020350    0.744670    1.631640   \n",
              "\n",
              "                 75%          max  \n",
              "E_mu      749.500000  1000.000000  \n",
              "Theta_e     0.037000     0.049000  \n",
              "Theta_mu    0.000589     0.213175  \n",
              "Emu_p     727.860709   999.575207  \n",
              "Ee_p        6.895360   989.170890  "
            ],
            "text/html": [
              "\n",
              "  <div id=\"df-933082e1-7b98-4391-92b6-4369acc28ca4\">\n",
              "    <div class=\"colab-df-container\">\n",
              "      <div>\n",
              "<style scoped>\n",
              "    .dataframe tbody tr th:only-of-type {\n",
              "        vertical-align: middle;\n",
              "    }\n",
              "\n",
              "    .dataframe tbody tr th {\n",
              "        vertical-align: top;\n",
              "    }\n",
              "\n",
              "    .dataframe thead th {\n",
              "        text-align: right;\n",
              "    }\n",
              "</style>\n",
              "<table border=\"1\" class=\"dataframe\">\n",
              "  <thead>\n",
              "    <tr style=\"text-align: right;\">\n",
              "      <th></th>\n",
              "      <th>count</th>\n",
              "      <th>mean</th>\n",
              "      <th>std</th>\n",
              "      <th>min</th>\n",
              "      <th>25%</th>\n",
              "      <th>50%</th>\n",
              "      <th>75%</th>\n",
              "      <th>max</th>\n",
              "    </tr>\n",
              "  </thead>\n",
              "  <tbody>\n",
              "    <tr>\n",
              "      <th>E_mu</th>\n",
              "      <td>80000.0</td>\n",
              "      <td>500.062487</td>\n",
              "      <td>288.479844</td>\n",
              "      <td>0.500000</td>\n",
              "      <td>250.500000</td>\n",
              "      <td>500.000000</td>\n",
              "      <td>749.500000</td>\n",
              "      <td>1000.000000</td>\n",
              "    </tr>\n",
              "    <tr>\n",
              "      <th>Theta_e</th>\n",
              "      <td>80000.0</td>\n",
              "      <td>0.024507</td>\n",
              "      <td>0.014416</td>\n",
              "      <td>0.000000</td>\n",
              "      <td>0.012000</td>\n",
              "      <td>0.024000</td>\n",
              "      <td>0.037000</td>\n",
              "      <td>0.049000</td>\n",
              "    </tr>\n",
              "    <tr>\n",
              "      <th>Theta_mu</th>\n",
              "      <td>80000.0</td>\n",
              "      <td>0.001022</td>\n",
              "      <td>0.006104</td>\n",
              "      <td>0.000106</td>\n",
              "      <td>0.000165</td>\n",
              "      <td>0.000269</td>\n",
              "      <td>0.000589</td>\n",
              "      <td>0.213175</td>\n",
              "    </tr>\n",
              "    <tr>\n",
              "      <th>Emu_p</th>\n",
              "      <td>80000.0</td>\n",
              "      <td>474.746827</td>\n",
              "      <td>293.400281</td>\n",
              "      <td>0.479139</td>\n",
              "      <td>218.261402</td>\n",
              "      <td>469.503675</td>\n",
              "      <td>727.860709</td>\n",
              "      <td>999.575207</td>\n",
              "    </tr>\n",
              "    <tr>\n",
              "      <th>Ee_p</th>\n",
              "      <td>80000.0</td>\n",
              "      <td>25.316171</td>\n",
              "      <td>94.062318</td>\n",
              "      <td>0.020350</td>\n",
              "      <td>0.744670</td>\n",
              "      <td>1.631640</td>\n",
              "      <td>6.895360</td>\n",
              "      <td>989.170890</td>\n",
              "    </tr>\n",
              "  </tbody>\n",
              "</table>\n",
              "</div>\n",
              "      <button class=\"colab-df-convert\" onclick=\"convertToInteractive('df-933082e1-7b98-4391-92b6-4369acc28ca4')\"\n",
              "              title=\"Convert this dataframe to an interactive table.\"\n",
              "              style=\"display:none;\">\n",
              "        \n",
              "  <svg xmlns=\"http://www.w3.org/2000/svg\" height=\"24px\"viewBox=\"0 0 24 24\"\n",
              "       width=\"24px\">\n",
              "    <path d=\"M0 0h24v24H0V0z\" fill=\"none\"/>\n",
              "    <path d=\"M18.56 5.44l.94 2.06.94-2.06 2.06-.94-2.06-.94-.94-2.06-.94 2.06-2.06.94zm-11 1L8.5 8.5l.94-2.06 2.06-.94-2.06-.94L8.5 2.5l-.94 2.06-2.06.94zm10 10l.94 2.06.94-2.06 2.06-.94-2.06-.94-.94-2.06-.94 2.06-2.06.94z\"/><path d=\"M17.41 7.96l-1.37-1.37c-.4-.4-.92-.59-1.43-.59-.52 0-1.04.2-1.43.59L10.3 9.45l-7.72 7.72c-.78.78-.78 2.05 0 2.83L4 21.41c.39.39.9.59 1.41.59.51 0 1.02-.2 1.41-.59l7.78-7.78 2.81-2.81c.8-.78.8-2.07 0-2.86zM5.41 20L4 18.59l7.72-7.72 1.47 1.35L5.41 20z\"/>\n",
              "  </svg>\n",
              "      </button>\n",
              "      \n",
              "  <style>\n",
              "    .colab-df-container {\n",
              "      display:flex;\n",
              "      flex-wrap:wrap;\n",
              "      gap: 12px;\n",
              "    }\n",
              "\n",
              "    .colab-df-convert {\n",
              "      background-color: #E8F0FE;\n",
              "      border: none;\n",
              "      border-radius: 50%;\n",
              "      cursor: pointer;\n",
              "      display: none;\n",
              "      fill: #1967D2;\n",
              "      height: 32px;\n",
              "      padding: 0 0 0 0;\n",
              "      width: 32px;\n",
              "    }\n",
              "\n",
              "    .colab-df-convert:hover {\n",
              "      background-color: #E2EBFA;\n",
              "      box-shadow: 0px 1px 2px rgba(60, 64, 67, 0.3), 0px 1px 3px 1px rgba(60, 64, 67, 0.15);\n",
              "      fill: #174EA6;\n",
              "    }\n",
              "\n",
              "    [theme=dark] .colab-df-convert {\n",
              "      background-color: #3B4455;\n",
              "      fill: #D2E3FC;\n",
              "    }\n",
              "\n",
              "    [theme=dark] .colab-df-convert:hover {\n",
              "      background-color: #434B5C;\n",
              "      box-shadow: 0px 1px 3px 1px rgba(0, 0, 0, 0.15);\n",
              "      filter: drop-shadow(0px 1px 2px rgba(0, 0, 0, 0.3));\n",
              "      fill: #FFFFFF;\n",
              "    }\n",
              "  </style>\n",
              "\n",
              "      <script>\n",
              "        const buttonEl =\n",
              "          document.querySelector('#df-933082e1-7b98-4391-92b6-4369acc28ca4 button.colab-df-convert');\n",
              "        buttonEl.style.display =\n",
              "          google.colab.kernel.accessAllowed ? 'block' : 'none';\n",
              "\n",
              "        async function convertToInteractive(key) {\n",
              "          const element = document.querySelector('#df-933082e1-7b98-4391-92b6-4369acc28ca4');\n",
              "          const dataTable =\n",
              "            await google.colab.kernel.invokeFunction('convertToInteractive',\n",
              "                                                     [key], {});\n",
              "          if (!dataTable) return;\n",
              "\n",
              "          const docLinkHtml = 'Like what you see? Visit the ' +\n",
              "            '<a target=\"_blank\" href=https://colab.research.google.com/notebooks/data_table.ipynb>data table notebook</a>'\n",
              "            + ' to learn more about interactive tables.';\n",
              "          element.innerHTML = '';\n",
              "          dataTable['output_type'] = 'display_data';\n",
              "          await google.colab.output.renderOutput(dataTable, element);\n",
              "          const docLink = document.createElement('div');\n",
              "          docLink.innerHTML = docLinkHtml;\n",
              "          element.appendChild(docLink);\n",
              "        }\n",
              "      </script>\n",
              "    </div>\n",
              "  </div>\n",
              "  "
            ]
          },
          "metadata": {},
          "execution_count": 43
        }
      ]
    },
    {
      "cell_type": "code",
      "source": [
        "# Remove columns not needed\n",
        "dataset_size2=dataset.drop(['E_mu', 'Emu_p','Ee_p'], axis=1)\n",
        "dataset_size2.describe().transpose()"
      ],
      "metadata": {
        "id": "IYl3tT3NkIc4",
        "colab": {
          "base_uri": "https://localhost:8080/",
          "height": 112
        },
        "outputId": "cddb0c4d-401b-4a50-d9e7-c30d7c3d854a"
      },
      "execution_count": 44,
      "outputs": [
        {
          "output_type": "execute_result",
          "data": {
            "text/plain": [
              "             count     mean       std       min       25%       50%       75%  \\\n",
              "Theta_e   100000.0  0.02450  0.014431  0.000000  0.012000  0.024500  0.037000   \n",
              "Theta_mu  100000.0  0.00102  0.006065  0.000106  0.000165  0.000269  0.000591   \n",
              "\n",
              "               max  \n",
              "Theta_e   0.049000  \n",
              "Theta_mu  0.213175  "
            ],
            "text/html": [
              "\n",
              "  <div id=\"df-1e4a0d1a-0abf-4d00-83fd-582e4866fd70\">\n",
              "    <div class=\"colab-df-container\">\n",
              "      <div>\n",
              "<style scoped>\n",
              "    .dataframe tbody tr th:only-of-type {\n",
              "        vertical-align: middle;\n",
              "    }\n",
              "\n",
              "    .dataframe tbody tr th {\n",
              "        vertical-align: top;\n",
              "    }\n",
              "\n",
              "    .dataframe thead th {\n",
              "        text-align: right;\n",
              "    }\n",
              "</style>\n",
              "<table border=\"1\" class=\"dataframe\">\n",
              "  <thead>\n",
              "    <tr style=\"text-align: right;\">\n",
              "      <th></th>\n",
              "      <th>count</th>\n",
              "      <th>mean</th>\n",
              "      <th>std</th>\n",
              "      <th>min</th>\n",
              "      <th>25%</th>\n",
              "      <th>50%</th>\n",
              "      <th>75%</th>\n",
              "      <th>max</th>\n",
              "    </tr>\n",
              "  </thead>\n",
              "  <tbody>\n",
              "    <tr>\n",
              "      <th>Theta_e</th>\n",
              "      <td>100000.0</td>\n",
              "      <td>0.02450</td>\n",
              "      <td>0.014431</td>\n",
              "      <td>0.000000</td>\n",
              "      <td>0.012000</td>\n",
              "      <td>0.024500</td>\n",
              "      <td>0.037000</td>\n",
              "      <td>0.049000</td>\n",
              "    </tr>\n",
              "    <tr>\n",
              "      <th>Theta_mu</th>\n",
              "      <td>100000.0</td>\n",
              "      <td>0.00102</td>\n",
              "      <td>0.006065</td>\n",
              "      <td>0.000106</td>\n",
              "      <td>0.000165</td>\n",
              "      <td>0.000269</td>\n",
              "      <td>0.000591</td>\n",
              "      <td>0.213175</td>\n",
              "    </tr>\n",
              "  </tbody>\n",
              "</table>\n",
              "</div>\n",
              "      <button class=\"colab-df-convert\" onclick=\"convertToInteractive('df-1e4a0d1a-0abf-4d00-83fd-582e4866fd70')\"\n",
              "              title=\"Convert this dataframe to an interactive table.\"\n",
              "              style=\"display:none;\">\n",
              "        \n",
              "  <svg xmlns=\"http://www.w3.org/2000/svg\" height=\"24px\"viewBox=\"0 0 24 24\"\n",
              "       width=\"24px\">\n",
              "    <path d=\"M0 0h24v24H0V0z\" fill=\"none\"/>\n",
              "    <path d=\"M18.56 5.44l.94 2.06.94-2.06 2.06-.94-2.06-.94-.94-2.06-.94 2.06-2.06.94zm-11 1L8.5 8.5l.94-2.06 2.06-.94-2.06-.94L8.5 2.5l-.94 2.06-2.06.94zm10 10l.94 2.06.94-2.06 2.06-.94-2.06-.94-.94-2.06-.94 2.06-2.06.94z\"/><path d=\"M17.41 7.96l-1.37-1.37c-.4-.4-.92-.59-1.43-.59-.52 0-1.04.2-1.43.59L10.3 9.45l-7.72 7.72c-.78.78-.78 2.05 0 2.83L4 21.41c.39.39.9.59 1.41.59.51 0 1.02-.2 1.41-.59l7.78-7.78 2.81-2.81c.8-.78.8-2.07 0-2.86zM5.41 20L4 18.59l7.72-7.72 1.47 1.35L5.41 20z\"/>\n",
              "  </svg>\n",
              "      </button>\n",
              "      \n",
              "  <style>\n",
              "    .colab-df-container {\n",
              "      display:flex;\n",
              "      flex-wrap:wrap;\n",
              "      gap: 12px;\n",
              "    }\n",
              "\n",
              "    .colab-df-convert {\n",
              "      background-color: #E8F0FE;\n",
              "      border: none;\n",
              "      border-radius: 50%;\n",
              "      cursor: pointer;\n",
              "      display: none;\n",
              "      fill: #1967D2;\n",
              "      height: 32px;\n",
              "      padding: 0 0 0 0;\n",
              "      width: 32px;\n",
              "    }\n",
              "\n",
              "    .colab-df-convert:hover {\n",
              "      background-color: #E2EBFA;\n",
              "      box-shadow: 0px 1px 2px rgba(60, 64, 67, 0.3), 0px 1px 3px 1px rgba(60, 64, 67, 0.15);\n",
              "      fill: #174EA6;\n",
              "    }\n",
              "\n",
              "    [theme=dark] .colab-df-convert {\n",
              "      background-color: #3B4455;\n",
              "      fill: #D2E3FC;\n",
              "    }\n",
              "\n",
              "    [theme=dark] .colab-df-convert:hover {\n",
              "      background-color: #434B5C;\n",
              "      box-shadow: 0px 1px 3px 1px rgba(0, 0, 0, 0.15);\n",
              "      filter: drop-shadow(0px 1px 2px rgba(0, 0, 0, 0.3));\n",
              "      fill: #FFFFFF;\n",
              "    }\n",
              "  </style>\n",
              "\n",
              "      <script>\n",
              "        const buttonEl =\n",
              "          document.querySelector('#df-1e4a0d1a-0abf-4d00-83fd-582e4866fd70 button.colab-df-convert');\n",
              "        buttonEl.style.display =\n",
              "          google.colab.kernel.accessAllowed ? 'block' : 'none';\n",
              "\n",
              "        async function convertToInteractive(key) {\n",
              "          const element = document.querySelector('#df-1e4a0d1a-0abf-4d00-83fd-582e4866fd70');\n",
              "          const dataTable =\n",
              "            await google.colab.kernel.invokeFunction('convertToInteractive',\n",
              "                                                     [key], {});\n",
              "          if (!dataTable) return;\n",
              "\n",
              "          const docLinkHtml = 'Like what you see? Visit the ' +\n",
              "            '<a target=\"_blank\" href=https://colab.research.google.com/notebooks/data_table.ipynb>data table notebook</a>'\n",
              "            + ' to learn more about interactive tables.';\n",
              "          element.innerHTML = '';\n",
              "          dataTable['output_type'] = 'display_data';\n",
              "          await google.colab.output.renderOutput(dataTable, element);\n",
              "          const docLink = document.createElement('div');\n",
              "          docLink.innerHTML = docLinkHtml;\n",
              "          element.appendChild(docLink);\n",
              "        }\n",
              "      </script>\n",
              "    </div>\n",
              "  </div>\n",
              "  "
            ]
          },
          "metadata": {},
          "execution_count": 44
        }
      ]
    },
    {
      "cell_type": "code",
      "source": [
        "# Separate labels and features\n",
        "train_features = train_dataset.copy()\n",
        "test_features = test_dataset.copy()\n",
        "\n",
        "train_labels = train_features.pop(\"E_mu\")\n",
        "test_labels = test_features.pop(\"E_mu\")"
      ],
      "metadata": {
        "id": "-pmMFpZtf6YA"
      },
      "execution_count": 45,
      "outputs": []
    },
    {
      "cell_type": "code",
      "source": [
        "print(train_features)\n",
        "print(test_features)\n",
        "print(train_labels)\n",
        "print(test_labels)"
      ],
      "metadata": {
        "id": "NzWPCLzMg8K0",
        "colab": {
          "base_uri": "https://localhost:8080/"
        },
        "outputId": "355c91ec-7d38-4f02-d80f-6908fa697cb0"
      },
      "execution_count": 46,
      "outputs": [
        {
          "output_type": "stream",
          "name": "stdout",
          "text": [
            "       Theta_e  Theta_mu       Emu_p      Ee_p\n",
            "3582     0.032  0.003067   35.037446  0.963064\n",
            "60498    0.048  0.000178  604.557434  0.443076\n",
            "53227    0.027  0.000211  531.102516  1.397994\n",
            "21333    0.033  0.000516  212.566520  0.933990\n",
            "3885     0.035  0.002812   38.188633  0.811877\n",
            "...        ...       ...         ...       ...\n",
            "27389    0.039  0.000398  273.330462  0.670048\n",
            "8871     0.021  0.001308   86.749052  2.251458\n",
            "47812    0.012  0.000284  471.509520  6.990990\n",
            "4539     0.039  0.002394   44.840837  0.659673\n",
            "51018    0.018  0.000235  507.366140  3.134370\n",
            "\n",
            "[80000 rows x 4 columns]\n",
            "       Theta_e  Theta_mu       Emu_p      Ee_p\n",
            "2        0.002  0.213165    0.479141  0.021369\n",
            "10       0.010  0.213165    0.479183  0.021327\n",
            "13       0.013  0.213165    0.479214  0.021296\n",
            "20       0.020  0.213167    0.479316  0.021194\n",
            "21       0.021  0.213167    0.479334  0.021176\n",
            "...        ...       ...         ...       ...\n",
            "99966    0.016  0.000124  996.024539  3.975971\n",
            "99971    0.021  0.000116  997.688636  2.311874\n",
            "99973    0.023  0.000115  998.072498  1.928012\n",
            "99977    0.027  0.000112  998.600743  1.399767\n",
            "99978    0.028  0.000112  998.698824  1.301686\n",
            "\n",
            "[20000 rows x 4 columns]\n",
            "3582      36.0\n",
            "60498    605.0\n",
            "53227    532.5\n",
            "21333    213.5\n",
            "3885      39.0\n",
            "         ...  \n",
            "27389    274.0\n",
            "8871      89.0\n",
            "47812    478.5\n",
            "4539      45.5\n",
            "51018    510.5\n",
            "Name: E_mu, Length: 80000, dtype: float64\n",
            "2           0.5\n",
            "10          0.5\n",
            "13          0.5\n",
            "20          0.5\n",
            "21          0.5\n",
            "          ...  \n",
            "99966    1000.0\n",
            "99971    1000.0\n",
            "99973    1000.0\n",
            "99977    1000.0\n",
            "99978    1000.0\n",
            "Name: E_mu, Length: 20000, dtype: float64\n"
          ]
        }
      ]
    },
    {
      "cell_type": "code",
      "source": [
        "#normalisation\n",
        "from sklearn.preprocessing import StandardScaler\n",
        "feature_scaler = StandardScaler()\n",
        "label_scaler = StandardScaler()\n",
        "# Fit on Training Data\n",
        "feature_scaler.fit(train_features.values)\n",
        "label_scaler.fit(train_labels.values.reshape(-1, 1))"
      ],
      "metadata": {
        "id": "G1f0Vu03vWYX",
        "colab": {
          "base_uri": "https://localhost:8080/",
          "height": 75
        },
        "outputId": "a6f4b9f8-5843-47cf-fa1a-d104f08ffbc5"
      },
      "execution_count": 47,
      "outputs": [
        {
          "output_type": "execute_result",
          "data": {
            "text/plain": [
              "StandardScaler()"
            ],
            "text/html": [
              "<style>#sk-container-id-3 {color: black;background-color: white;}#sk-container-id-3 pre{padding: 0;}#sk-container-id-3 div.sk-toggleable {background-color: white;}#sk-container-id-3 label.sk-toggleable__label {cursor: pointer;display: block;width: 100%;margin-bottom: 0;padding: 0.3em;box-sizing: border-box;text-align: center;}#sk-container-id-3 label.sk-toggleable__label-arrow:before {content: \"▸\";float: left;margin-right: 0.25em;color: #696969;}#sk-container-id-3 label.sk-toggleable__label-arrow:hover:before {color: black;}#sk-container-id-3 div.sk-estimator:hover label.sk-toggleable__label-arrow:before {color: black;}#sk-container-id-3 div.sk-toggleable__content {max-height: 0;max-width: 0;overflow: hidden;text-align: left;background-color: #f0f8ff;}#sk-container-id-3 div.sk-toggleable__content pre {margin: 0.2em;color: black;border-radius: 0.25em;background-color: #f0f8ff;}#sk-container-id-3 input.sk-toggleable__control:checked~div.sk-toggleable__content {max-height: 200px;max-width: 100%;overflow: auto;}#sk-container-id-3 input.sk-toggleable__control:checked~label.sk-toggleable__label-arrow:before {content: \"▾\";}#sk-container-id-3 div.sk-estimator input.sk-toggleable__control:checked~label.sk-toggleable__label {background-color: #d4ebff;}#sk-container-id-3 div.sk-label input.sk-toggleable__control:checked~label.sk-toggleable__label {background-color: #d4ebff;}#sk-container-id-3 input.sk-hidden--visually {border: 0;clip: rect(1px 1px 1px 1px);clip: rect(1px, 1px, 1px, 1px);height: 1px;margin: -1px;overflow: hidden;padding: 0;position: absolute;width: 1px;}#sk-container-id-3 div.sk-estimator {font-family: monospace;background-color: #f0f8ff;border: 1px dotted black;border-radius: 0.25em;box-sizing: border-box;margin-bottom: 0.5em;}#sk-container-id-3 div.sk-estimator:hover {background-color: #d4ebff;}#sk-container-id-3 div.sk-parallel-item::after {content: \"\";width: 100%;border-bottom: 1px solid gray;flex-grow: 1;}#sk-container-id-3 div.sk-label:hover label.sk-toggleable__label {background-color: #d4ebff;}#sk-container-id-3 div.sk-serial::before {content: \"\";position: absolute;border-left: 1px solid gray;box-sizing: border-box;top: 0;bottom: 0;left: 50%;z-index: 0;}#sk-container-id-3 div.sk-serial {display: flex;flex-direction: column;align-items: center;background-color: white;padding-right: 0.2em;padding-left: 0.2em;position: relative;}#sk-container-id-3 div.sk-item {position: relative;z-index: 1;}#sk-container-id-3 div.sk-parallel {display: flex;align-items: stretch;justify-content: center;background-color: white;position: relative;}#sk-container-id-3 div.sk-item::before, #sk-container-id-3 div.sk-parallel-item::before {content: \"\";position: absolute;border-left: 1px solid gray;box-sizing: border-box;top: 0;bottom: 0;left: 50%;z-index: -1;}#sk-container-id-3 div.sk-parallel-item {display: flex;flex-direction: column;z-index: 1;position: relative;background-color: white;}#sk-container-id-3 div.sk-parallel-item:first-child::after {align-self: flex-end;width: 50%;}#sk-container-id-3 div.sk-parallel-item:last-child::after {align-self: flex-start;width: 50%;}#sk-container-id-3 div.sk-parallel-item:only-child::after {width: 0;}#sk-container-id-3 div.sk-dashed-wrapped {border: 1px dashed gray;margin: 0 0.4em 0.5em 0.4em;box-sizing: border-box;padding-bottom: 0.4em;background-color: white;}#sk-container-id-3 div.sk-label label {font-family: monospace;font-weight: bold;display: inline-block;line-height: 1.2em;}#sk-container-id-3 div.sk-label-container {text-align: center;}#sk-container-id-3 div.sk-container {/* jupyter's `normalize.less` sets `[hidden] { display: none; }` but bootstrap.min.css set `[hidden] { display: none !important; }` so we also need the `!important` here to be able to override the default hidden behavior on the sphinx rendered scikit-learn.org. See: https://github.com/scikit-learn/scikit-learn/issues/21755 */display: inline-block !important;position: relative;}#sk-container-id-3 div.sk-text-repr-fallback {display: none;}</style><div id=\"sk-container-id-3\" class=\"sk-top-container\"><div class=\"sk-text-repr-fallback\"><pre>StandardScaler()</pre><b>In a Jupyter environment, please rerun this cell to show the HTML representation or trust the notebook. <br />On GitHub, the HTML representation is unable to render, please try loading this page with nbviewer.org.</b></div><div class=\"sk-container\" hidden><div class=\"sk-item\"><div class=\"sk-estimator sk-toggleable\"><input class=\"sk-toggleable__control sk-hidden--visually\" id=\"sk-estimator-id-3\" type=\"checkbox\" checked><label for=\"sk-estimator-id-3\" class=\"sk-toggleable__label sk-toggleable__label-arrow\">StandardScaler</label><div class=\"sk-toggleable__content\"><pre>StandardScaler()</pre></div></div></div></div></div>"
            ]
          },
          "metadata": {},
          "execution_count": 47
        }
      ]
    },
    {
      "cell_type": "code",
      "source": [
        "# Transform both training and testing data\n",
        "train_features = feature_scaler.transform(train_features.values)\n",
        "test_features = feature_scaler.transform(test_features.values)\n",
        "train_labels = label_scaler.transform(train_labels.values.reshape(-1, 1))\n",
        "test_labels = label_scaler.transform(test_labels.values.reshape(-1, 1))"
      ],
      "metadata": {
        "id": "2nH8uVt50dSK"
      },
      "execution_count": 48,
      "outputs": []
    },
    {
      "cell_type": "code",
      "source": [
        "# Now let's create a Deep Neural Network to train a regression model on our data.\n",
        "model = Sequential([\n",
        "    layers.Dense(32, activation='relu'),\n",
        "    layers.Dense(64, activation='relu'),\n",
        "    layers.Dense(32, activation='relu'),\n",
        "    layers.Dense(1)\n",
        "])\n"
      ],
      "metadata": {
        "id": "xV1JCEfS0iAn"
      },
      "execution_count": 49,
      "outputs": []
    },
    {
      "cell_type": "code",
      "source": [
        "tf.keras.optimizers.Adam(\n",
        "    learning_rate=0.001,\n",
        "    beta_1=0.9,\n",
        "    beta_2=0.999,\n",
        "    epsilon=1e-07,\n",
        "    amsgrad=False,\n",
        "    weight_decay=None,\n",
        "    clipnorm=None,\n",
        "    clipvalue=None,\n",
        "    global_clipnorm=None,\n",
        "    use_ema=False,\n",
        "    ema_momentum=0.99,\n",
        "    ema_overwrite_frequency=None,\n",
        "    jit_compile=True,\n",
        "    name='Adam',\n",
        "    \n",
        ")\n"
      ],
      "metadata": {
        "id": "A3Jo2PqONTnq",
        "colab": {
          "base_uri": "https://localhost:8080/"
        },
        "outputId": "e6c8cc41-adba-4d2c-cedb-3d8423415cd9"
      },
      "execution_count": 50,
      "outputs": [
        {
          "output_type": "execute_result",
          "data": {
            "text/plain": [
              "<keras.optimizers.adam.Adam at 0x7fa4c5ab8a00>"
            ]
          },
          "metadata": {},
          "execution_count": 50
        }
      ]
    },
    {
      "cell_type": "code",
      "source": [
        "model.compile(optimizer=\"Adam\",\n",
        "               loss=\"mean_squared_error\")"
      ],
      "metadata": {
        "id": "MSO8Oy5-Nu1j"
      },
      "execution_count": 51,
      "outputs": []
    },
    {
      "cell_type": "code",
      "source": [
        "# Now let's train the model\n",
        "history = model.fit(epochs=100, x=train_features, y=train_labels,\n",
        "          validation_data=(test_features, test_labels), verbose=0)"
      ],
      "metadata": {
        "id": "uPuZLUJq2eGv"
      },
      "execution_count": 52,
      "outputs": []
    },
    {
      "cell_type": "code",
      "source": [
        "# Function to plot loss\n",
        "def plot_loss(history):\n",
        "    plt.plot(history.history['loss'], label='loss')\n",
        "    plt.plot(history.history['val_loss'], label='val_loss')\n",
        "    plt.ylim([0,10])\n",
        "    plt.xlabel('Epoch')\n",
        "    plt.ylabel('Error (Loss)')\n",
        "    plt.legend()\n",
        "    plt.grid(True)"
      ],
      "metadata": {
        "id": "rqKuq_lu69Y6"
      },
      "execution_count": 53,
      "outputs": []
    },
    {
      "cell_type": "code",
      "source": [
        "plot_loss(history)"
      ],
      "metadata": {
        "id": "0-GCihem7Gkv",
        "colab": {
          "base_uri": "https://localhost:8080/",
          "height": 455
        },
        "outputId": "944f8a35-7aa3-4320-ff93-8cff912a597a"
      },
      "execution_count": 54,
      "outputs": [
        {
          "output_type": "display_data",
          "data": {
            "text/plain": [
              "<Figure size 640x480 with 1 Axes>"
            ],
            "image/png": "[encoded data removed]"
          },
          "metadata": {}
        }
      ]
    },
    {
      "cell_type": "code",
      "source": [
        "# Model evaluation on testing dataset\n",
        "model.evaluate(test_features, test_labels)"
      ],
      "metadata": {
        "id": "EsfkVM147NZ0",
        "colab": {
          "base_uri": "https://localhost:8080/"
        },
        "outputId": "e7819281-f23d-4ec6-b0ed-f06a19802b34"
      },
      "execution_count": 55,
      "outputs": [
        {
          "output_type": "stream",
          "name": "stdout",
          "text": [
            "625/625 [==============================] - 1s 1ms/step - loss: 3.7289e-08\n"
          ]
        },
        {
          "output_type": "execute_result",
          "data": {
            "text/plain": [
              "3.728895237031793e-08"
            ]
          },
          "metadata": {},
          "execution_count": 55
        }
      ]
    },
    {
      "cell_type": "code",
      "source": [
        "#Save model \n",
        "model.save(\"correct_ML_mdl.h5\")"
      ],
      "metadata": {
        "id": "Z7vxo9H_7b6T"
      },
      "execution_count": null,
      "outputs": []
    },
    {
      "cell_type": "code",
      "source": [
        "# Load and perform predictions\n",
        "results = model.predict(test_features)"
      ],
      "metadata": {
        "id": "x8OjkTGA7sQX",
        "colab": {
          "base_uri": "https://localhost:8080/"
        },
        "outputId": "cba72b0e-4f3b-46aa-fb9c-6baedfab7fc7"
      },
      "execution_count": 56,
      "outputs": [
        {
          "output_type": "stream",
          "name": "stdout",
          "text": [
            "625/625 [==============================] - 1s 1ms/step\n"
          ]
        }
      ]
    },
    {
      "cell_type": "code",
      "source": [
        "# We can decode using the scikit-learn object to get the result\n",
        "decoded_result = label_scaler.inverse_transform(results.reshape(-1,1))\n",
        "print(decoded_result)\n",
        "print(decoded_result.shape)\n",
        "decoded_testlabels =label_scaler.inverse_transform(test_labels)"
      ],
      "metadata": {
        "id": "sXDgvdfI8ULC",
        "colab": {
          "base_uri": "https://localhost:8080/"
        },
        "outputId": "9f805313-eacd-4b4f-d9c4-a5088bd67bb4"
      },
      "execution_count": 57,
      "outputs": [
        {
          "output_type": "stream",
          "name": "stdout",
          "text": [
            "[[4.9248019e-01]\n",
            " [4.9540988e-01]\n",
            " [4.9653903e-01]\n",
            " ...\n",
            " [9.9995166e+02]\n",
            " [9.9995514e+02]\n",
            " [9.9995605e+02]]\n",
            "(20000, 1)\n"
          ]
        }
      ]
    },
    {
      "cell_type": "code",
      "source": [
        "plt.scatter(decoded_testlabels, decoded_result, s=3)\n",
        "plt.title(\"Muon Energy Graph\")\n",
        "plt.xlabel(\"Energy calculated (GeV)\")\n",
        "plt.ylabel(\"Predicted Energy (GeV)\")"
      ],
      "metadata": {
        "colab": {
          "base_uri": "https://localhost:8080/",
          "height": 489
        },
        "id": "Cap1Ljka87Hh",
        "outputId": "2b705028-f118-4962-8b27-b753297a4e4b"
      },
      "execution_count": 58,
      "outputs": [
        {
          "output_type": "execute_result",
          "data": {
            "text/plain": [
              "Text(0, 0.5, 'Predicted Energy (GeV)')"
            ]
          },
          "metadata": {},
          "execution_count": 58
        },
        {
          "output_type": "display_data",
          "data": {
            "text/plain": [
              "<Figure size 640x480 with 1 Axes>"
            ],
            "image/png": "[encoded data removed]"
          },
          "metadata": {}
        }
      ]
    },
    {
      "cell_type": "code",
      "source": [
        "def gauss(x,amp,mu,sigma):\n",
        "    return (amp/np.sqrt(sigma))*np.exp(-(x-mu)**2 / 2*sigma**2)"
      ],
      "metadata": {
        "id": "0l9NPvtuHueW"
      },
      "execution_count": 59,
      "outputs": []
    },
    {
      "cell_type": "code",
      "source": [
        "diff= decoded_result- decoded_testlabels\n",
        "# plt.hist(diff,bins= 500)"
      ],
      "metadata": {
        "id": "5znFsWR5gATG"
      },
      "execution_count": 60,
      "outputs": []
    },
    {
      "cell_type": "code",
      "source": [
        "x= np.linspace(-0.5,0.5,500)\n",
        "n,bins,patches = plt.hist(diff,bins= 500,range= (-0.5,0.5))#, ); # range= (-0.5,1.5)\n",
        "print(\"This is n==>\",n, bins, patches)\n",
        "y=n \n",
        "print(max(y))\n",
        "popt, pcov = curve_fit(gauss, x,y)#p0= (300,0.0,0.5)) # p0= (amp, mean, satndard deviation)===> guessed\n",
        "y= gauss(x, popt[0], popt[1], popt[2])\n",
        "plt.plot(x,y,color= 'r', linestyle='dashed', label='fit function');\n",
        "print(popt[0],popt[1],popt[2]) # gives actual (amp, mean, standard deviation)\n",
        "# plt.show()"
      ],
      "metadata": {
        "colab": {
          "base_uri": "https://localhost:8080/",
          "height": 1000
        },
        "id": "Oy3CsPA6mB-b",
        "outputId": "908960b3-a6cf-4658-9b10-10ea58e32346"
      },
      "execution_count": 61,
      "outputs": [
        {
          "output_type": "stream",
          "name": "stdout",
          "text": [
            "This is n==> [0.000e+00 0.000e+00 0.000e+00 0.000e+00 0.000e+00 0.000e+00 0.000e+00\n",
            " 1.000e+00 0.000e+00 0.000e+00 0.000e+00 0.000e+00 0.000e+00 1.000e+00\n",
            " 0.000e+00 0.000e+00 0.000e+00 0.000e+00 0.000e+00 0.000e+00 0.000e+00\n",
            " 0.000e+00 0.000e+00 0.000e+00 0.000e+00 0.000e+00 0.000e+00 0.000e+00\n",
            " 0.000e+00 0.000e+00 0.000e+00 0.000e+00 0.000e+00 0.000e+00 0.000e+00\n",
            " 0.000e+00 1.000e+00 0.000e+00 0.000e+00 0.000e+00 0.000e+00 0.000e+00\n",
            " 1.000e+00 0.000e+00 0.000e+00 0.000e+00 0.000e+00 0.000e+00 0.000e+00\n",
            " 0.000e+00 0.000e+00 0.000e+00 0.000e+00 0.000e+00 0.000e+00 1.000e+00\n",
            " 0.000e+00 0.000e+00 0.000e+00 0.000e+00 0.000e+00 0.000e+00 0.000e+00\n",
            " 0.000e+00 0.000e+00 0.000e+00 0.000e+00 0.000e+00 0.000e+00 0.000e+00\n",
            " 0.000e+00 0.000e+00 0.000e+00 1.000e+00 0.000e+00 0.000e+00 1.000e+00\n",
            " 1.000e+00 1.000e+00 0.000e+00 1.000e+00 0.000e+00 1.000e+00 0.000e+00\n",
            " 0.000e+00 0.000e+00 2.000e+00 0.000e+00 1.000e+00 0.000e+00 0.000e+00\n",
            " 0.000e+00 2.000e+00 0.000e+00 1.000e+00 1.000e+00 0.000e+00 0.000e+00\n",
            " 1.000e+00 0.000e+00 1.000e+00 1.000e+00 0.000e+00 0.000e+00 2.000e+00\n",
            " 0.000e+00 1.000e+00 0.000e+00 0.000e+00 3.000e+00 0.000e+00 0.000e+00\n",
            " 1.000e+00 0.000e+00 1.000e+00 1.000e+00 1.000e+00 1.000e+00 1.000e+00\n",
            " 0.000e+00 0.000e+00 1.000e+00 1.000e+00 2.000e+00 2.000e+00 1.000e+00\n",
            " 4.000e+00 1.000e+00 1.000e+00 2.000e+00 1.000e+00 2.000e+00 1.000e+00\n",
            " 0.000e+00 2.000e+00 1.000e+00 1.000e+00 2.000e+00 4.000e+00 3.000e+00\n",
            " 3.000e+00 2.000e+00 1.000e+00 2.000e+00 0.000e+00 1.000e+00 2.000e+00\n",
            " 2.000e+00 0.000e+00 2.000e+00 4.000e+00 5.000e+00 5.000e+00 2.000e+00\n",
            " 4.000e+00 2.000e+00 1.000e+00 1.000e+00 5.000e+00 2.000e+00 1.000e+00\n",
            " 1.000e+00 3.000e+00 4.000e+00 2.000e+00 1.000e+00 0.000e+00 4.000e+00\n",
            " 4.000e+00 5.000e+00 5.000e+00 1.000e+00 5.000e+00 3.000e+00 3.000e+00\n",
            " 7.000e+00 7.000e+00 7.000e+00 2.000e+00 8.000e+00 0.000e+00 8.000e+00\n",
            " 3.000e+00 4.000e+00 1.000e+01 9.000e+00 9.000e+00 1.400e+01 1.800e+01\n",
            " 1.600e+01 1.900e+01 1.700e+01 4.200e+01 2.100e+01 6.000e+00 1.000e+01\n",
            " 1.100e+01 1.200e+01 1.100e+01 8.000e+00 1.500e+01 7.000e+00 1.000e+01\n",
            " 1.100e+01 9.000e+00 1.200e+01 1.000e+01 1.800e+01 1.500e+01 1.000e+01\n",
            " 1.600e+01 1.400e+01 1.700e+01 1.700e+01 1.500e+01 1.600e+01 1.300e+01\n",
            " 1.500e+01 2.300e+01 3.400e+01 5.500e+01 1.020e+02 1.170e+02 1.220e+02\n",
            " 1.750e+02 1.970e+02 2.220e+02 2.500e+02 2.690e+02 3.010e+02 3.780e+02\n",
            " 3.250e+02 3.410e+02 3.890e+02 4.660e+02 4.180e+02 4.330e+02 5.380e+02\n",
            " 6.720e+02 6.580e+02 7.550e+02 7.450e+02 8.980e+02 9.440e+02 9.850e+02\n",
            " 9.970e+02 9.640e+02 1.008e+03 8.400e+02 7.550e+02 6.570e+02 5.830e+02\n",
            " 5.150e+02 3.990e+02 3.430e+02 2.210e+02 1.370e+02 9.000e+01 5.000e+01\n",
            " 2.000e+01 1.900e+01 2.100e+01 1.800e+01 1.100e+01 2.600e+01 2.500e+01\n",
            " 1.600e+01 1.500e+01 1.300e+01 1.600e+01 1.100e+01 2.300e+01 1.400e+01\n",
            " 1.500e+01 1.700e+01 1.200e+01 1.300e+01 1.900e+01 1.900e+01 1.700e+01\n",
            " 1.400e+01 1.300e+01 2.300e+01 2.900e+01 2.000e+01 1.300e+01 1.000e+01\n",
            " 1.700e+01 1.000e+01 1.100e+01 1.300e+01 1.100e+01 1.000e+01 6.000e+00\n",
            " 1.000e+01 1.300e+01 5.000e+00 8.000e+00 1.000e+01 8.000e+00 1.000e+01\n",
            " 5.000e+00 9.000e+00 1.000e+01 7.000e+00 7.000e+00 8.000e+00 2.000e+00\n",
            " 4.000e+00 6.000e+00 4.000e+00 7.000e+00 5.000e+00 6.000e+00 5.000e+00\n",
            " 1.600e+01 7.000e+00 1.500e+01 4.000e+00 2.000e+00 3.000e+00 7.000e+00\n",
            " 2.000e+00 5.000e+00 6.000e+00 4.000e+00 5.000e+00 4.000e+00 2.000e+00\n",
            " 4.000e+00 7.000e+00 9.000e+00 2.000e+00 4.000e+00 2.000e+00 7.000e+00\n",
            " 6.000e+00 5.000e+00 5.000e+00 1.600e+01 1.000e+01 0.000e+00 2.000e+00\n",
            " 1.000e+00 2.000e+00 2.000e+00 1.000e+00 3.000e+00 0.000e+00 3.000e+00\n",
            " 2.000e+00 0.000e+00 0.000e+00 1.000e+00 2.000e+00 1.000e+00 0.000e+00\n",
            " 3.000e+00 1.000e+00 0.000e+00 2.000e+00 0.000e+00 0.000e+00 0.000e+00\n",
            " 1.000e+00 0.000e+00 1.000e+00 1.000e+00 0.000e+00 0.000e+00 2.000e+00\n",
            " 0.000e+00 0.000e+00 2.000e+00 0.000e+00 0.000e+00 0.000e+00 0.000e+00\n",
            " 0.000e+00 0.000e+00 0.000e+00 1.000e+00 1.000e+00 1.000e+00 1.000e+00\n",
            " 0.000e+00 1.000e+00 1.000e+00 1.000e+00 0.000e+00 0.000e+00 1.000e+00\n",
            " 1.000e+00 0.000e+00 1.000e+00 1.000e+00 0.000e+00 0.000e+00 0.000e+00\n",
            " 0.000e+00 0.000e+00 0.000e+00 1.000e+00 1.000e+00 1.000e+00 0.000e+00\n",
            " 0.000e+00 1.000e+00 0.000e+00 0.000e+00 1.000e+00 1.000e+00 1.000e+00\n",
            " 0.000e+00 0.000e+00 1.000e+00 1.000e+00 4.000e+00 0.000e+00 0.000e+00\n",
            " 0.000e+00 1.000e+00 0.000e+00 0.000e+00 0.000e+00 0.000e+00 0.000e+00\n",
            " 0.000e+00 0.000e+00 1.000e+00 0.000e+00 0.000e+00 1.000e+00 0.000e+00\n",
            " 0.000e+00 0.000e+00 0.000e+00 0.000e+00 0.000e+00 0.000e+00 0.000e+00\n",
            " 0.000e+00 2.000e+00 0.000e+00 0.000e+00 0.000e+00 0.000e+00 1.000e+00\n",
            " 0.000e+00 0.000e+00 0.000e+00 0.000e+00 0.000e+00 0.000e+00 0.000e+00\n",
            " 0.000e+00 0.000e+00 0.000e+00 0.000e+00 0.000e+00 0.000e+00 0.000e+00\n",
            " 2.000e+00 1.000e+00 0.000e+00 1.000e+00 0.000e+00 1.000e+00 0.000e+00\n",
            " 0.000e+00 0.000e+00 0.000e+00 0.000e+00 0.000e+00 0.000e+00 0.000e+00\n",
            " 0.000e+00 0.000e+00 0.000e+00 0.000e+00 0.000e+00 0.000e+00 1.000e+00\n",
            " 0.000e+00 0.000e+00 0.000e+00 0.000e+00 0.000e+00 0.000e+00 1.000e+00\n",
            " 0.000e+00 0.000e+00 0.000e+00 0.000e+00 0.000e+00 0.000e+00 0.000e+00\n",
            " 0.000e+00 0.000e+00 0.000e+00] [-0.5   -0.498 -0.496 -0.494 -0.492 -0.49  -0.488 -0.486 -0.484 -0.482\n",
            " -0.48  -0.478 -0.476 -0.474 -0.472 -0.47  -0.468 -0.466 -0.464 -0.462\n",
            " -0.46  -0.458 -0.456 -0.454 -0.452 -0.45  -0.448 -0.446 -0.444 -0.442\n",
            " -0.44  -0.438 -0.436 -0.434 -0.432 -0.43  -0.428 -0.426 -0.424 -0.422\n",
            " -0.42  -0.418 -0.416 -0.414 -0.412 -0.41  -0.408 -0.406 -0.404 -0.402\n",
            " -0.4   -0.398 -0.396 -0.394 -0.392 -0.39  -0.388 -0.386 -0.384 -0.382\n",
            " -0.38  -0.378 -0.376 -0.374 -0.372 -0.37  -0.368 -0.366 -0.364 -0.362\n",
            " -0.36  -0.358 -0.356 -0.354 -0.352 -0.35  -0.348 -0.346 -0.344 -0.342\n",
            " -0.34  -0.338 -0.336 -0.334 -0.332 -0.33  -0.328 -0.326 -0.324 -0.322\n",
            " -0.32  -0.318 -0.316 -0.314 -0.312 -0.31  -0.308 -0.306 -0.304 -0.302\n",
            " -0.3   -0.298 -0.296 -0.294 -0.292 -0.29  -0.288 -0.286 -0.284 -0.282\n",
            " -0.28  -0.278 -0.276 -0.274 -0.272 -0.27  -0.268 -0.266 -0.264 -0.262\n",
            " -0.26  -0.258 -0.256 -0.254 -0.252 -0.25  -0.248 -0.246 -0.244 -0.242\n",
            " -0.24  -0.238 -0.236 -0.234 -0.232 -0.23  -0.228 -0.226 -0.224 -0.222\n",
            " -0.22  -0.218 -0.216 -0.214 -0.212 -0.21  -0.208 -0.206 -0.204 -0.202\n",
            " -0.2   -0.198 -0.196 -0.194 -0.192 -0.19  -0.188 -0.186 -0.184 -0.182\n",
            " -0.18  -0.178 -0.176 -0.174 -0.172 -0.17  -0.168 -0.166 -0.164 -0.162\n",
            " -0.16  -0.158 -0.156 -0.154 -0.152 -0.15  -0.148 -0.146 -0.144 -0.142\n",
            " -0.14  -0.138 -0.136 -0.134 -0.132 -0.13  -0.128 -0.126 -0.124 -0.122\n",
            " -0.12  -0.118 -0.116 -0.114 -0.112 -0.11  -0.108 -0.106 -0.104 -0.102\n",
            " -0.1   -0.098 -0.096 -0.094 -0.092 -0.09  -0.088 -0.086 -0.084 -0.082\n",
            " -0.08  -0.078 -0.076 -0.074 -0.072 -0.07  -0.068 -0.066 -0.064 -0.062\n",
            " -0.06  -0.058 -0.056 -0.054 -0.052 -0.05  -0.048 -0.046 -0.044 -0.042\n",
            " -0.04  -0.038 -0.036 -0.034 -0.032 -0.03  -0.028 -0.026 -0.024 -0.022\n",
            " -0.02  -0.018 -0.016 -0.014 -0.012 -0.01  -0.008 -0.006 -0.004 -0.002\n",
            "  0.     0.002  0.004  0.006  0.008  0.01   0.012  0.014  0.016  0.018\n",
            "  0.02   0.022  0.024  0.026  0.028  0.03   0.032  0.034  0.036  0.038\n",
            "  0.04   0.042  0.044  0.046  0.048  0.05   0.052  0.054  0.056  0.058\n",
            "  0.06   0.062  0.064  0.066  0.068  0.07   0.072  0.074  0.076  0.078\n",
            "  0.08   0.082  0.084  0.086  0.088  0.09   0.092  0.094  0.096  0.098\n",
            "  0.1    0.102  0.104  0.106  0.108  0.11   0.112  0.114  0.116  0.118\n",
            "  0.12   0.122  0.124  0.126  0.128  0.13   0.132  0.134  0.136  0.138\n",
            "  0.14   0.142  0.144  0.146  0.148  0.15   0.152  0.154  0.156  0.158\n",
            "  0.16   0.162  0.164  0.166  0.168  0.17   0.172  0.174  0.176  0.178\n",
            "  0.18   0.182  0.184  0.186  0.188  0.19   0.192  0.194  0.196  0.198\n",
            "  0.2    0.202  0.204  0.206  0.208  0.21   0.212  0.214  0.216  0.218\n",
            "  0.22   0.222  0.224  0.226  0.228  0.23   0.232  0.234  0.236  0.238\n",
            "  0.24   0.242  0.244  0.246  0.248  0.25   0.252  0.254  0.256  0.258\n",
            "  0.26   0.262  0.264  0.266  0.268  0.27   0.272  0.274  0.276  0.278\n",
            "  0.28   0.282  0.284  0.286  0.288  0.29   0.292  0.294  0.296  0.298\n",
            "  0.3    0.302  0.304  0.306  0.308  0.31   0.312  0.314  0.316  0.318\n",
            "  0.32   0.322  0.324  0.326  0.328  0.33   0.332  0.334  0.336  0.338\n",
            "  0.34   0.342  0.344  0.346  0.348  0.35   0.352  0.354  0.356  0.358\n",
            "  0.36   0.362  0.364  0.366  0.368  0.37   0.372  0.374  0.376  0.378\n",
            "  0.38   0.382  0.384  0.386  0.388  0.39   0.392  0.394  0.396  0.398\n",
            "  0.4    0.402  0.404  0.406  0.408  0.41   0.412  0.414  0.416  0.418\n",
            "  0.42   0.422  0.424  0.426  0.428  0.43   0.432  0.434  0.436  0.438\n",
            "  0.44   0.442  0.444  0.446  0.448  0.45   0.452  0.454  0.456  0.458\n",
            "  0.46   0.462  0.464  0.466  0.468  0.47   0.472  0.474  0.476  0.478\n",
            "  0.48   0.482  0.484  0.486  0.488  0.49   0.492  0.494  0.496  0.498\n",
            "  0.5  ] <BarContainer object of 500 artists>\n",
            "1008.0\n",
            "7321.725781470259 -0.012228328427721516 63.76377999864052\n"
          ]
        },
        {
          "output_type": "stream",
          "name": "stderr",
          "text": [
            "<ipython-input-59-679ff3a10ba0>:2: RuntimeWarning: invalid value encountered in sqrt\n",
            "  return (amp/np.sqrt(sigma))*np.exp(-(x-mu)**2 / 2*sigma**2)\n"
          ]
        },
        {
          "output_type": "display_data",
          "data": {
            "text/plain": [
              "<Figure size 640x480 with 1 Axes>"
            ],
            "image/png": "[encoded data removed]"
          },
          "metadata": {}
        }
      ]
    }
  ]
}