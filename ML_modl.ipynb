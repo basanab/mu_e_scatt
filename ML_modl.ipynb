{
  "nbformat": 4,
  "nbformat_minor": 0,
  "metadata": {
    "colab": {
      "provenance": [],
      "mount_file_id": "1WMEA-MjT-UtszBE3jbmVmazP0YkCumG2",
      "authorship_tag": "ABX9TyN5l2eSsPJWyEuWF6iPIThy",
      "include_colab_link": true
    },
    "kernelspec": {
      "name": "python3",
      "display_name": "Python 3"
    },
    "language_info": {
      "name": "python"
    },
    "gpuClass": "standard"
  },
  "cells": [
    {
      "cell_type": "markdown",
      "metadata": {
        "id": "view-in-github",
        "colab_type": "text"
      },
      "source": [
        "<a href=\"https://colab.research.google.com/github/basanab/mu_e_scatt/blob/main/ML_modl.ipynb\" target=\"_parent\"><img src=\"https://colab.research.google.com/assets/colab-badge.svg\" alt=\"Open In Colab\"/></a>"
      ]
    },
    {
      "cell_type": "code",
      "source": [
        "import numpy as np\n",
        "import matplotlib.pyplot as plt\n",
        "import pandas as pd\n",
        "import tensorflow as tf\n",
        "from tensorflow import keras\n",
        "from tensorflow.keras import layers\n",
        "from tensorflow.keras import Sequential\n",
        "from tensorflow.keras import optimizers\n",
        "from tensorflow.keras.models import Model\n",
        "from tensorflow.keras.models import load_model\n",
        "from scipy.optimize import curve_fit \n"
      ],
      "metadata": {
        "id": "CtW7KZPgdSTr"
      },
      "execution_count": 38,
      "outputs": []
    },
    {
      "cell_type": "code",
      "execution_count": 3,
      "metadata": {
        "id": "35z5KleUbb2R",
        "colab": {
          "base_uri": "https://localhost:8080/",
          "height": 424
        },
        "outputId": "8f986f0c-34d8-4974-d566-e99466a5216d"
      },
      "outputs": [
        {
          "output_type": "execute_result",
          "data": {
            "text/plain": [
              "         E_mu  Theta_e  Theta_mu       Emu_p      Ee_p\n",
              "0         0.5    0.000  0.000000    0.478659  0.021841\n",
              "1         0.5    0.001  0.000047    0.478659  0.021841\n",
              "2         0.5    0.002  0.000093    0.478661  0.021839\n",
              "3         0.5    0.003  0.000140    0.478663  0.021837\n",
              "4         0.5    0.004  0.000187    0.478666  0.021834\n",
              "...       ...      ...       ...         ...       ...\n",
              "99995  1000.0    0.045  0.000022  999.507086  0.493414\n",
              "99996  1000.0    0.046  0.000022  999.528302  0.472198\n",
              "99997  1000.0    0.047  0.000021  999.548180  0.452320\n",
              "99998  1000.0    0.048  0.000021  999.566829  0.433671\n",
              "99999  1000.0    0.049  0.000020  999.584348  0.416152\n",
              "\n",
              "[100000 rows x 5 columns]"
            ],
            "text/html": [
              "\n",
              "  <div id=\"df-4709086f-cf33-4866-b41c-6e0c2c53bcf9\">\n",
              "    <div class=\"colab-df-container\">\n",
              "      <div>\n",
              "<style scoped>\n",
              "    .dataframe tbody tr th:only-of-type {\n",
              "        vertical-align: middle;\n",
              "    }\n",
              "\n",
              "    .dataframe tbody tr th {\n",
              "        vertical-align: top;\n",
              "    }\n",
              "\n",
              "    .dataframe thead th {\n",
              "        text-align: right;\n",
              "    }\n",
              "</style>\n",
              "<table border=\"1\" class=\"dataframe\">\n",
              "  <thead>\n",
              "    <tr style=\"text-align: right;\">\n",
              "      <th></th>\n",
              "      <th>E_mu</th>\n",
              "      <th>Theta_e</th>\n",
              "      <th>Theta_mu</th>\n",
              "      <th>Emu_p</th>\n",
              "      <th>Ee_p</th>\n",
              "    </tr>\n",
              "  </thead>\n",
              "  <tbody>\n",
              "    <tr>\n",
              "      <th>0</th>\n",
              "      <td>0.5</td>\n",
              "      <td>0.000</td>\n",
              "      <td>0.000000</td>\n",
              "      <td>0.478659</td>\n",
              "      <td>0.021841</td>\n",
              "    </tr>\n",
              "    <tr>\n",
              "      <th>1</th>\n",
              "      <td>0.5</td>\n",
              "      <td>0.001</td>\n",
              "      <td>0.000047</td>\n",
              "      <td>0.478659</td>\n",
              "      <td>0.021841</td>\n",
              "    </tr>\n",
              "    <tr>\n",
              "      <th>2</th>\n",
              "      <td>0.5</td>\n",
              "      <td>0.002</td>\n",
              "      <td>0.000093</td>\n",
              "      <td>0.478661</td>\n",
              "      <td>0.021839</td>\n",
              "    </tr>\n",
              "    <tr>\n",
              "      <th>3</th>\n",
              "      <td>0.5</td>\n",
              "      <td>0.003</td>\n",
              "      <td>0.000140</td>\n",
              "      <td>0.478663</td>\n",
              "      <td>0.021837</td>\n",
              "    </tr>\n",
              "    <tr>\n",
              "      <th>4</th>\n",
              "      <td>0.5</td>\n",
              "      <td>0.004</td>\n",
              "      <td>0.000187</td>\n",
              "      <td>0.478666</td>\n",
              "      <td>0.021834</td>\n",
              "    </tr>\n",
              "    <tr>\n",
              "      <th>...</th>\n",
              "      <td>...</td>\n",
              "      <td>...</td>\n",
              "      <td>...</td>\n",
              "      <td>...</td>\n",
              "      <td>...</td>\n",
              "    </tr>\n",
              "    <tr>\n",
              "      <th>99995</th>\n",
              "      <td>1000.0</td>\n",
              "      <td>0.045</td>\n",
              "      <td>0.000022</td>\n",
              "      <td>999.507086</td>\n",
              "      <td>0.493414</td>\n",
              "    </tr>\n",
              "    <tr>\n",
              "      <th>99996</th>\n",
              "      <td>1000.0</td>\n",
              "      <td>0.046</td>\n",
              "      <td>0.000022</td>\n",
              "      <td>999.528302</td>\n",
              "      <td>0.472198</td>\n",
              "    </tr>\n",
              "    <tr>\n",
              "      <th>99997</th>\n",
              "      <td>1000.0</td>\n",
              "      <td>0.047</td>\n",
              "      <td>0.000021</td>\n",
              "      <td>999.548180</td>\n",
              "      <td>0.452320</td>\n",
              "    </tr>\n",
              "    <tr>\n",
              "      <th>99998</th>\n",
              "      <td>1000.0</td>\n",
              "      <td>0.048</td>\n",
              "      <td>0.000021</td>\n",
              "      <td>999.566829</td>\n",
              "      <td>0.433671</td>\n",
              "    </tr>\n",
              "    <tr>\n",
              "      <th>99999</th>\n",
              "      <td>1000.0</td>\n",
              "      <td>0.049</td>\n",
              "      <td>0.000020</td>\n",
              "      <td>999.584348</td>\n",
              "      <td>0.416152</td>\n",
              "    </tr>\n",
              "  </tbody>\n",
              "</table>\n",
              "<p>100000 rows × 5 columns</p>\n",
              "</div>\n",
              "      <button class=\"colab-df-convert\" onclick=\"convertToInteractive('df-4709086f-cf33-4866-b41c-6e0c2c53bcf9')\"\n",
              "              title=\"Convert this dataframe to an interactive table.\"\n",
              "              style=\"display:none;\">\n",
              "        \n",
              "  <svg xmlns=\"http://www.w3.org/2000/svg\" height=\"24px\"viewBox=\"0 0 24 24\"\n",
              "       width=\"24px\">\n",
              "    <path d=\"M0 0h24v24H0V0z\" fill=\"none\"/>\n",
              "    <path d=\"M18.56 5.44l.94 2.06.94-2.06 2.06-.94-2.06-.94-.94-2.06-.94 2.06-2.06.94zm-11 1L8.5 8.5l.94-2.06 2.06-.94-2.06-.94L8.5 2.5l-.94 2.06-2.06.94zm10 10l.94 2.06.94-2.06 2.06-.94-2.06-.94-.94-2.06-.94 2.06-2.06.94z\"/><path d=\"M17.41 7.96l-1.37-1.37c-.4-.4-.92-.59-1.43-.59-.52 0-1.04.2-1.43.59L10.3 9.45l-7.72 7.72c-.78.78-.78 2.05 0 2.83L4 21.41c.39.39.9.59 1.41.59.51 0 1.02-.2 1.41-.59l7.78-7.78 2.81-2.81c.8-.78.8-2.07 0-2.86zM5.41 20L4 18.59l7.72-7.72 1.47 1.35L5.41 20z\"/>\n",
              "  </svg>\n",
              "      </button>\n",
              "      \n",
              "  <style>\n",
              "    .colab-df-container {\n",
              "      display:flex;\n",
              "      flex-wrap:wrap;\n",
              "      gap: 12px;\n",
              "    }\n",
              "\n",
              "    .colab-df-convert {\n",
              "      background-color: #E8F0FE;\n",
              "      border: none;\n",
              "      border-radius: 50%;\n",
              "      cursor: pointer;\n",
              "      display: none;\n",
              "      fill: #1967D2;\n",
              "      height: 32px;\n",
              "      padding: 0 0 0 0;\n",
              "      width: 32px;\n",
              "    }\n",
              "\n",
              "    .colab-df-convert:hover {\n",
              "      background-color: #E2EBFA;\n",
              "      box-shadow: 0px 1px 2px rgba(60, 64, 67, 0.3), 0px 1px 3px 1px rgba(60, 64, 67, 0.15);\n",
              "      fill: #174EA6;\n",
              "    }\n",
              "\n",
              "    [theme=dark] .colab-df-convert {\n",
              "      background-color: #3B4455;\n",
              "      fill: #D2E3FC;\n",
              "    }\n",
              "\n",
              "    [theme=dark] .colab-df-convert:hover {\n",
              "      background-color: #434B5C;\n",
              "      box-shadow: 0px 1px 3px 1px rgba(0, 0, 0, 0.15);\n",
              "      filter: drop-shadow(0px 1px 2px rgba(0, 0, 0, 0.3));\n",
              "      fill: #FFFFFF;\n",
              "    }\n",
              "  </style>\n",
              "\n",
              "      <script>\n",
              "        const buttonEl =\n",
              "          document.querySelector('#df-4709086f-cf33-4866-b41c-6e0c2c53bcf9 button.colab-df-convert');\n",
              "        buttonEl.style.display =\n",
              "          google.colab.kernel.accessAllowed ? 'block' : 'none';\n",
              "\n",
              "        async function convertToInteractive(key) {\n",
              "          const element = document.querySelector('#df-4709086f-cf33-4866-b41c-6e0c2c53bcf9');\n",
              "          const dataTable =\n",
              "            await google.colab.kernel.invokeFunction('convertToInteractive',\n",
              "                                                     [key], {});\n",
              "          if (!dataTable) return;\n",
              "\n",
              "          const docLinkHtml = 'Like what you see? Visit the ' +\n",
              "            '<a target=\"_blank\" href=https://colab.research.google.com/notebooks/data_table.ipynb>data table notebook</a>'\n",
              "            + ' to learn more about interactive tables.';\n",
              "          element.innerHTML = '';\n",
              "          dataTable['output_type'] = 'display_data';\n",
              "          await google.colab.output.renderOutput(dataTable, element);\n",
              "          const docLink = document.createElement('div');\n",
              "          docLink.innerHTML = docLinkHtml;\n",
              "          element.appendChild(docLink);\n",
              "        }\n",
              "      </script>\n",
              "    </div>\n",
              "  </div>\n",
              "  "
            ]
          },
          "metadata": {},
          "execution_count": 3
        }
      ],
      "source": [
        "df=pd.read_excel(\"/content/drive/MyDrive/ColabNotebooks/muon_data.xlsx\")\n",
        "df"
      ]
    },
    {
      "cell_type": "code",
      "source": [
        "# Create a copy for further processing\n",
        "dataset = df.copy()\n",
        "# Check for null values\n",
        "dataset.isna().sum()"
      ],
      "metadata": {
        "id": "ahHkL8KKfNoh",
        "colab": {
          "base_uri": "https://localhost:8080/"
        },
        "outputId": "de3f87eb-6b55-485e-f87b-292b724689cb"
      },
      "execution_count": 17,
      "outputs": [
        {
          "output_type": "execute_result",
          "data": {
            "text/plain": [
              "E_mu        0\n",
              "Theta_e     0\n",
              "Theta_mu    0\n",
              "Emu_p       0\n",
              "Ee_p        0\n",
              "dtype: int64"
            ]
          },
          "metadata": {},
          "execution_count": 17
        }
      ]
    },
    {
      "cell_type": "code",
      "source": [
        "# Split the Dataset and create train and test sets\n",
        "train_dataset = dataset.sample(frac=0.8, random_state=0)\n",
        "test_dataset = dataset.drop(train_dataset.index)\n",
        "\n",
        "print(dataset.shape, train_dataset.shape, test_dataset.shape)\n",
        "train_dataset.describe().transpose()"
      ],
      "metadata": {
        "id": "klSf4W4BfuSW",
        "colab": {
          "base_uri": "https://localhost:8080/",
          "height": 224
        },
        "outputId": "0e15d3a1-c253-44fb-e7c8-dda82076a0c3"
      },
      "execution_count": 18,
      "outputs": [
        {
          "output_type": "stream",
          "name": "stdout",
          "text": [
            "(100000, 5) (80000, 5) (20000, 5)\n"
          ]
        },
        {
          "output_type": "execute_result",
          "data": {
            "text/plain": [
              "            count        mean         std       min         25%         50%  \\\n",
              "E_mu      80000.0  500.062487  288.479844  0.500000  250.500000  500.000000   \n",
              "Theta_e   80000.0    0.024507    0.014416  0.000000    0.012000    0.024000   \n",
              "Theta_mu  80000.0    0.000353    0.000722  0.000000    0.000050    0.000103   \n",
              "Emu_p     80000.0  474.953185  293.400435  0.478659  218.546809  469.755885   \n",
              "Ee_p      80000.0   25.109803   93.816816  0.020753    0.728710    1.596609   \n",
              "\n",
              "                 75%          max  \n",
              "E_mu      749.500000  1000.000000  \n",
              "Theta_e     0.037000     0.049000  \n",
              "Theta_mu    0.000277     0.004831  \n",
              "Emu_p     728.050440   999.584348  \n",
              "Ee_p        6.753889   989.401531  "
            ],
            "text/html": [
              "\n",
              "  <div id=\"df-9dcba46d-db9c-4c86-ad88-b18daf4f94d8\">\n",
              "    <div class=\"colab-df-container\">\n",
              "      <div>\n",
              "<style scoped>\n",
              "    .dataframe tbody tr th:only-of-type {\n",
              "        vertical-align: middle;\n",
              "    }\n",
              "\n",
              "    .dataframe tbody tr th {\n",
              "        vertical-align: top;\n",
              "    }\n",
              "\n",
              "    .dataframe thead th {\n",
              "        text-align: right;\n",
              "    }\n",
              "</style>\n",
              "<table border=\"1\" class=\"dataframe\">\n",
              "  <thead>\n",
              "    <tr style=\"text-align: right;\">\n",
              "      <th></th>\n",
              "      <th>count</th>\n",
              "      <th>mean</th>\n",
              "      <th>std</th>\n",
              "      <th>min</th>\n",
              "      <th>25%</th>\n",
              "      <th>50%</th>\n",
              "      <th>75%</th>\n",
              "      <th>max</th>\n",
              "    </tr>\n",
              "  </thead>\n",
              "  <tbody>\n",
              "    <tr>\n",
              "      <th>E_mu</th>\n",
              "      <td>80000.0</td>\n",
              "      <td>500.062487</td>\n",
              "      <td>288.479844</td>\n",
              "      <td>0.500000</td>\n",
              "      <td>250.500000</td>\n",
              "      <td>500.000000</td>\n",
              "      <td>749.500000</td>\n",
              "      <td>1000.000000</td>\n",
              "    </tr>\n",
              "    <tr>\n",
              "      <th>Theta_e</th>\n",
              "      <td>80000.0</td>\n",
              "      <td>0.024507</td>\n",
              "      <td>0.014416</td>\n",
              "      <td>0.000000</td>\n",
              "      <td>0.012000</td>\n",
              "      <td>0.024000</td>\n",
              "      <td>0.037000</td>\n",
              "      <td>0.049000</td>\n",
              "    </tr>\n",
              "    <tr>\n",
              "      <th>Theta_mu</th>\n",
              "      <td>80000.0</td>\n",
              "      <td>0.000353</td>\n",
              "      <td>0.000722</td>\n",
              "      <td>0.000000</td>\n",
              "      <td>0.000050</td>\n",
              "      <td>0.000103</td>\n",
              "      <td>0.000277</td>\n",
              "      <td>0.004831</td>\n",
              "    </tr>\n",
              "    <tr>\n",
              "      <th>Emu_p</th>\n",
              "      <td>80000.0</td>\n",
              "      <td>474.953185</td>\n",
              "      <td>293.400435</td>\n",
              "      <td>0.478659</td>\n",
              "      <td>218.546809</td>\n",
              "      <td>469.755885</td>\n",
              "      <td>728.050440</td>\n",
              "      <td>999.584348</td>\n",
              "    </tr>\n",
              "    <tr>\n",
              "      <th>Ee_p</th>\n",
              "      <td>80000.0</td>\n",
              "      <td>25.109803</td>\n",
              "      <td>93.816816</td>\n",
              "      <td>0.020753</td>\n",
              "      <td>0.728710</td>\n",
              "      <td>1.596609</td>\n",
              "      <td>6.753889</td>\n",
              "      <td>989.401531</td>\n",
              "    </tr>\n",
              "  </tbody>\n",
              "</table>\n",
              "</div>\n",
              "      <button class=\"colab-df-convert\" onclick=\"convertToInteractive('df-9dcba46d-db9c-4c86-ad88-b18daf4f94d8')\"\n",
              "              title=\"Convert this dataframe to an interactive table.\"\n",
              "              style=\"display:none;\">\n",
              "        \n",
              "  <svg xmlns=\"http://www.w3.org/2000/svg\" height=\"24px\"viewBox=\"0 0 24 24\"\n",
              "       width=\"24px\">\n",
              "    <path d=\"M0 0h24v24H0V0z\" fill=\"none\"/>\n",
              "    <path d=\"M18.56 5.44l.94 2.06.94-2.06 2.06-.94-2.06-.94-.94-2.06-.94 2.06-2.06.94zm-11 1L8.5 8.5l.94-2.06 2.06-.94-2.06-.94L8.5 2.5l-.94 2.06-2.06.94zm10 10l.94 2.06.94-2.06 2.06-.94-2.06-.94-.94-2.06-.94 2.06-2.06.94z\"/><path d=\"M17.41 7.96l-1.37-1.37c-.4-.4-.92-.59-1.43-.59-.52 0-1.04.2-1.43.59L10.3 9.45l-7.72 7.72c-.78.78-.78 2.05 0 2.83L4 21.41c.39.39.9.59 1.41.59.51 0 1.02-.2 1.41-.59l7.78-7.78 2.81-2.81c.8-.78.8-2.07 0-2.86zM5.41 20L4 18.59l7.72-7.72 1.47 1.35L5.41 20z\"/>\n",
              "  </svg>\n",
              "      </button>\n",
              "      \n",
              "  <style>\n",
              "    .colab-df-container {\n",
              "      display:flex;\n",
              "      flex-wrap:wrap;\n",
              "      gap: 12px;\n",
              "    }\n",
              "\n",
              "    .colab-df-convert {\n",
              "      background-color: #E8F0FE;\n",
              "      border: none;\n",
              "      border-radius: 50%;\n",
              "      cursor: pointer;\n",
              "      display: none;\n",
              "      fill: #1967D2;\n",
              "      height: 32px;\n",
              "      padding: 0 0 0 0;\n",
              "      width: 32px;\n",
              "    }\n",
              "\n",
              "    .colab-df-convert:hover {\n",
              "      background-color: #E2EBFA;\n",
              "      box-shadow: 0px 1px 2px rgba(60, 64, 67, 0.3), 0px 1px 3px 1px rgba(60, 64, 67, 0.15);\n",
              "      fill: #174EA6;\n",
              "    }\n",
              "\n",
              "    [theme=dark] .colab-df-convert {\n",
              "      background-color: #3B4455;\n",
              "      fill: #D2E3FC;\n",
              "    }\n",
              "\n",
              "    [theme=dark] .colab-df-convert:hover {\n",
              "      background-color: #434B5C;\n",
              "      box-shadow: 0px 1px 3px 1px rgba(0, 0, 0, 0.15);\n",
              "      filter: drop-shadow(0px 1px 2px rgba(0, 0, 0, 0.3));\n",
              "      fill: #FFFFFF;\n",
              "    }\n",
              "  </style>\n",
              "\n",
              "      <script>\n",
              "        const buttonEl =\n",
              "          document.querySelector('#df-9dcba46d-db9c-4c86-ad88-b18daf4f94d8 button.colab-df-convert');\n",
              "        buttonEl.style.display =\n",
              "          google.colab.kernel.accessAllowed ? 'block' : 'none';\n",
              "\n",
              "        async function convertToInteractive(key) {\n",
              "          const element = document.querySelector('#df-9dcba46d-db9c-4c86-ad88-b18daf4f94d8');\n",
              "          const dataTable =\n",
              "            await google.colab.kernel.invokeFunction('convertToInteractive',\n",
              "                                                     [key], {});\n",
              "          if (!dataTable) return;\n",
              "\n",
              "          const docLinkHtml = 'Like what you see? Visit the ' +\n",
              "            '<a target=\"_blank\" href=https://colab.research.google.com/notebooks/data_table.ipynb>data table notebook</a>'\n",
              "            + ' to learn more about interactive tables.';\n",
              "          element.innerHTML = '';\n",
              "          dataTable['output_type'] = 'display_data';\n",
              "          await google.colab.output.renderOutput(dataTable, element);\n",
              "          const docLink = document.createElement('div');\n",
              "          docLink.innerHTML = docLinkHtml;\n",
              "          element.appendChild(docLink);\n",
              "        }\n",
              "      </script>\n",
              "    </div>\n",
              "  </div>\n",
              "  "
            ]
          },
          "metadata": {},
          "execution_count": 18
        }
      ]
    },
    {
      "cell_type": "code",
      "source": [
        "# # Remove columns not needed\n",
        "# dataset_size2=dataset.drop(['E_mu', 'Emu_p','Ee_p'], axis=1)\n",
        "# dataset_size2.describe().transpose()"
      ],
      "metadata": {
        "colab": {
          "base_uri": "https://localhost:8080/",
          "height": 112
        },
        "id": "IYl3tT3NkIc4",
        "outputId": "e100b46c-cdac-42ef-a62b-d23f4a644b6f"
      },
      "execution_count": 6,
      "outputs": [
        {
          "output_type": "execute_result",
          "data": {
            "text/plain": [
              "             count      mean       std  min      25%       50%       75%  \\\n",
              "Theta_e   100000.0  0.024500  0.014431  0.0  0.01200  0.024500  0.037000   \n",
              "Theta_mu  100000.0  0.000354  0.000723  0.0  0.00005  0.000103  0.000278   \n",
              "\n",
              "               max  \n",
              "Theta_e   0.049000  \n",
              "Theta_mu  0.004831  "
            ],
            "text/html": [
              "\n",
              "  <div id=\"df-882c703d-c718-4a7a-b791-b705e0864481\">\n",
              "    <div class=\"colab-df-container\">\n",
              "      <div>\n",
              "<style scoped>\n",
              "    .dataframe tbody tr th:only-of-type {\n",
              "        vertical-align: middle;\n",
              "    }\n",
              "\n",
              "    .dataframe tbody tr th {\n",
              "        vertical-align: top;\n",
              "    }\n",
              "\n",
              "    .dataframe thead th {\n",
              "        text-align: right;\n",
              "    }\n",
              "</style>\n",
              "<table border=\"1\" class=\"dataframe\">\n",
              "  <thead>\n",
              "    <tr style=\"text-align: right;\">\n",
              "      <th></th>\n",
              "      <th>count</th>\n",
              "      <th>mean</th>\n",
              "      <th>std</th>\n",
              "      <th>min</th>\n",
              "      <th>25%</th>\n",
              "      <th>50%</th>\n",
              "      <th>75%</th>\n",
              "      <th>max</th>\n",
              "    </tr>\n",
              "  </thead>\n",
              "  <tbody>\n",
              "    <tr>\n",
              "      <th>Theta_e</th>\n",
              "      <td>100000.0</td>\n",
              "      <td>0.024500</td>\n",
              "      <td>0.014431</td>\n",
              "      <td>0.0</td>\n",
              "      <td>0.01200</td>\n",
              "      <td>0.024500</td>\n",
              "      <td>0.037000</td>\n",
              "      <td>0.049000</td>\n",
              "    </tr>\n",
              "    <tr>\n",
              "      <th>Theta_mu</th>\n",
              "      <td>100000.0</td>\n",
              "      <td>0.000354</td>\n",
              "      <td>0.000723</td>\n",
              "      <td>0.0</td>\n",
              "      <td>0.00005</td>\n",
              "      <td>0.000103</td>\n",
              "      <td>0.000278</td>\n",
              "      <td>0.004831</td>\n",
              "    </tr>\n",
              "  </tbody>\n",
              "</table>\n",
              "</div>\n",
              "      <button class=\"colab-df-convert\" onclick=\"convertToInteractive('df-882c703d-c718-4a7a-b791-b705e0864481')\"\n",
              "              title=\"Convert this dataframe to an interactive table.\"\n",
              "              style=\"display:none;\">\n",
              "        \n",
              "  <svg xmlns=\"http://www.w3.org/2000/svg\" height=\"24px\"viewBox=\"0 0 24 24\"\n",
              "       width=\"24px\">\n",
              "    <path d=\"M0 0h24v24H0V0z\" fill=\"none\"/>\n",
              "    <path d=\"M18.56 5.44l.94 2.06.94-2.06 2.06-.94-2.06-.94-.94-2.06-.94 2.06-2.06.94zm-11 1L8.5 8.5l.94-2.06 2.06-.94-2.06-.94L8.5 2.5l-.94 2.06-2.06.94zm10 10l.94 2.06.94-2.06 2.06-.94-2.06-.94-.94-2.06-.94 2.06-2.06.94z\"/><path d=\"M17.41 7.96l-1.37-1.37c-.4-.4-.92-.59-1.43-.59-.52 0-1.04.2-1.43.59L10.3 9.45l-7.72 7.72c-.78.78-.78 2.05 0 2.83L4 21.41c.39.39.9.59 1.41.59.51 0 1.02-.2 1.41-.59l7.78-7.78 2.81-2.81c.8-.78.8-2.07 0-2.86zM5.41 20L4 18.59l7.72-7.72 1.47 1.35L5.41 20z\"/>\n",
              "  </svg>\n",
              "      </button>\n",
              "      \n",
              "  <style>\n",
              "    .colab-df-container {\n",
              "      display:flex;\n",
              "      flex-wrap:wrap;\n",
              "      gap: 12px;\n",
              "    }\n",
              "\n",
              "    .colab-df-convert {\n",
              "      background-color: #E8F0FE;\n",
              "      border: none;\n",
              "      border-radius: 50%;\n",
              "      cursor: pointer;\n",
              "      display: none;\n",
              "      fill: #1967D2;\n",
              "      height: 32px;\n",
              "      padding: 0 0 0 0;\n",
              "      width: 32px;\n",
              "    }\n",
              "\n",
              "    .colab-df-convert:hover {\n",
              "      background-color: #E2EBFA;\n",
              "      box-shadow: 0px 1px 2px rgba(60, 64, 67, 0.3), 0px 1px 3px 1px rgba(60, 64, 67, 0.15);\n",
              "      fill: #174EA6;\n",
              "    }\n",
              "\n",
              "    [theme=dark] .colab-df-convert {\n",
              "      background-color: #3B4455;\n",
              "      fill: #D2E3FC;\n",
              "    }\n",
              "\n",
              "    [theme=dark] .colab-df-convert:hover {\n",
              "      background-color: #434B5C;\n",
              "      box-shadow: 0px 1px 3px 1px rgba(0, 0, 0, 0.15);\n",
              "      filter: drop-shadow(0px 1px 2px rgba(0, 0, 0, 0.3));\n",
              "      fill: #FFFFFF;\n",
              "    }\n",
              "  </style>\n",
              "\n",
              "      <script>\n",
              "        const buttonEl =\n",
              "          document.querySelector('#df-882c703d-c718-4a7a-b791-b705e0864481 button.colab-df-convert');\n",
              "        buttonEl.style.display =\n",
              "          google.colab.kernel.accessAllowed ? 'block' : 'none';\n",
              "\n",
              "        async function convertToInteractive(key) {\n",
              "          const element = document.querySelector('#df-882c703d-c718-4a7a-b791-b705e0864481');\n",
              "          const dataTable =\n",
              "            await google.colab.kernel.invokeFunction('convertToInteractive',\n",
              "                                                     [key], {});\n",
              "          if (!dataTable) return;\n",
              "\n",
              "          const docLinkHtml = 'Like what you see? Visit the ' +\n",
              "            '<a target=\"_blank\" href=https://colab.research.google.com/notebooks/data_table.ipynb>data table notebook</a>'\n",
              "            + ' to learn more about interactive tables.';\n",
              "          element.innerHTML = '';\n",
              "          dataTable['output_type'] = 'display_data';\n",
              "          await google.colab.output.renderOutput(dataTable, element);\n",
              "          const docLink = document.createElement('div');\n",
              "          docLink.innerHTML = docLinkHtml;\n",
              "          element.appendChild(docLink);\n",
              "        }\n",
              "      </script>\n",
              "    </div>\n",
              "  </div>\n",
              "  "
            ]
          },
          "metadata": {},
          "execution_count": 6
        }
      ]
    },
    {
      "cell_type": "code",
      "source": [
        "# Separate labels and features\n",
        "train_features = train_dataset.copy()\n",
        "test_features = test_dataset.copy()\n",
        "\n",
        "train_labels = train_features.pop(\"E_mu\")\n",
        "test_labels = test_features.pop(\"E_mu\")"
      ],
      "metadata": {
        "id": "-pmMFpZtf6YA"
      },
      "execution_count": 19,
      "outputs": []
    },
    {
      "cell_type": "code",
      "source": [
        "print(train_features)\n",
        "print(test_features)\n",
        "print(train_labels)\n",
        "print(test_labels)"
      ],
      "metadata": {
        "colab": {
          "base_uri": "https://localhost:8080/"
        },
        "id": "NzWPCLzMg8K0",
        "outputId": "37551048-5f38-471c-fe6d-058ec3863d5c"
      },
      "execution_count": 21,
      "outputs": [
        {
          "output_type": "stream",
          "name": "stdout",
          "text": [
            "       Theta_e  Theta_mu       Emu_p      Ee_p\n",
            "3582     0.032  0.000861   35.057298  0.943202\n",
            "60498    0.048  0.000034  604.566955  0.433545\n",
            "53227    0.027  0.000070  531.132519  1.367981\n",
            "21333    0.033  0.000142  212.586521  0.913979\n",
            "3885     0.035  0.000728   38.205546  0.794954\n",
            "...        ...       ...         ...       ...\n",
            "27389    0.039  0.000094  273.344839  0.655661\n",
            "8871     0.021  0.000533   86.796015  2.204485\n",
            "47812    0.012  0.000174  471.657751  6.842749\n",
            "4539     0.039  0.000561   44.854729  0.645771\n",
            "51018    0.018  0.000109  507.433180  3.067320\n",
            "\n",
            "[80000 rows x 4 columns]\n",
            "       Theta_e  Theta_mu       Emu_p      Ee_p\n",
            "2        0.002  0.000093    0.478661  0.021839\n",
            "10       0.010  0.000466    0.478706  0.021794\n",
            "13       0.013  0.000605    0.478739  0.021761\n",
            "20       0.020  0.000926    0.478848  0.021652\n",
            "21       0.021  0.000971    0.478867  0.021633\n",
            "...        ...       ...         ...       ...\n",
            "99966    0.016  0.000062  996.109777  3.890723\n",
            "99971    0.021  0.000048  997.738277  2.262223\n",
            "99973    0.023  0.000043  998.113912  1.886588\n",
            "99977    0.027  0.000037  998.630823  1.369677\n",
            "99978    0.028  0.000036  998.726798  1.273702\n",
            "\n",
            "[20000 rows x 4 columns]\n",
            "3582      36.0\n",
            "60498    605.0\n",
            "53227    532.5\n",
            "21333    213.5\n",
            "3885      39.0\n",
            "         ...  \n",
            "27389    274.0\n",
            "8871      89.0\n",
            "47812    478.5\n",
            "4539      45.5\n",
            "51018    510.5\n",
            "Name: E_mu, Length: 80000, dtype: float64\n",
            "2           0.5\n",
            "10          0.5\n",
            "13          0.5\n",
            "20          0.5\n",
            "21          0.5\n",
            "          ...  \n",
            "99966    1000.0\n",
            "99971    1000.0\n",
            "99973    1000.0\n",
            "99977    1000.0\n",
            "99978    1000.0\n",
            "Name: E_mu, Length: 20000, dtype: float64\n"
          ]
        }
      ]
    },
    {
      "cell_type": "code",
      "source": [
        "#normalisation\n",
        "from sklearn.preprocessing import StandardScaler\n",
        "feature_scaler = StandardScaler()\n",
        "label_scaler = StandardScaler()\n",
        "# Fit on Training Data\n",
        "feature_scaler.fit(train_features.values)\n",
        "label_scaler.fit(train_labels.values.reshape(-1, 1))"
      ],
      "metadata": {
        "id": "G1f0Vu03vWYX",
        "colab": {
          "base_uri": "https://localhost:8080/",
          "height": 75
        },
        "outputId": "8d3f3788-ddaf-47da-abbe-f10349a3163e"
      },
      "execution_count": 22,
      "outputs": [
        {
          "output_type": "execute_result",
          "data": {
            "text/plain": [
              "StandardScaler()"
            ],
            "text/html": [
              "<style>#sk-container-id-2 {color: black;background-color: white;}#sk-container-id-2 pre{padding: 0;}#sk-container-id-2 div.sk-toggleable {background-color: white;}#sk-container-id-2 label.sk-toggleable__label {cursor: pointer;display: block;width: 100%;margin-bottom: 0;padding: 0.3em;box-sizing: border-box;text-align: center;}#sk-container-id-2 label.sk-toggleable__label-arrow:before {content: \"▸\";float: left;margin-right: 0.25em;color: #696969;}#sk-container-id-2 label.sk-toggleable__label-arrow:hover:before {color: black;}#sk-container-id-2 div.sk-estimator:hover label.sk-toggleable__label-arrow:before {color: black;}#sk-container-id-2 div.sk-toggleable__content {max-height: 0;max-width: 0;overflow: hidden;text-align: left;background-color: #f0f8ff;}#sk-container-id-2 div.sk-toggleable__content pre {margin: 0.2em;color: black;border-radius: 0.25em;background-color: #f0f8ff;}#sk-container-id-2 input.sk-toggleable__control:checked~div.sk-toggleable__content {max-height: 200px;max-width: 100%;overflow: auto;}#sk-container-id-2 input.sk-toggleable__control:checked~label.sk-toggleable__label-arrow:before {content: \"▾\";}#sk-container-id-2 div.sk-estimator input.sk-toggleable__control:checked~label.sk-toggleable__label {background-color: #d4ebff;}#sk-container-id-2 div.sk-label input.sk-toggleable__control:checked~label.sk-toggleable__label {background-color: #d4ebff;}#sk-container-id-2 input.sk-hidden--visually {border: 0;clip: rect(1px 1px 1px 1px);clip: rect(1px, 1px, 1px, 1px);height: 1px;margin: -1px;overflow: hidden;padding: 0;position: absolute;width: 1px;}#sk-container-id-2 div.sk-estimator {font-family: monospace;background-color: #f0f8ff;border: 1px dotted black;border-radius: 0.25em;box-sizing: border-box;margin-bottom: 0.5em;}#sk-container-id-2 div.sk-estimator:hover {background-color: #d4ebff;}#sk-container-id-2 div.sk-parallel-item::after {content: \"\";width: 100%;border-bottom: 1px solid gray;flex-grow: 1;}#sk-container-id-2 div.sk-label:hover label.sk-toggleable__label {background-color: #d4ebff;}#sk-container-id-2 div.sk-serial::before {content: \"\";position: absolute;border-left: 1px solid gray;box-sizing: border-box;top: 0;bottom: 0;left: 50%;z-index: 0;}#sk-container-id-2 div.sk-serial {display: flex;flex-direction: column;align-items: center;background-color: white;padding-right: 0.2em;padding-left: 0.2em;position: relative;}#sk-container-id-2 div.sk-item {position: relative;z-index: 1;}#sk-container-id-2 div.sk-parallel {display: flex;align-items: stretch;justify-content: center;background-color: white;position: relative;}#sk-container-id-2 div.sk-item::before, #sk-container-id-2 div.sk-parallel-item::before {content: \"\";position: absolute;border-left: 1px solid gray;box-sizing: border-box;top: 0;bottom: 0;left: 50%;z-index: -1;}#sk-container-id-2 div.sk-parallel-item {display: flex;flex-direction: column;z-index: 1;position: relative;background-color: white;}#sk-container-id-2 div.sk-parallel-item:first-child::after {align-self: flex-end;width: 50%;}#sk-container-id-2 div.sk-parallel-item:last-child::after {align-self: flex-start;width: 50%;}#sk-container-id-2 div.sk-parallel-item:only-child::after {width: 0;}#sk-container-id-2 div.sk-dashed-wrapped {border: 1px dashed gray;margin: 0 0.4em 0.5em 0.4em;box-sizing: border-box;padding-bottom: 0.4em;background-color: white;}#sk-container-id-2 div.sk-label label {font-family: monospace;font-weight: bold;display: inline-block;line-height: 1.2em;}#sk-container-id-2 div.sk-label-container {text-align: center;}#sk-container-id-2 div.sk-container {/* jupyter's `normalize.less` sets `[hidden] { display: none; }` but bootstrap.min.css set `[hidden] { display: none !important; }` so we also need the `!important` here to be able to override the default hidden behavior on the sphinx rendered scikit-learn.org. See: https://github.com/scikit-learn/scikit-learn/issues/21755 */display: inline-block !important;position: relative;}#sk-container-id-2 div.sk-text-repr-fallback {display: none;}</style><div id=\"sk-container-id-2\" class=\"sk-top-container\"><div class=\"sk-text-repr-fallback\"><pre>StandardScaler()</pre><b>In a Jupyter environment, please rerun this cell to show the HTML representation or trust the notebook. <br />On GitHub, the HTML representation is unable to render, please try loading this page with nbviewer.org.</b></div><div class=\"sk-container\" hidden><div class=\"sk-item\"><div class=\"sk-estimator sk-toggleable\"><input class=\"sk-toggleable__control sk-hidden--visually\" id=\"sk-estimator-id-2\" type=\"checkbox\" checked><label for=\"sk-estimator-id-2\" class=\"sk-toggleable__label sk-toggleable__label-arrow\">StandardScaler</label><div class=\"sk-toggleable__content\"><pre>StandardScaler()</pre></div></div></div></div></div>"
            ]
          },
          "metadata": {},
          "execution_count": 22
        }
      ]
    },
    {
      "cell_type": "code",
      "source": [
        "# Transform both training and testing data\n",
        "train_features = feature_scaler.transform(train_features.values)\n",
        "test_features = feature_scaler.transform(test_features.values)\n",
        "train_labels = label_scaler.transform(train_labels.values.reshape(-1, 1))\n",
        "test_labels = label_scaler.transform(test_labels.values.reshape(-1, 1))"
      ],
      "metadata": {
        "id": "2nH8uVt50dSK"
      },
      "execution_count": 24,
      "outputs": []
    },
    {
      "cell_type": "code",
      "source": [
        "# Now let's create a Deep Neural Network to train a regression model on our data.\n",
        "model = Sequential([\n",
        "    layers.Dense(32, activation='relu'),\n",
        "    layers.Dense(64, activation='relu'),\n",
        "    layers.Dense(32, activation='relu'),\n",
        "    layers.Dense(1)\n",
        "])\n"
      ],
      "metadata": {
        "id": "xV1JCEfS0iAn"
      },
      "execution_count": 25,
      "outputs": []
    },
    {
      "cell_type": "code",
      "source": [
        "tf.keras.optimizers.Adam(\n",
        "    learning_rate=0.001,\n",
        "    beta_1=0.9,\n",
        "    beta_2=0.999,\n",
        "    epsilon=1e-07,\n",
        "    amsgrad=False,\n",
        "    weight_decay=None,\n",
        "    clipnorm=None,\n",
        "    clipvalue=None,\n",
        "    global_clipnorm=None,\n",
        "    use_ema=False,\n",
        "    ema_momentum=0.99,\n",
        "    ema_overwrite_frequency=None,\n",
        "    jit_compile=True,\n",
        "    name='Adam',\n",
        "    \n",
        ")\n"
      ],
      "metadata": {
        "colab": {
          "base_uri": "https://localhost:8080/"
        },
        "id": "A3Jo2PqONTnq",
        "outputId": "bbe1754e-40b8-4f62-d9ce-e0cb7c62e217"
      },
      "execution_count": 26,
      "outputs": [
        {
          "output_type": "execute_result",
          "data": {
            "text/plain": [
              "<keras.optimizers.adam.Adam at 0x7fcc3cac8940>"
            ]
          },
          "metadata": {},
          "execution_count": 26
        }
      ]
    },
    {
      "cell_type": "code",
      "source": [
        "model.compile(optimizer=\"Adam\",\n",
        "               loss=\"mean_squared_error\")"
      ],
      "metadata": {
        "id": "MSO8Oy5-Nu1j"
      },
      "execution_count": 27,
      "outputs": []
    },
    {
      "cell_type": "code",
      "source": [
        "# Now let's train the model\n",
        "history = model.fit(epochs=100, x=train_features, y=train_labels,\n",
        "          validation_data=(test_features, test_labels), verbose=0)"
      ],
      "metadata": {
        "id": "uPuZLUJq2eGv"
      },
      "execution_count": 28,
      "outputs": []
    },
    {
      "cell_type": "code",
      "source": [
        "# Function to plot loss\n",
        "def plot_loss(history):\n",
        "    plt.plot(history.history['loss'], label='loss')\n",
        "    plt.plot(history.history['val_loss'], label='val_loss')\n",
        "    plt.ylim([0,10])\n",
        "    plt.xlabel('Epoch')\n",
        "    plt.ylabel('Error (Loss)')\n",
        "    plt.legend()\n",
        "    plt.grid(True)"
      ],
      "metadata": {
        "id": "rqKuq_lu69Y6"
      },
      "execution_count": 29,
      "outputs": []
    },
    {
      "cell_type": "code",
      "source": [
        "plot_loss(history)"
      ],
      "metadata": {
        "colab": {
          "base_uri": "https://localhost:8080/",
          "height": 455
        },
        "id": "0-GCihem7Gkv",
        "outputId": "f646af3c-82bd-47f9-e326-a7535d496c3d"
      },
      "execution_count": 30,
      "outputs": [
        {
          "output_type": "display_data",
          "data": {
            "text/plain": [
              "<Figure size 640x480 with 1 Axes>"
            ],
            "image/png": "[encoded data removed]"
          },
          "metadata": {}
        }
      ]
    },
    {
      "cell_type": "code",
      "source": [
        "# Model evaluation on testing dataset\n",
        "model.evaluate(test_features, test_labels)"
      ],
      "metadata": {
        "colab": {
          "base_uri": "https://localhost:8080/"
        },
        "id": "EsfkVM147NZ0",
        "outputId": "f5d5d262-0e15-4b3a-e408-ee3f798a17fc"
      },
      "execution_count": 31,
      "outputs": [
        {
          "output_type": "stream",
          "name": "stdout",
          "text": [
            "625/625 [==============================] - 1s 1ms/step - loss: 1.6079e-07\n"
          ]
        },
        {
          "output_type": "execute_result",
          "data": {
            "text/plain": [
              "1.6078581666079117e-07"
            ]
          },
          "metadata": {},
          "execution_count": 31
        }
      ]
    },
    {
      "cell_type": "code",
      "source": [
        "#Save model \n",
        "model.save(\"correct_ML_mdl.h5\")"
      ],
      "metadata": {
        "id": "Z7vxo9H_7b6T"
      },
      "execution_count": 33,
      "outputs": []
    },
    {
      "cell_type": "code",
      "source": [
        "# Load and perform predictions\n",
        "results = model.predict(test_features)"
      ],
      "metadata": {
        "colab": {
          "base_uri": "https://localhost:8080/"
        },
        "id": "x8OjkTGA7sQX",
        "outputId": "cbd09155-830e-4f12-8c0a-36f738efc332"
      },
      "execution_count": 34,
      "outputs": [
        {
          "output_type": "stream",
          "name": "stdout",
          "text": [
            "625/625 [==============================] - 1s 1ms/step\n"
          ]
        }
      ]
    },
    {
      "cell_type": "code",
      "source": [
        "# We can decode using the scikit-learn object to get the result\n",
        "decoded_result = label_scaler.inverse_transform(results.reshape(-1,1))\n",
        "print(decoded_result)\n",
        "print(decoded_result.shape)\n",
        "decoded_testlabels =label_scaler.inverse_transform(test_labels)"
      ],
      "metadata": {
        "colab": {
          "base_uri": "https://localhost:8080/"
        },
        "id": "sXDgvdfI8ULC",
        "outputId": "818f4dea-9646-4f20-b6a5-6212553c75d8"
      },
      "execution_count": 35,
      "outputs": [
        {
          "output_type": "stream",
          "name": "stdout",
          "text": [
            "[[5.50982356e-01]\n",
            " [5.89037776e-01]\n",
            " [6.03258967e-01]\n",
            " ...\n",
            " [1.00006598e+03]\n",
            " [1.00008447e+03]\n",
            " [1.00008923e+03]]\n",
            "(20000, 1)\n"
          ]
        }
      ]
    },
    {
      "cell_type": "code",
      "source": [
        "plt.scatter(decoded_testlabels, decoded_result, s=3)\n",
        "plt.title(\"Muon Energy Graph\")\n",
        "plt.xlabel(\"Energy calculated (GeV)\")\n",
        "plt.ylabel(\"Predicted Energy (GeV)\")"
      ],
      "metadata": {
        "colab": {
          "base_uri": "https://localhost:8080/",
          "height": 489
        },
        "id": "Cap1Ljka87Hh",
        "outputId": "50bed32c-e521-45ee-d856-cf0f998e1467"
      },
      "execution_count": 36,
      "outputs": [
        {
          "output_type": "execute_result",
          "data": {
            "text/plain": [
              "Text(0, 0.5, 'Predicted Energy (GeV)')"
            ]
          },
          "metadata": {},
          "execution_count": 36
        },
        {
          "output_type": "display_data",
          "data": {
            "text/plain": [
              "<Figure size 640x480 with 1 Axes>"
            ],
            "image/png": "[encoded data removed]"
          },
          "metadata": {}
        }
      ]
    },
    {
      "cell_type": "code",
      "source": [
        "diff= decoded_result- decoded_testlabels\n",
        "plt.hist(diff,bins= 500)"
      ],
      "metadata": {
        "colab": {
          "base_uri": "https://localhost:8080/",
          "height": 1000
        },
        "id": "5znFsWR5gATG",
        "outputId": "d8638b7c-c5cc-4a2b-fc68-83c581988e04"
      },
      "execution_count": 37,
      "outputs": [
        {
          "output_type": "execute_result",
          "data": {
            "text/plain": [
              "(array([  1.,   0.,   0.,   0.,   0.,   0.,   0.,   0.,   0.,   0.,   0.,\n",
              "          0.,   0.,   0.,   0.,   0.,   0.,   0.,   0.,   0.,   0.,   0.,\n",
              "          0.,   0.,   0.,   0.,   0.,   0.,   0.,   0.,   0.,   0.,   0.,\n",
              "          1.,   0.,   0.,   0.,   0.,   0.,   0.,   0.,   0.,   0.,   0.,\n",
              "          0.,   0.,   0.,   0.,   0.,   0.,   1.,   0.,   0.,   0.,   0.,\n",
              "          0.,   0.,   0.,   0.,   0.,   0.,   0.,   0.,   0.,   0.,   0.,\n",
              "          0.,   0.,   0.,   0.,   0.,   0.,   0.,   0.,   0.,   0.,   0.,\n",
              "          1.,   0.,   0.,   0.,   0.,   0.,   0.,   0.,   0.,   0.,   0.,\n",
              "          0.,   0.,   0.,   0.,   0.,   0.,   0.,   0.,   0.,   0.,   0.,\n",
              "          1.,   0.,   0.,   0.,   0.,   0.,   0.,   1.,   0.,   0.,   1.,\n",
              "          0.,   0.,   0.,   0.,   0.,   0.,   0.,   0.,   0.,   0.,   0.,\n",
              "          0.,   0.,   0.,   0.,   0.,   1.,   1.,   0.,   0.,   0.,   0.,\n",
              "          1.,   0.,   0.,   0.,   0.,   0.,   0.,   0.,   0.,   0.,   0.,\n",
              "          1.,   0.,   0.,   0.,   0.,   1.,   1.,   0.,   0.,   0.,   0.,\n",
              "          0.,   1.,   0.,   0.,   0.,   0.,   0.,   1.,   0.,   0.,   0.,\n",
              "          0.,   0.,   0.,   0.,   0.,   0.,   0.,   0.,   0.,   0.,   0.,\n",
              "          0.,   0.,   1.,   0.,   1.,   1.,   0.,   0.,   0.,   1.,   0.,\n",
              "          0.,   2.,   0.,   0.,   0.,   0.,   0.,   0.,   0.,   0.,   0.,\n",
              "          0.,   1.,   0.,   0.,   0.,   0.,   0.,   0.,   0.,   0.,   1.,\n",
              "          0.,   1.,   0.,   0.,   0.,   0.,   0.,   0.,   0.,   0.,   0.,\n",
              "          0.,   0.,   0.,   1.,   0.,   0.,   0.,   2.,   0.,   0.,   0.,\n",
              "          0.,   0.,   0.,   1.,   0.,   0.,   1.,   0.,   0.,   0.,   0.,\n",
              "          0.,   0.,   1.,   0.,   0.,   0.,   0.,   1.,   0.,   0.,   0.,\n",
              "          0.,   0.,   0.,   0.,   0.,   0.,   0.,   0.,   0.,   0.,   1.,\n",
              "          0.,   0.,   0.,   0.,   0.,   0.,   0.,   0.,   0.,   0.,   0.,\n",
              "          0.,   1.,   0.,   1.,   0.,   0.,   0.,   1.,   0.,   0.,   0.,\n",
              "          2.,   0.,   1.,   1.,   0.,   2.,   1.,   1.,   0.,   0.,   0.,\n",
              "          1.,   0.,   0.,   1.,   4.,   2.,   4.,   3.,   1.,  10.,   3.,\n",
              "          7.,   9.,   8.,   9.,   7.,   9.,  10.,  12.,   8.,  12.,  11.,\n",
              "          4.,   6.,   8.,   8.,  10.,   7.,   5.,   7.,  12.,  13.,  10.,\n",
              "         14.,   7.,  10.,   1.,   3.,   1.,  10.,   6.,   3.,  11.,   7.,\n",
              "         12.,   6.,   7.,  12.,  11.,  11.,  13.,  12.,  10.,  14.,  17.,\n",
              "         15.,  22.,  21.,  25.,  28.,  23.,  30.,  18.,  26.,  46.,  34.,\n",
              "         55.,  62.,  65.,  90.,  83., 115., 104.,  96., 105., 127., 115.,\n",
              "        144., 138., 142., 138., 169., 168., 175., 186., 195., 199., 216.,\n",
              "        219., 260., 239., 263., 261., 270., 274., 329., 331., 323., 351.,\n",
              "        323., 385., 347., 387., 373., 356., 358., 372., 370., 371., 387.,\n",
              "        363., 353., 379., 350., 342., 351., 331., 348., 327., 341., 315.,\n",
              "        309., 286., 316., 297., 280., 243., 234., 241., 232., 234., 212.,\n",
              "        206., 194., 188., 160., 174., 144., 160., 189., 167., 112., 108.,\n",
              "        102.,  94.,  62.,  57.,  63.,  48.,  36.,  38.,  27.,  26.,  17.,\n",
              "         21.,  18.,  11.,  13.,   8.,   8.,  10.,   8.,  10.,   5.,   6.,\n",
              "          4.,   5.,   5.,   8.,   0.,   0.,   2.,   2.,   0.,   2.,   3.,\n",
              "          1.,   2.,   0.,   1.,   1.,   1.,   0.,   0.,   0.,   0.,   0.,\n",
              "          0.,   0.,   0.,   0.,   1.,   0.,   0.,   0.,   0.,   0.,   0.,\n",
              "          1.,   0.,   0.,   0.,   1.]),\n",
              " array([-1.84951782e+00, -1.84491278e+00, -1.84030774e+00, -1.83570270e+00,\n",
              "        -1.83109766e+00, -1.82649261e+00, -1.82188757e+00, -1.81728253e+00,\n",
              "        -1.81267749e+00, -1.80807245e+00, -1.80346741e+00, -1.79886237e+00,\n",
              "        -1.79425732e+00, -1.78965228e+00, -1.78504724e+00, -1.78044220e+00,\n",
              "        -1.77583716e+00, -1.77123212e+00, -1.76662708e+00, -1.76202203e+00,\n",
              "        -1.75741699e+00, -1.75281195e+00, -1.74820691e+00, -1.74360187e+00,\n",
              "        -1.73899683e+00, -1.73439178e+00, -1.72978674e+00, -1.72518170e+00,\n",
              "        -1.72057666e+00, -1.71597162e+00, -1.71136658e+00, -1.70676154e+00,\n",
              "        -1.70215649e+00, -1.69755145e+00, -1.69294641e+00, -1.68834137e+00,\n",
              "        -1.68373633e+00, -1.67913129e+00, -1.67452625e+00, -1.66992120e+00,\n",
              "        -1.66531616e+00, -1.66071112e+00, -1.65610608e+00, -1.65150104e+00,\n",
              "        -1.64689600e+00, -1.64229095e+00, -1.63768591e+00, -1.63308087e+00,\n",
              "        -1.62847583e+00, -1.62387079e+00, -1.61926575e+00, -1.61466071e+00,\n",
              "        -1.61005566e+00, -1.60545062e+00, -1.60084558e+00, -1.59624054e+00,\n",
              "        -1.59163550e+00, -1.58703046e+00, -1.58242542e+00, -1.57782037e+00,\n",
              "        -1.57321533e+00, -1.56861029e+00, -1.56400525e+00, -1.55940021e+00,\n",
              "        -1.55479517e+00, -1.55019012e+00, -1.54558508e+00, -1.54098004e+00,\n",
              "        -1.53637500e+00, -1.53176996e+00, -1.52716492e+00, -1.52255988e+00,\n",
              "        -1.51795483e+00, -1.51334979e+00, -1.50874475e+00, -1.50413971e+00,\n",
              "        -1.49953467e+00, -1.49492963e+00, -1.49032458e+00, -1.48571954e+00,\n",
              "        -1.48111450e+00, -1.47650946e+00, -1.47190442e+00, -1.46729938e+00,\n",
              "        -1.46269434e+00, -1.45808929e+00, -1.45348425e+00, -1.44887921e+00,\n",
              "        -1.44427417e+00, -1.43966913e+00, -1.43506409e+00, -1.43045905e+00,\n",
              "        -1.42585400e+00, -1.42124896e+00, -1.41664392e+00, -1.41203888e+00,\n",
              "        -1.40743384e+00, -1.40282880e+00, -1.39822375e+00, -1.39361871e+00,\n",
              "        -1.38901367e+00, -1.38440863e+00, -1.37980359e+00, -1.37519855e+00,\n",
              "        -1.37059351e+00, -1.36598846e+00, -1.36138342e+00, -1.35677838e+00,\n",
              "        -1.35217334e+00, -1.34756830e+00, -1.34296326e+00, -1.33835822e+00,\n",
              "        -1.33375317e+00, -1.32914813e+00, -1.32454309e+00, -1.31993805e+00,\n",
              "        -1.31533301e+00, -1.31072797e+00, -1.30612292e+00, -1.30151788e+00,\n",
              "        -1.29691284e+00, -1.29230780e+00, -1.28770276e+00, -1.28309772e+00,\n",
              "        -1.27849268e+00, -1.27388763e+00, -1.26928259e+00, -1.26467755e+00,\n",
              "        -1.26007251e+00, -1.25546747e+00, -1.25086243e+00, -1.24625739e+00,\n",
              "        -1.24165234e+00, -1.23704730e+00, -1.23244226e+00, -1.22783722e+00,\n",
              "        -1.22323218e+00, -1.21862714e+00, -1.21402209e+00, -1.20941705e+00,\n",
              "        -1.20481201e+00, -1.20020697e+00, -1.19560193e+00, -1.19099689e+00,\n",
              "        -1.18639185e+00, -1.18178680e+00, -1.17718176e+00, -1.17257672e+00,\n",
              "        -1.16797168e+00, -1.16336664e+00, -1.15876160e+00, -1.15415656e+00,\n",
              "        -1.14955151e+00, -1.14494647e+00, -1.14034143e+00, -1.13573639e+00,\n",
              "        -1.13113135e+00, -1.12652631e+00, -1.12192126e+00, -1.11731622e+00,\n",
              "        -1.11271118e+00, -1.10810614e+00, -1.10350110e+00, -1.09889606e+00,\n",
              "        -1.09429102e+00, -1.08968597e+00, -1.08508093e+00, -1.08047589e+00,\n",
              "        -1.07587085e+00, -1.07126581e+00, -1.06666077e+00, -1.06205573e+00,\n",
              "        -1.05745068e+00, -1.05284564e+00, -1.04824060e+00, -1.04363556e+00,\n",
              "        -1.03903052e+00, -1.03442548e+00, -1.02982043e+00, -1.02521539e+00,\n",
              "        -1.02061035e+00, -1.01600531e+00, -1.01140027e+00, -1.00679523e+00,\n",
              "        -1.00219019e+00, -9.97585144e-01, -9.92980103e-01, -9.88375061e-01,\n",
              "        -9.83770020e-01, -9.79164978e-01, -9.74559937e-01, -9.69954895e-01,\n",
              "        -9.65349854e-01, -9.60744812e-01, -9.56139771e-01, -9.51534729e-01,\n",
              "        -9.46929688e-01, -9.42324646e-01, -9.37719604e-01, -9.33114563e-01,\n",
              "        -9.28509521e-01, -9.23904480e-01, -9.19299438e-01, -9.14694397e-01,\n",
              "        -9.10089355e-01, -9.05484314e-01, -9.00879272e-01, -8.96274231e-01,\n",
              "        -8.91669189e-01, -8.87064148e-01, -8.82459106e-01, -8.77854065e-01,\n",
              "        -8.73249023e-01, -8.68643982e-01, -8.64038940e-01, -8.59433899e-01,\n",
              "        -8.54828857e-01, -8.50223816e-01, -8.45618774e-01, -8.41013733e-01,\n",
              "        -8.36408691e-01, -8.31803650e-01, -8.27198608e-01, -8.22593567e-01,\n",
              "        -8.17988525e-01, -8.13383484e-01, -8.08778442e-01, -8.04173401e-01,\n",
              "        -7.99568359e-01, -7.94963318e-01, -7.90358276e-01, -7.85753235e-01,\n",
              "        -7.81148193e-01, -7.76543152e-01, -7.71938110e-01, -7.67333069e-01,\n",
              "        -7.62728027e-01, -7.58122986e-01, -7.53517944e-01, -7.48912903e-01,\n",
              "        -7.44307861e-01, -7.39702820e-01, -7.35097778e-01, -7.30492737e-01,\n",
              "        -7.25887695e-01, -7.21282654e-01, -7.16677612e-01, -7.12072571e-01,\n",
              "        -7.07467529e-01, -7.02862488e-01, -6.98257446e-01, -6.93652405e-01,\n",
              "        -6.89047363e-01, -6.84442322e-01, -6.79837280e-01, -6.75232239e-01,\n",
              "        -6.70627197e-01, -6.66022156e-01, -6.61417114e-01, -6.56812073e-01,\n",
              "        -6.52207031e-01, -6.47601990e-01, -6.42996948e-01, -6.38391907e-01,\n",
              "        -6.33786865e-01, -6.29181824e-01, -6.24576782e-01, -6.19971741e-01,\n",
              "        -6.15366699e-01, -6.10761658e-01, -6.06156616e-01, -6.01551575e-01,\n",
              "        -5.96946533e-01, -5.92341492e-01, -5.87736450e-01, -5.83131409e-01,\n",
              "        -5.78526367e-01, -5.73921326e-01, -5.69316284e-01, -5.64711243e-01,\n",
              "        -5.60106201e-01, -5.55501160e-01, -5.50896118e-01, -5.46291077e-01,\n",
              "        -5.41686035e-01, -5.37080994e-01, -5.32475952e-01, -5.27870911e-01,\n",
              "        -5.23265869e-01, -5.18660828e-01, -5.14055786e-01, -5.09450745e-01,\n",
              "        -5.04845703e-01, -5.00240662e-01, -4.95635620e-01, -4.91030579e-01,\n",
              "        -4.86425537e-01, -4.81820496e-01, -4.77215454e-01, -4.72610413e-01,\n",
              "        -4.68005371e-01, -4.63400330e-01, -4.58795288e-01, -4.54190247e-01,\n",
              "        -4.49585205e-01, -4.44980164e-01, -4.40375122e-01, -4.35770081e-01,\n",
              "        -4.31165039e-01, -4.26559998e-01, -4.21954956e-01, -4.17349915e-01,\n",
              "        -4.12744873e-01, -4.08139832e-01, -4.03534790e-01, -3.98929749e-01,\n",
              "        -3.94324707e-01, -3.89719666e-01, -3.85114624e-01, -3.80509583e-01,\n",
              "        -3.75904541e-01, -3.71299500e-01, -3.66694458e-01, -3.62089417e-01,\n",
              "        -3.57484375e-01, -3.52879333e-01, -3.48274292e-01, -3.43669250e-01,\n",
              "        -3.39064209e-01, -3.34459167e-01, -3.29854126e-01, -3.25249084e-01,\n",
              "        -3.20644043e-01, -3.16039001e-01, -3.11433960e-01, -3.06828918e-01,\n",
              "        -3.02223877e-01, -2.97618835e-01, -2.93013794e-01, -2.88408752e-01,\n",
              "        -2.83803711e-01, -2.79198669e-01, -2.74593628e-01, -2.69988586e-01,\n",
              "        -2.65383545e-01, -2.60778503e-01, -2.56173462e-01, -2.51568420e-01,\n",
              "        -2.46963379e-01, -2.42358337e-01, -2.37753296e-01, -2.33148254e-01,\n",
              "        -2.28543213e-01, -2.23938171e-01, -2.19333130e-01, -2.14728088e-01,\n",
              "        -2.10123047e-01, -2.05518005e-01, -2.00912964e-01, -1.96307922e-01,\n",
              "        -1.91702881e-01, -1.87097839e-01, -1.82492798e-01, -1.77887756e-01,\n",
              "        -1.73282715e-01, -1.68677673e-01, -1.64072632e-01, -1.59467590e-01,\n",
              "        -1.54862549e-01, -1.50257507e-01, -1.45652466e-01, -1.41047424e-01,\n",
              "        -1.36442383e-01, -1.31837341e-01, -1.27232300e-01, -1.22627258e-01,\n",
              "        -1.18022217e-01, -1.13417175e-01, -1.08812134e-01, -1.04207092e-01,\n",
              "        -9.96020508e-02, -9.49970093e-02, -9.03919678e-02, -8.57869263e-02,\n",
              "        -8.11818848e-02, -7.65768433e-02, -7.19718018e-02, -6.73667603e-02,\n",
              "        -6.27617188e-02, -5.81566772e-02, -5.35516357e-02, -4.89465942e-02,\n",
              "        -4.43415527e-02, -3.97365112e-02, -3.51314697e-02, -3.05264282e-02,\n",
              "        -2.59213867e-02, -2.13163452e-02, -1.67113037e-02, -1.21062622e-02,\n",
              "        -7.50122070e-03, -2.89617920e-03,  1.70886230e-03,  6.31390381e-03,\n",
              "         1.09189453e-02,  1.55239868e-02,  2.01290283e-02,  2.47340698e-02,\n",
              "         2.93391113e-02,  3.39441528e-02,  3.85491943e-02,  4.31542358e-02,\n",
              "         4.77592773e-02,  5.23643188e-02,  5.69693604e-02,  6.15744019e-02,\n",
              "         6.61794434e-02,  7.07844849e-02,  7.53895264e-02,  7.99945679e-02,\n",
              "         8.45996094e-02,  8.92046509e-02,  9.38096924e-02,  9.84147339e-02,\n",
              "         1.03019775e-01,  1.07624817e-01,  1.12229858e-01,  1.16834900e-01,\n",
              "         1.21439941e-01,  1.26044983e-01,  1.30650024e-01,  1.35255066e-01,\n",
              "         1.39860107e-01,  1.44465149e-01,  1.49070190e-01,  1.53675232e-01,\n",
              "         1.58280273e-01,  1.62885315e-01,  1.67490356e-01,  1.72095398e-01,\n",
              "         1.76700439e-01,  1.81305481e-01,  1.85910522e-01,  1.90515564e-01,\n",
              "         1.95120605e-01,  1.99725647e-01,  2.04330688e-01,  2.08935730e-01,\n",
              "         2.13540771e-01,  2.18145813e-01,  2.22750854e-01,  2.27355896e-01,\n",
              "         2.31960937e-01,  2.36565979e-01,  2.41171021e-01,  2.45776062e-01,\n",
              "         2.50381104e-01,  2.54986145e-01,  2.59591187e-01,  2.64196228e-01,\n",
              "         2.68801270e-01,  2.73406311e-01,  2.78011353e-01,  2.82616394e-01,\n",
              "         2.87221436e-01,  2.91826477e-01,  2.96431519e-01,  3.01036560e-01,\n",
              "         3.05641602e-01,  3.10246643e-01,  3.14851685e-01,  3.19456726e-01,\n",
              "         3.24061768e-01,  3.28666809e-01,  3.33271851e-01,  3.37876892e-01,\n",
              "         3.42481934e-01,  3.47086975e-01,  3.51692017e-01,  3.56297058e-01,\n",
              "         3.60902100e-01,  3.65507141e-01,  3.70112183e-01,  3.74717224e-01,\n",
              "         3.79322266e-01,  3.83927307e-01,  3.88532349e-01,  3.93137390e-01,\n",
              "         3.97742432e-01,  4.02347473e-01,  4.06952515e-01,  4.11557556e-01,\n",
              "         4.16162598e-01,  4.20767639e-01,  4.25372681e-01,  4.29977722e-01,\n",
              "         4.34582764e-01,  4.39187805e-01,  4.43792847e-01,  4.48397888e-01,\n",
              "         4.53002930e-01]),\n",
              " <BarContainer object of 500 artists>)"
            ]
          },
          "metadata": {},
          "execution_count": 37
        },
        {
          "output_type": "display_data",
          "data": {
            "text/plain": [
              "<Figure size 640x480 with 1 Axes>"
            ],
            "image/png": "[encoded data removed]"
          },
          "metadata": {}
        }
      ]
    },
    {
      "cell_type": "code",
      "source": [
        "def gauss(x,amp,mu,sigma):\n",
        "    return (amp/np.sqrt(sigma))*np.exp(-(x-mu)**2 / 2*sigma**2)"
      ],
      "metadata": {
        "id": "0l9NPvtuHueW"
      },
      "execution_count": 39,
      "outputs": []
    },
    {
      "cell_type": "code",
      "source": [
        "x= np.linspace(-0.5,0.5,500)\n",
        "n,bins,patches = plt.hist(diff,bins= 500,range= (-0.5,0.5))#, ); # range= (-0.5,1.5)\n",
        "print(\"This is n==>\",n, bins, patches)\n",
        "y=n \n",
        "print(max(y))\n",
        "popt, pcov = curve_fit(gauss, x,y)#p0= (300,0.0,0.5)) # p0= (amp, mean, satndard deviation)===> guessed\n",
        "y= gauss(x, popt[0], popt[1], popt[2])\n",
        "plt.plot(x,y,color= 'r', linestyle='dashed', label='fit function');\n",
        "print(popt[0],popt[1],popt[2]) # gives actual (amp, mean, standard deviation)\n",
        "# plt.show()"
      ],
      "metadata": {
        "colab": {
          "base_uri": "https://localhost:8080/",
          "height": 1000
        },
        "id": "Oy3CsPA6mB-b",
        "outputId": "ed1c9d1b-748d-4c5e-8d00-e52010b4d032"
      },
      "execution_count": 40,
      "outputs": [
        {
          "output_type": "stream",
          "name": "stdout",
          "text": [
            "This is n==> [  0.   1.   0.   0.   0.   0.   0.   0.   0.   0.   1.   0.   0.   0.\n",
            "   0.   0.   0.   1.   0.   4.   0.   1.   1.   1.   2.   3.   1.   1.\n",
            "   0.   0.   2.   8.   2.   1.   4.   2.   2.   6.   2.   2.   4.   5.\n",
            "   2.   4.   4.   3.   2.   6.   4.   5.   6.   2.   6.   6.   2.   4.\n",
            "   5.   7.   4.   3.   1.   3.   2.   2.   4.   3.   4.   4.   4.   3.\n",
            "   4.   6.   2.   1.   1.   5.   4.   2.   4.   5.   6.   4.   7.   2.\n",
            "   7.   4.   5.   6.   4.   2.   4.   6.   1.   0.   1.   0.   2.   0.\n",
            "   1.   4.   5.   5.   1.   1.   2.   4.   5.   2.   4.   0.   6.   5.\n",
            "   7.   2.   2.   4.   3.   3.   6.   7.   3.   4.   6.   4.   3.   7.\n",
            "   6.   5.   6.   7.   1.   3.   8.   8.   6.   9.   8.   5.   8.   9.\n",
            "  11.   6.  13.  10.  12.   8.  16.   8.  10.  14.  12.  12.   8.   9.\n",
            "  15.   5.  18.  18.  20.  13.  15.  26.  25.  18.  24.  31.  27.  40.\n",
            "  37.  31.  38.  41.  39.  50.  53.  44.  47.  35.  36.  55.  40.  48.\n",
            "  52.  65.  54.  44.  56.  67.  58.  60.  61.  58.  67.  64.  60.  64.\n",
            "  74.  71.  79.  68.  80.  69.  75.  80.  91.  78.  86.  87.  81. 101.\n",
            "  91.  93.  99.  91. 120. 103. 100. 112. 105. 117. 113. 109. 118. 118.\n",
            " 111. 114. 108. 138. 146. 151. 131. 147. 138. 132. 160. 145. 156. 141.\n",
            " 157. 148. 168. 148. 163. 154. 178. 156. 170. 155. 159. 150. 150. 164.\n",
            " 148. 162. 169. 153. 157. 169. 158. 162. 175. 153. 170. 160. 158. 157.\n",
            " 150. 155. 178. 154. 150. 140. 153. 143. 154. 163. 146. 143. 141. 168.\n",
            " 142. 145. 130. 138. 151. 140. 149. 131. 129. 142. 133. 123. 131. 134.\n",
            " 132. 132. 125. 122. 114. 118.  91. 123.  92. 106. 108. 103. 101. 102.\n",
            " 102. 106.  89.  93.  94.  84.  86.  91.  85.  92.  91.  65.  82.  63.\n",
            "  61.  91.  61.  65.  65.  71.  69.  48. 107.  92.  61.  67.  42.  53.\n",
            "  54.  38.  61.  33.  47.  40.  35.  23.  31.  27.  24.  25.  27.  28.\n",
            "  21.  20.  18.  11.  19.  16.  15.  15.  10.  14.   9.  10.   6.   7.\n",
            "   6.  13.   4.   9.   8.   3.   6.   7.   4.   4.   4.   1.   4.   5.\n",
            "   4.   6.   4.   2.   4.   4.   4.   3.   0.   3.   3.   2.   1.   3.\n",
            "   3.   1.   3.   2.   5.   2.   0.   0.   0.   0.   0.   0.   2.   0.\n",
            "   1.   1.   0.   0.   1.   1.   1.   2.   0.   1.   0.   2.   0.   0.\n",
            "   0.   0.   1.   0.   0.   1.   0.   1.   0.   0.   0.   0.   0.   0.\n",
            "   0.   0.   0.   0.   0.   0.   0.   0.   0.   0.   0.   0.   0.   0.\n",
            "   0.   1.   0.   0.   0.   0.   0.   0.   0.   0.   0.   0.   0.   0.\n",
            "   0.   0.   0.   1.   0.   0.   0.   0.   0.   0.   0.   0.   0.   0.\n",
            "   1.   0.   0.   0.   0.   0.   0.   0.   0.   0.   0.   0.   0.   0.\n",
            "   0.   0.   0.   0.   0.   0.   0.   0.   0.   0.] [-0.5   -0.498 -0.496 -0.494 -0.492 -0.49  -0.488 -0.486 -0.484 -0.482\n",
            " -0.48  -0.478 -0.476 -0.474 -0.472 -0.47  -0.468 -0.466 -0.464 -0.462\n",
            " -0.46  -0.458 -0.456 -0.454 -0.452 -0.45  -0.448 -0.446 -0.444 -0.442\n",
            " -0.44  -0.438 -0.436 -0.434 -0.432 -0.43  -0.428 -0.426 -0.424 -0.422\n",
            " -0.42  -0.418 -0.416 -0.414 -0.412 -0.41  -0.408 -0.406 -0.404 -0.402\n",
            " -0.4   -0.398 -0.396 -0.394 -0.392 -0.39  -0.388 -0.386 -0.384 -0.382\n",
            " -0.38  -0.378 -0.376 -0.374 -0.372 -0.37  -0.368 -0.366 -0.364 -0.362\n",
            " -0.36  -0.358 -0.356 -0.354 -0.352 -0.35  -0.348 -0.346 -0.344 -0.342\n",
            " -0.34  -0.338 -0.336 -0.334 -0.332 -0.33  -0.328 -0.326 -0.324 -0.322\n",
            " -0.32  -0.318 -0.316 -0.314 -0.312 -0.31  -0.308 -0.306 -0.304 -0.302\n",
            " -0.3   -0.298 -0.296 -0.294 -0.292 -0.29  -0.288 -0.286 -0.284 -0.282\n",
            " -0.28  -0.278 -0.276 -0.274 -0.272 -0.27  -0.268 -0.266 -0.264 -0.262\n",
            " -0.26  -0.258 -0.256 -0.254 -0.252 -0.25  -0.248 -0.246 -0.244 -0.242\n",
            " -0.24  -0.238 -0.236 -0.234 -0.232 -0.23  -0.228 -0.226 -0.224 -0.222\n",
            " -0.22  -0.218 -0.216 -0.214 -0.212 -0.21  -0.208 -0.206 -0.204 -0.202\n",
            " -0.2   -0.198 -0.196 -0.194 -0.192 -0.19  -0.188 -0.186 -0.184 -0.182\n",
            " -0.18  -0.178 -0.176 -0.174 -0.172 -0.17  -0.168 -0.166 -0.164 -0.162\n",
            " -0.16  -0.158 -0.156 -0.154 -0.152 -0.15  -0.148 -0.146 -0.144 -0.142\n",
            " -0.14  -0.138 -0.136 -0.134 -0.132 -0.13  -0.128 -0.126 -0.124 -0.122\n",
            " -0.12  -0.118 -0.116 -0.114 -0.112 -0.11  -0.108 -0.106 -0.104 -0.102\n",
            " -0.1   -0.098 -0.096 -0.094 -0.092 -0.09  -0.088 -0.086 -0.084 -0.082\n",
            " -0.08  -0.078 -0.076 -0.074 -0.072 -0.07  -0.068 -0.066 -0.064 -0.062\n",
            " -0.06  -0.058 -0.056 -0.054 -0.052 -0.05  -0.048 -0.046 -0.044 -0.042\n",
            " -0.04  -0.038 -0.036 -0.034 -0.032 -0.03  -0.028 -0.026 -0.024 -0.022\n",
            " -0.02  -0.018 -0.016 -0.014 -0.012 -0.01  -0.008 -0.006 -0.004 -0.002\n",
            "  0.     0.002  0.004  0.006  0.008  0.01   0.012  0.014  0.016  0.018\n",
            "  0.02   0.022  0.024  0.026  0.028  0.03   0.032  0.034  0.036  0.038\n",
            "  0.04   0.042  0.044  0.046  0.048  0.05   0.052  0.054  0.056  0.058\n",
            "  0.06   0.062  0.064  0.066  0.068  0.07   0.072  0.074  0.076  0.078\n",
            "  0.08   0.082  0.084  0.086  0.088  0.09   0.092  0.094  0.096  0.098\n",
            "  0.1    0.102  0.104  0.106  0.108  0.11   0.112  0.114  0.116  0.118\n",
            "  0.12   0.122  0.124  0.126  0.128  0.13   0.132  0.134  0.136  0.138\n",
            "  0.14   0.142  0.144  0.146  0.148  0.15   0.152  0.154  0.156  0.158\n",
            "  0.16   0.162  0.164  0.166  0.168  0.17   0.172  0.174  0.176  0.178\n",
            "  0.18   0.182  0.184  0.186  0.188  0.19   0.192  0.194  0.196  0.198\n",
            "  0.2    0.202  0.204  0.206  0.208  0.21   0.212  0.214  0.216  0.218\n",
            "  0.22   0.222  0.224  0.226  0.228  0.23   0.232  0.234  0.236  0.238\n",
            "  0.24   0.242  0.244  0.246  0.248  0.25   0.252  0.254  0.256  0.258\n",
            "  0.26   0.262  0.264  0.266  0.268  0.27   0.272  0.274  0.276  0.278\n",
            "  0.28   0.282  0.284  0.286  0.288  0.29   0.292  0.294  0.296  0.298\n",
            "  0.3    0.302  0.304  0.306  0.308  0.31   0.312  0.314  0.316  0.318\n",
            "  0.32   0.322  0.324  0.326  0.328  0.33   0.332  0.334  0.336  0.338\n",
            "  0.34   0.342  0.344  0.346  0.348  0.35   0.352  0.354  0.356  0.358\n",
            "  0.36   0.362  0.364  0.366  0.368  0.37   0.372  0.374  0.376  0.378\n",
            "  0.38   0.382  0.384  0.386  0.388  0.39   0.392  0.394  0.396  0.398\n",
            "  0.4    0.402  0.404  0.406  0.408  0.41   0.412  0.414  0.416  0.418\n",
            "  0.42   0.422  0.424  0.426  0.428  0.43   0.432  0.434  0.436  0.438\n",
            "  0.44   0.442  0.444  0.446  0.448  0.45   0.452  0.454  0.456  0.458\n",
            "  0.46   0.462  0.464  0.466  0.468  0.47   0.472  0.474  0.476  0.478\n",
            "  0.48   0.482  0.484  0.486  0.488  0.49   0.492  0.494  0.496  0.498\n",
            "  0.5  ] <BarContainer object of 500 artists>\n",
            "178.0\n",
            "517.8611888061221 0.018983679158843095 10.227508440451999\n"
          ]
        },
        {
          "output_type": "stream",
          "name": "stderr",
          "text": [
            "<ipython-input-39-679ff3a10ba0>:2: RuntimeWarning: invalid value encountered in sqrt\n",
            "  return (amp/np.sqrt(sigma))*np.exp(-(x-mu)**2 / 2*sigma**2)\n"
          ]
        },
        {
          "output_type": "display_data",
          "data": {
            "text/plain": [
              "<Figure size 640x480 with 1 Axes>"
            ],
            "image/png": "[encoded data removed]"
          },
          "metadata": {}
        }
      ]
    }
  ]
}