{
  "nbformat": 4,
  "nbformat_minor": 0,
  "metadata": {
    "colab": {
      "provenance": [],
      "include_colab_link": true
    },
    "kernelspec": {
      "name": "python3",
      "display_name": "Python 3"
    },
    "language_info": {
      "name": "python"
    },
    "gpuClass": "standard"
  },
  "cells": [
    {
      "cell_type": "markdown",
      "metadata": {
        "id": "view-in-github",
        "colab_type": "text"
      },
      "source": [
        "<a href=\"https://colab.research.google.com/github/basanab/mu_e_scatt/blob/main/ML_modl.ipynb\" target=\"_parent\"><img src=\"https://colab.research.google.com/assets/colab-badge.svg\" alt=\"Open In Colab\"/></a>"
      ]
    },
    {
      "cell_type": "code",
      "source": [
        "import numpy as np\n",
        "import matplotlib.pyplot as plt\n",
        "import pandas as pd\n",
        "import tensorflow as tf\n",
        "from tensorflow import keras\n",
        "from tensorflow.keras import layers\n",
        "from tensorflow.keras import Sequential\n",
        "from tensorflow.keras import optimizers\n",
        "from tensorflow.keras.models import Model\n",
        "from tensorflow.keras.models import load_model\n",
        "from scipy.optimize import curve_fit\n",
        "from sklearn.metrics import mean_absolute_error\n"
      ],
      "metadata": {
        "id": "CtW7KZPgdSTr"
      },
      "execution_count": null,
      "outputs": []
    },
    {
      "cell_type": "code",
      "source": [
        "# df=pd.read_excel(\"/content/drive/MyDrive/ColabNotebooks/muon_data.xlsx\")"
      ],
      "metadata": {
        "id": "-Ys5Wlp8J8l5"
      },
      "execution_count": null,
      "outputs": []
    },
    {
      "cell_type": "code",
      "source": [
        "from google.colab import drive\n",
        "drive.mount('/content/drive')"
      ],
      "metadata": {
        "colab": {
          "base_uri": "https://localhost:8080/"
        },
        "id": "S17ueW1PI_iL",
        "outputId": "41360216-e2f2-4b34-8dec-c8ccc2c724db"
      },
      "execution_count": null,
      "outputs": [
        {
          "output_type": "stream",
          "name": "stdout",
          "text": [
            "Mounted at /content/drive\n"
          ]
        }
      ]
    },
    {
      "cell_type": "code",
      "source": [
        "df=pd.read_csv(\"/content/drive/MyDrive/ColabNotebooks/datasheet_python.csv\", sep=\"\\t\")\n",
        "df"
      ],
      "metadata": {
        "colab": {
          "base_uri": "https://localhost:8080/",
          "height": 424
        },
        "id": "3UBYbO7VDJNm",
        "outputId": "a85ce6f3-2949-4963-a434-56688fae171a"
      },
      "execution_count": null,
      "outputs": [
        {
          "output_type": "execute_result",
          "data": {
            "text/plain": [
              "         E_mu  Theta_e  Theta_mu       Emu_p      Ee_p\n",
              "0         0.5    0.000       NaN    0.479139  0.021371\n",
              "1         0.5    0.001       NaN    0.479139  0.021371\n",
              "2         0.5    0.002  0.000061    0.479141  0.021369\n",
              "3         0.5    0.003  0.000119    0.479143  0.021367\n",
              "4         0.5    0.004  0.000170    0.479146  0.021364\n",
              "...       ...      ...       ...         ...       ...\n",
              "99995  1000.0    0.045  0.000023  999.496246  0.504264\n",
              "99996  1000.0    0.046  0.000022  999.517929  0.482581\n",
              "99997  1000.0    0.047  0.000022  999.538244  0.462266\n",
              "99998  1000.0    0.048  0.000021  999.557302  0.443208\n",
              "99999  1000.0    0.049  0.000021  999.575207  0.425303\n",
              "\n",
              "[100000 rows x 5 columns]"
            ],
            "text/html": [
              "\n",
              "  <div id=\"df-51d43821-563e-44fd-aa19-a6ec87c0bc5b\">\n",
              "    <div class=\"colab-df-container\">\n",
              "      <div>\n",
              "<style scoped>\n",
              "    .dataframe tbody tr th:only-of-type {\n",
              "        vertical-align: middle;\n",
              "    }\n",
              "\n",
              "    .dataframe tbody tr th {\n",
              "        vertical-align: top;\n",
              "    }\n",
              "\n",
              "    .dataframe thead th {\n",
              "        text-align: right;\n",
              "    }\n",
              "</style>\n",
              "<table border=\"1\" class=\"dataframe\">\n",
              "  <thead>\n",
              "    <tr style=\"text-align: right;\">\n",
              "      <th></th>\n",
              "      <th>E_mu</th>\n",
              "      <th>Theta_e</th>\n",
              "      <th>Theta_mu</th>\n",
              "      <th>Emu_p</th>\n",
              "      <th>Ee_p</th>\n",
              "    </tr>\n",
              "  </thead>\n",
              "  <tbody>\n",
              "    <tr>\n",
              "      <th>0</th>\n",
              "      <td>0.5</td>\n",
              "      <td>0.000</td>\n",
              "      <td>NaN</td>\n",
              "      <td>0.479139</td>\n",
              "      <td>0.021371</td>\n",
              "    </tr>\n",
              "    <tr>\n",
              "      <th>1</th>\n",
              "      <td>0.5</td>\n",
              "      <td>0.001</td>\n",
              "      <td>NaN</td>\n",
              "      <td>0.479139</td>\n",
              "      <td>0.021371</td>\n",
              "    </tr>\n",
              "    <tr>\n",
              "      <th>2</th>\n",
              "      <td>0.5</td>\n",
              "      <td>0.002</td>\n",
              "      <td>0.000061</td>\n",
              "      <td>0.479141</td>\n",
              "      <td>0.021369</td>\n",
              "    </tr>\n",
              "    <tr>\n",
              "      <th>3</th>\n",
              "      <td>0.5</td>\n",
              "      <td>0.003</td>\n",
              "      <td>0.000119</td>\n",
              "      <td>0.479143</td>\n",
              "      <td>0.021367</td>\n",
              "    </tr>\n",
              "    <tr>\n",
              "      <th>4</th>\n",
              "      <td>0.5</td>\n",
              "      <td>0.004</td>\n",
              "      <td>0.000170</td>\n",
              "      <td>0.479146</td>\n",
              "      <td>0.021364</td>\n",
              "    </tr>\n",
              "    <tr>\n",
              "      <th>...</th>\n",
              "      <td>...</td>\n",
              "      <td>...</td>\n",
              "      <td>...</td>\n",
              "      <td>...</td>\n",
              "      <td>...</td>\n",
              "    </tr>\n",
              "    <tr>\n",
              "      <th>99995</th>\n",
              "      <td>1000.0</td>\n",
              "      <td>0.045</td>\n",
              "      <td>0.000023</td>\n",
              "      <td>999.496246</td>\n",
              "      <td>0.504264</td>\n",
              "    </tr>\n",
              "    <tr>\n",
              "      <th>99996</th>\n",
              "      <td>1000.0</td>\n",
              "      <td>0.046</td>\n",
              "      <td>0.000022</td>\n",
              "      <td>999.517929</td>\n",
              "      <td>0.482581</td>\n",
              "    </tr>\n",
              "    <tr>\n",
              "      <th>99997</th>\n",
              "      <td>1000.0</td>\n",
              "      <td>0.047</td>\n",
              "      <td>0.000022</td>\n",
              "      <td>999.538244</td>\n",
              "      <td>0.462266</td>\n",
              "    </tr>\n",
              "    <tr>\n",
              "      <th>99998</th>\n",
              "      <td>1000.0</td>\n",
              "      <td>0.048</td>\n",
              "      <td>0.000021</td>\n",
              "      <td>999.557302</td>\n",
              "      <td>0.443208</td>\n",
              "    </tr>\n",
              "    <tr>\n",
              "      <th>99999</th>\n",
              "      <td>1000.0</td>\n",
              "      <td>0.049</td>\n",
              "      <td>0.000021</td>\n",
              "      <td>999.575207</td>\n",
              "      <td>0.425303</td>\n",
              "    </tr>\n",
              "  </tbody>\n",
              "</table>\n",
              "<p>100000 rows × 5 columns</p>\n",
              "</div>\n",
              "      <button class=\"colab-df-convert\" onclick=\"convertToInteractive('df-51d43821-563e-44fd-aa19-a6ec87c0bc5b')\"\n",
              "              title=\"Convert this dataframe to an interactive table.\"\n",
              "              style=\"display:none;\">\n",
              "        \n",
              "  <svg xmlns=\"http://www.w3.org/2000/svg\" height=\"24px\"viewBox=\"0 0 24 24\"\n",
              "       width=\"24px\">\n",
              "    <path d=\"M0 0h24v24H0V0z\" fill=\"none\"/>\n",
              "    <path d=\"M18.56 5.44l.94 2.06.94-2.06 2.06-.94-2.06-.94-.94-2.06-.94 2.06-2.06.94zm-11 1L8.5 8.5l.94-2.06 2.06-.94-2.06-.94L8.5 2.5l-.94 2.06-2.06.94zm10 10l.94 2.06.94-2.06 2.06-.94-2.06-.94-.94-2.06-.94 2.06-2.06.94z\"/><path d=\"M17.41 7.96l-1.37-1.37c-.4-.4-.92-.59-1.43-.59-.52 0-1.04.2-1.43.59L10.3 9.45l-7.72 7.72c-.78.78-.78 2.05 0 2.83L4 21.41c.39.39.9.59 1.41.59.51 0 1.02-.2 1.41-.59l7.78-7.78 2.81-2.81c.8-.78.8-2.07 0-2.86zM5.41 20L4 18.59l7.72-7.72 1.47 1.35L5.41 20z\"/>\n",
              "  </svg>\n",
              "      </button>\n",
              "      \n",
              "  <style>\n",
              "    .colab-df-container {\n",
              "      display:flex;\n",
              "      flex-wrap:wrap;\n",
              "      gap: 12px;\n",
              "    }\n",
              "\n",
              "    .colab-df-convert {\n",
              "      background-color: #E8F0FE;\n",
              "      border: none;\n",
              "      border-radius: 50%;\n",
              "      cursor: pointer;\n",
              "      display: none;\n",
              "      fill: #1967D2;\n",
              "      height: 32px;\n",
              "      padding: 0 0 0 0;\n",
              "      width: 32px;\n",
              "    }\n",
              "\n",
              "    .colab-df-convert:hover {\n",
              "      background-color: #E2EBFA;\n",
              "      box-shadow: 0px 1px 2px rgba(60, 64, 67, 0.3), 0px 1px 3px 1px rgba(60, 64, 67, 0.15);\n",
              "      fill: #174EA6;\n",
              "    }\n",
              "\n",
              "    [theme=dark] .colab-df-convert {\n",
              "      background-color: #3B4455;\n",
              "      fill: #D2E3FC;\n",
              "    }\n",
              "\n",
              "    [theme=dark] .colab-df-convert:hover {\n",
              "      background-color: #434B5C;\n",
              "      box-shadow: 0px 1px 3px 1px rgba(0, 0, 0, 0.15);\n",
              "      filter: drop-shadow(0px 1px 2px rgba(0, 0, 0, 0.3));\n",
              "      fill: #FFFFFF;\n",
              "    }\n",
              "  </style>\n",
              "\n",
              "      <script>\n",
              "        const buttonEl =\n",
              "          document.querySelector('#df-51d43821-563e-44fd-aa19-a6ec87c0bc5b button.colab-df-convert');\n",
              "        buttonEl.style.display =\n",
              "          google.colab.kernel.accessAllowed ? 'block' : 'none';\n",
              "\n",
              "        async function convertToInteractive(key) {\n",
              "          const element = document.querySelector('#df-51d43821-563e-44fd-aa19-a6ec87c0bc5b');\n",
              "          const dataTable =\n",
              "            await google.colab.kernel.invokeFunction('convertToInteractive',\n",
              "                                                     [key], {});\n",
              "          if (!dataTable) return;\n",
              "\n",
              "          const docLinkHtml = 'Like what you see? Visit the ' +\n",
              "            '<a target=\"_blank\" href=https://colab.research.google.com/notebooks/data_table.ipynb>data table notebook</a>'\n",
              "            + ' to learn more about interactive tables.';\n",
              "          element.innerHTML = '';\n",
              "          dataTable['output_type'] = 'display_data';\n",
              "          await google.colab.output.renderOutput(dataTable, element);\n",
              "          const docLink = document.createElement('div');\n",
              "          docLink.innerHTML = docLinkHtml;\n",
              "          element.appendChild(docLink);\n",
              "        }\n",
              "      </script>\n",
              "    </div>\n",
              "  </div>\n",
              "  "
            ]
          },
          "metadata": {},
          "execution_count": 4
        }
      ]
    },
    {
      "cell_type": "code",
      "source": [
        "df_sort= df.dropna()"
      ],
      "metadata": {
        "id": "8Su1_7UK0gXK"
      },
      "execution_count": null,
      "outputs": []
    },
    {
      "cell_type": "code",
      "source": [
        "# df_sort\n"
      ],
      "metadata": {
        "id": "Awz_ONCn2OsW"
      },
      "execution_count": null,
      "outputs": []
    },
    {
      "cell_type": "code",
      "source": [
        "df_sort.reset_index(level=None, drop=True, inplace=True)\n",
        "df_sort"
      ],
      "metadata": {
        "colab": {
          "base_uri": "https://localhost:8080/",
          "height": 424
        },
        "id": "01orYb59AGwe",
        "outputId": "37b78d7c-682b-442e-c43f-245e28a69344"
      },
      "execution_count": null,
      "outputs": [
        {
          "output_type": "execute_result",
          "data": {
            "text/plain": [
              "         E_mu  Theta_e  Theta_mu       Emu_p      Ee_p\n",
              "0         0.5    0.002  0.000061    0.479141  0.021369\n",
              "1         0.5    0.003  0.000119    0.479143  0.021367\n",
              "2         0.5    0.004  0.000170    0.479146  0.021364\n",
              "3         0.5    0.005  0.000218    0.479150  0.021360\n",
              "4         0.5    0.006  0.000265    0.479155  0.021355\n",
              "...       ...      ...       ...         ...       ...\n",
              "97994  1000.0    0.045  0.000023  999.496246  0.504264\n",
              "97995  1000.0    0.046  0.000022  999.517929  0.482581\n",
              "97996  1000.0    0.047  0.000022  999.538244  0.462266\n",
              "97997  1000.0    0.048  0.000021  999.557302  0.443208\n",
              "97998  1000.0    0.049  0.000021  999.575207  0.425303\n",
              "\n",
              "[97999 rows x 5 columns]"
            ],
            "text/html": [
              "\n",
              "  <div id=\"df-22bf5031-5b3e-4b58-a607-7cf6084d010b\">\n",
              "    <div class=\"colab-df-container\">\n",
              "      <div>\n",
              "<style scoped>\n",
              "    .dataframe tbody tr th:only-of-type {\n",
              "        vertical-align: middle;\n",
              "    }\n",
              "\n",
              "    .dataframe tbody tr th {\n",
              "        vertical-align: top;\n",
              "    }\n",
              "\n",
              "    .dataframe thead th {\n",
              "        text-align: right;\n",
              "    }\n",
              "</style>\n",
              "<table border=\"1\" class=\"dataframe\">\n",
              "  <thead>\n",
              "    <tr style=\"text-align: right;\">\n",
              "      <th></th>\n",
              "      <th>E_mu</th>\n",
              "      <th>Theta_e</th>\n",
              "      <th>Theta_mu</th>\n",
              "      <th>Emu_p</th>\n",
              "      <th>Ee_p</th>\n",
              "    </tr>\n",
              "  </thead>\n",
              "  <tbody>\n",
              "    <tr>\n",
              "      <th>0</th>\n",
              "      <td>0.5</td>\n",
              "      <td>0.002</td>\n",
              "      <td>0.000061</td>\n",
              "      <td>0.479141</td>\n",
              "      <td>0.021369</td>\n",
              "    </tr>\n",
              "    <tr>\n",
              "      <th>1</th>\n",
              "      <td>0.5</td>\n",
              "      <td>0.003</td>\n",
              "      <td>0.000119</td>\n",
              "      <td>0.479143</td>\n",
              "      <td>0.021367</td>\n",
              "    </tr>\n",
              "    <tr>\n",
              "      <th>2</th>\n",
              "      <td>0.5</td>\n",
              "      <td>0.004</td>\n",
              "      <td>0.000170</td>\n",
              "      <td>0.479146</td>\n",
              "      <td>0.021364</td>\n",
              "    </tr>\n",
              "    <tr>\n",
              "      <th>3</th>\n",
              "      <td>0.5</td>\n",
              "      <td>0.005</td>\n",
              "      <td>0.000218</td>\n",
              "      <td>0.479150</td>\n",
              "      <td>0.021360</td>\n",
              "    </tr>\n",
              "    <tr>\n",
              "      <th>4</th>\n",
              "      <td>0.5</td>\n",
              "      <td>0.006</td>\n",
              "      <td>0.000265</td>\n",
              "      <td>0.479155</td>\n",
              "      <td>0.021355</td>\n",
              "    </tr>\n",
              "    <tr>\n",
              "      <th>...</th>\n",
              "      <td>...</td>\n",
              "      <td>...</td>\n",
              "      <td>...</td>\n",
              "      <td>...</td>\n",
              "      <td>...</td>\n",
              "    </tr>\n",
              "    <tr>\n",
              "      <th>97994</th>\n",
              "      <td>1000.0</td>\n",
              "      <td>0.045</td>\n",
              "      <td>0.000023</td>\n",
              "      <td>999.496246</td>\n",
              "      <td>0.504264</td>\n",
              "    </tr>\n",
              "    <tr>\n",
              "      <th>97995</th>\n",
              "      <td>1000.0</td>\n",
              "      <td>0.046</td>\n",
              "      <td>0.000022</td>\n",
              "      <td>999.517929</td>\n",
              "      <td>0.482581</td>\n",
              "    </tr>\n",
              "    <tr>\n",
              "      <th>97996</th>\n",
              "      <td>1000.0</td>\n",
              "      <td>0.047</td>\n",
              "      <td>0.000022</td>\n",
              "      <td>999.538244</td>\n",
              "      <td>0.462266</td>\n",
              "    </tr>\n",
              "    <tr>\n",
              "      <th>97997</th>\n",
              "      <td>1000.0</td>\n",
              "      <td>0.048</td>\n",
              "      <td>0.000021</td>\n",
              "      <td>999.557302</td>\n",
              "      <td>0.443208</td>\n",
              "    </tr>\n",
              "    <tr>\n",
              "      <th>97998</th>\n",
              "      <td>1000.0</td>\n",
              "      <td>0.049</td>\n",
              "      <td>0.000021</td>\n",
              "      <td>999.575207</td>\n",
              "      <td>0.425303</td>\n",
              "    </tr>\n",
              "  </tbody>\n",
              "</table>\n",
              "<p>97999 rows × 5 columns</p>\n",
              "</div>\n",
              "      <button class=\"colab-df-convert\" onclick=\"convertToInteractive('df-22bf5031-5b3e-4b58-a607-7cf6084d010b')\"\n",
              "              title=\"Convert this dataframe to an interactive table.\"\n",
              "              style=\"display:none;\">\n",
              "        \n",
              "  <svg xmlns=\"http://www.w3.org/2000/svg\" height=\"24px\"viewBox=\"0 0 24 24\"\n",
              "       width=\"24px\">\n",
              "    <path d=\"M0 0h24v24H0V0z\" fill=\"none\"/>\n",
              "    <path d=\"M18.56 5.44l.94 2.06.94-2.06 2.06-.94-2.06-.94-.94-2.06-.94 2.06-2.06.94zm-11 1L8.5 8.5l.94-2.06 2.06-.94-2.06-.94L8.5 2.5l-.94 2.06-2.06.94zm10 10l.94 2.06.94-2.06 2.06-.94-2.06-.94-.94-2.06-.94 2.06-2.06.94z\"/><path d=\"M17.41 7.96l-1.37-1.37c-.4-.4-.92-.59-1.43-.59-.52 0-1.04.2-1.43.59L10.3 9.45l-7.72 7.72c-.78.78-.78 2.05 0 2.83L4 21.41c.39.39.9.59 1.41.59.51 0 1.02-.2 1.41-.59l7.78-7.78 2.81-2.81c.8-.78.8-2.07 0-2.86zM5.41 20L4 18.59l7.72-7.72 1.47 1.35L5.41 20z\"/>\n",
              "  </svg>\n",
              "      </button>\n",
              "      \n",
              "  <style>\n",
              "    .colab-df-container {\n",
              "      display:flex;\n",
              "      flex-wrap:wrap;\n",
              "      gap: 12px;\n",
              "    }\n",
              "\n",
              "    .colab-df-convert {\n",
              "      background-color: #E8F0FE;\n",
              "      border: none;\n",
              "      border-radius: 50%;\n",
              "      cursor: pointer;\n",
              "      display: none;\n",
              "      fill: #1967D2;\n",
              "      height: 32px;\n",
              "      padding: 0 0 0 0;\n",
              "      width: 32px;\n",
              "    }\n",
              "\n",
              "    .colab-df-convert:hover {\n",
              "      background-color: #E2EBFA;\n",
              "      box-shadow: 0px 1px 2px rgba(60, 64, 67, 0.3), 0px 1px 3px 1px rgba(60, 64, 67, 0.15);\n",
              "      fill: #174EA6;\n",
              "    }\n",
              "\n",
              "    [theme=dark] .colab-df-convert {\n",
              "      background-color: #3B4455;\n",
              "      fill: #D2E3FC;\n",
              "    }\n",
              "\n",
              "    [theme=dark] .colab-df-convert:hover {\n",
              "      background-color: #434B5C;\n",
              "      box-shadow: 0px 1px 3px 1px rgba(0, 0, 0, 0.15);\n",
              "      filter: drop-shadow(0px 1px 2px rgba(0, 0, 0, 0.3));\n",
              "      fill: #FFFFFF;\n",
              "    }\n",
              "  </style>\n",
              "\n",
              "      <script>\n",
              "        const buttonEl =\n",
              "          document.querySelector('#df-22bf5031-5b3e-4b58-a607-7cf6084d010b button.colab-df-convert');\n",
              "        buttonEl.style.display =\n",
              "          google.colab.kernel.accessAllowed ? 'block' : 'none';\n",
              "\n",
              "        async function convertToInteractive(key) {\n",
              "          const element = document.querySelector('#df-22bf5031-5b3e-4b58-a607-7cf6084d010b');\n",
              "          const dataTable =\n",
              "            await google.colab.kernel.invokeFunction('convertToInteractive',\n",
              "                                                     [key], {});\n",
              "          if (!dataTable) return;\n",
              "\n",
              "          const docLinkHtml = 'Like what you see? Visit the ' +\n",
              "            '<a target=\"_blank\" href=https://colab.research.google.com/notebooks/data_table.ipynb>data table notebook</a>'\n",
              "            + ' to learn more about interactive tables.';\n",
              "          element.innerHTML = '';\n",
              "          dataTable['output_type'] = 'display_data';\n",
              "          await google.colab.output.renderOutput(dataTable, element);\n",
              "          const docLink = document.createElement('div');\n",
              "          docLink.innerHTML = docLinkHtml;\n",
              "          element.appendChild(docLink);\n",
              "        }\n",
              "      </script>\n",
              "    </div>\n",
              "  </div>\n",
              "  "
            ]
          },
          "metadata": {},
          "execution_count": 6
        }
      ]
    },
    {
      "cell_type": "code",
      "source": [
        "# df1 =df_sort[df_sort['E_mu']>150]\n",
        "# df1 = df1[df1[\"E_mu\"]<200]\n",
        "# plt.scatter(df1[\"Theta_e\"],df1[\"Theta_mu\"])\n"
      ],
      "metadata": {
        "id": "nrPCWs3Lo3Jz"
      },
      "execution_count": null,
      "outputs": []
    },
    {
      "cell_type": "code",
      "source": [
        "# Create a copy for further processing\n",
        "dataset = df_sort[['E_mu', \t'Theta_e', \t'Theta_mu' \t]]\n",
        "# dataset= df.copy()\n",
        "# Check for null values\n",
        "dataset.isna().sum()"
      ],
      "metadata": {
        "id": "ahHkL8KKfNoh",
        "colab": {
          "base_uri": "https://localhost:8080/"
        },
        "outputId": "86cef9d7-c638-4188-c67e-7c13781849d0"
      },
      "execution_count": null,
      "outputs": [
        {
          "output_type": "execute_result",
          "data": {
            "text/plain": [
              "E_mu        0\n",
              "Theta_e     0\n",
              "Theta_mu    0\n",
              "dtype: int64"
            ]
          },
          "metadata": {},
          "execution_count": 9
        }
      ]
    },
    {
      "cell_type": "code",
      "source": [
        "# Split the Dataset and create train and test sets\n",
        "train_dataset = dataset.sample(frac=0.8, random_state=0)\n",
        "test_dataset = dataset.drop(train_dataset.index)\n",
        "\n",
        "print(dataset.shape, train_dataset.shape, test_dataset.shape)\n",
        "train_dataset.describe().transpose()"
      ],
      "metadata": {
        "id": "klSf4W4BfuSW",
        "colab": {
          "base_uri": "https://localhost:8080/",
          "height": 161
        },
        "outputId": "41e8fb6a-d81a-40c4-9ee5-42a548d668b3"
      },
      "execution_count": null,
      "outputs": [
        {
          "output_type": "stream",
          "name": "stdout",
          "text": [
            "(97999, 3) (78399, 3) (19600, 3)\n"
          ]
        },
        {
          "output_type": "execute_result",
          "data": {
            "text/plain": [
              "            count        mean         std       min         25%         50%  \\\n",
              "E_mu      78399.0  500.124039  288.486745  0.500000  250.500000  500.500000   \n",
              "Theta_e   78399.0    0.024973    0.014134  0.001000    0.013000    0.025000   \n",
              "Theta_mu  78399.0    0.000367    0.000736  0.000021    0.000054    0.000109   \n",
              "\n",
              "                 75%          max  \n",
              "E_mu      749.500000  1000.000000  \n",
              "Theta_e     0.037000     0.049000  \n",
              "Theta_mu    0.000292     0.004831  "
            ],
            "text/html": [
              "\n",
              "  <div id=\"df-9061ac86-266b-4441-9e3d-10c5e55409da\">\n",
              "    <div class=\"colab-df-container\">\n",
              "      <div>\n",
              "<style scoped>\n",
              "    .dataframe tbody tr th:only-of-type {\n",
              "        vertical-align: middle;\n",
              "    }\n",
              "\n",
              "    .dataframe tbody tr th {\n",
              "        vertical-align: top;\n",
              "    }\n",
              "\n",
              "    .dataframe thead th {\n",
              "        text-align: right;\n",
              "    }\n",
              "</style>\n",
              "<table border=\"1\" class=\"dataframe\">\n",
              "  <thead>\n",
              "    <tr style=\"text-align: right;\">\n",
              "      <th></th>\n",
              "      <th>count</th>\n",
              "      <th>mean</th>\n",
              "      <th>std</th>\n",
              "      <th>min</th>\n",
              "      <th>25%</th>\n",
              "      <th>50%</th>\n",
              "      <th>75%</th>\n",
              "      <th>max</th>\n",
              "    </tr>\n",
              "  </thead>\n",
              "  <tbody>\n",
              "    <tr>\n",
              "      <th>E_mu</th>\n",
              "      <td>78399.0</td>\n",
              "      <td>500.124039</td>\n",
              "      <td>288.486745</td>\n",
              "      <td>0.500000</td>\n",
              "      <td>250.500000</td>\n",
              "      <td>500.500000</td>\n",
              "      <td>749.500000</td>\n",
              "      <td>1000.000000</td>\n",
              "    </tr>\n",
              "    <tr>\n",
              "      <th>Theta_e</th>\n",
              "      <td>78399.0</td>\n",
              "      <td>0.024973</td>\n",
              "      <td>0.014134</td>\n",
              "      <td>0.001000</td>\n",
              "      <td>0.013000</td>\n",
              "      <td>0.025000</td>\n",
              "      <td>0.037000</td>\n",
              "      <td>0.049000</td>\n",
              "    </tr>\n",
              "    <tr>\n",
              "      <th>Theta_mu</th>\n",
              "      <td>78399.0</td>\n",
              "      <td>0.000367</td>\n",
              "      <td>0.000736</td>\n",
              "      <td>0.000021</td>\n",
              "      <td>0.000054</td>\n",
              "      <td>0.000109</td>\n",
              "      <td>0.000292</td>\n",
              "      <td>0.004831</td>\n",
              "    </tr>\n",
              "  </tbody>\n",
              "</table>\n",
              "</div>\n",
              "      <button class=\"colab-df-convert\" onclick=\"convertToInteractive('df-9061ac86-266b-4441-9e3d-10c5e55409da')\"\n",
              "              title=\"Convert this dataframe to an interactive table.\"\n",
              "              style=\"display:none;\">\n",
              "        \n",
              "  <svg xmlns=\"http://www.w3.org/2000/svg\" height=\"24px\"viewBox=\"0 0 24 24\"\n",
              "       width=\"24px\">\n",
              "    <path d=\"M0 0h24v24H0V0z\" fill=\"none\"/>\n",
              "    <path d=\"M18.56 5.44l.94 2.06.94-2.06 2.06-.94-2.06-.94-.94-2.06-.94 2.06-2.06.94zm-11 1L8.5 8.5l.94-2.06 2.06-.94-2.06-.94L8.5 2.5l-.94 2.06-2.06.94zm10 10l.94 2.06.94-2.06 2.06-.94-2.06-.94-.94-2.06-.94 2.06-2.06.94z\"/><path d=\"M17.41 7.96l-1.37-1.37c-.4-.4-.92-.59-1.43-.59-.52 0-1.04.2-1.43.59L10.3 9.45l-7.72 7.72c-.78.78-.78 2.05 0 2.83L4 21.41c.39.39.9.59 1.41.59.51 0 1.02-.2 1.41-.59l7.78-7.78 2.81-2.81c.8-.78.8-2.07 0-2.86zM5.41 20L4 18.59l7.72-7.72 1.47 1.35L5.41 20z\"/>\n",
              "  </svg>\n",
              "      </button>\n",
              "      \n",
              "  <style>\n",
              "    .colab-df-container {\n",
              "      display:flex;\n",
              "      flex-wrap:wrap;\n",
              "      gap: 12px;\n",
              "    }\n",
              "\n",
              "    .colab-df-convert {\n",
              "      background-color: #E8F0FE;\n",
              "      border: none;\n",
              "      border-radius: 50%;\n",
              "      cursor: pointer;\n",
              "      display: none;\n",
              "      fill: #1967D2;\n",
              "      height: 32px;\n",
              "      padding: 0 0 0 0;\n",
              "      width: 32px;\n",
              "    }\n",
              "\n",
              "    .colab-df-convert:hover {\n",
              "      background-color: #E2EBFA;\n",
              "      box-shadow: 0px 1px 2px rgba(60, 64, 67, 0.3), 0px 1px 3px 1px rgba(60, 64, 67, 0.15);\n",
              "      fill: #174EA6;\n",
              "    }\n",
              "\n",
              "    [theme=dark] .colab-df-convert {\n",
              "      background-color: #3B4455;\n",
              "      fill: #D2E3FC;\n",
              "    }\n",
              "\n",
              "    [theme=dark] .colab-df-convert:hover {\n",
              "      background-color: #434B5C;\n",
              "      box-shadow: 0px 1px 3px 1px rgba(0, 0, 0, 0.15);\n",
              "      filter: drop-shadow(0px 1px 2px rgba(0, 0, 0, 0.3));\n",
              "      fill: #FFFFFF;\n",
              "    }\n",
              "  </style>\n",
              "\n",
              "      <script>\n",
              "        const buttonEl =\n",
              "          document.querySelector('#df-9061ac86-266b-4441-9e3d-10c5e55409da button.colab-df-convert');\n",
              "        buttonEl.style.display =\n",
              "          google.colab.kernel.accessAllowed ? 'block' : 'none';\n",
              "\n",
              "        async function convertToInteractive(key) {\n",
              "          const element = document.querySelector('#df-9061ac86-266b-4441-9e3d-10c5e55409da');\n",
              "          const dataTable =\n",
              "            await google.colab.kernel.invokeFunction('convertToInteractive',\n",
              "                                                     [key], {});\n",
              "          if (!dataTable) return;\n",
              "\n",
              "          const docLinkHtml = 'Like what you see? Visit the ' +\n",
              "            '<a target=\"_blank\" href=https://colab.research.google.com/notebooks/data_table.ipynb>data table notebook</a>'\n",
              "            + ' to learn more about interactive tables.';\n",
              "          element.innerHTML = '';\n",
              "          dataTable['output_type'] = 'display_data';\n",
              "          await google.colab.output.renderOutput(dataTable, element);\n",
              "          const docLink = document.createElement('div');\n",
              "          docLink.innerHTML = docLinkHtml;\n",
              "          element.appendChild(docLink);\n",
              "        }\n",
              "      </script>\n",
              "    </div>\n",
              "  </div>\n",
              "  "
            ]
          },
          "metadata": {},
          "execution_count": 10
        }
      ]
    },
    {
      "cell_type": "code",
      "source": [
        "# Separate labels and features\n",
        "train_features = train_dataset.copy()\n",
        "test_features = test_dataset.copy()\n",
        "\n",
        "train_labels = train_features.pop(\"E_mu\")\n",
        "test_labels = test_features.pop(\"E_mu\")"
      ],
      "metadata": {
        "id": "-pmMFpZtf6YA"
      },
      "execution_count": null,
      "outputs": []
    },
    {
      "cell_type": "code",
      "source": [
        "print(train_features)\n",
        "print(test_features)\n",
        "print(train_labels)\n",
        "print(test_labels)"
      ],
      "metadata": {
        "id": "NzWPCLzMg8K0",
        "colab": {
          "base_uri": "https://localhost:8080/"
        },
        "outputId": "cca5b6e6-7e73-4c1d-e88f-32a2d625db8c"
      },
      "execution_count": null,
      "outputs": [
        {
          "output_type": "stream",
          "name": "stdout",
          "text": [
            "       Theta_e  Theta_mu\n",
            "46902    0.011  0.000194\n",
            "45715    0.049  0.000045\n",
            "40929    0.016  0.000153\n",
            "40362    0.037  0.000067\n",
            "96483    0.004  0.000259\n",
            "...        ...       ...\n",
            "50879    0.019  0.000104\n",
            "26807    0.006  0.000619\n",
            "3012     0.025  0.001294\n",
            "13719    0.001  0.004643\n",
            "46195    0.039  0.000056\n",
            "\n",
            "[78399 rows x 2 columns]\n",
            "       Theta_e  Theta_mu\n",
            "2        0.004  0.000170\n",
            "10       0.012  0.000543\n",
            "13       0.015  0.000679\n",
            "20       0.022  0.000993\n",
            "21       0.023  0.001037\n",
            "...        ...       ...\n",
            "97958    0.009  0.000114\n",
            "97965    0.016  0.000064\n",
            "97972    0.023  0.000044\n",
            "97976    0.027  0.000038\n",
            "97979    0.030  0.000034\n",
            "\n",
            "[19600 rows x 2 columns]\n",
            "46902    479.0\n",
            "45715    466.5\n",
            "40929    418.0\n",
            "40362    412.0\n",
            "96483    985.0\n",
            "         ...  \n",
            "50879    519.5\n",
            "26807    274.0\n",
            "3012      31.0\n",
            "13719    140.5\n",
            "46195    471.5\n",
            "Name: E_mu, Length: 78399, dtype: float64\n",
            "2           0.5\n",
            "10          0.5\n",
            "13          0.5\n",
            "20          0.5\n",
            "21          0.5\n",
            "          ...  \n",
            "97958    1000.0\n",
            "97965    1000.0\n",
            "97972    1000.0\n",
            "97976    1000.0\n",
            "97979    1000.0\n",
            "Name: E_mu, Length: 19600, dtype: float64\n"
          ]
        }
      ]
    },
    {
      "cell_type": "code",
      "source": [
        "#normalisation\n",
        "from sklearn.preprocessing import MinMaxScaler\n",
        "\n",
        "feature_scaler = MinMaxScaler()\n",
        "label_scaler = MinMaxScaler()\n",
        "# Fit on Training Data\n",
        "feature_scaler.fit(train_features.values)\n",
        "label_scaler.fit(train_labels.values.reshape(-1, 1))"
      ],
      "metadata": {
        "id": "G1f0Vu03vWYX",
        "colab": {
          "base_uri": "https://localhost:8080/",
          "height": 75
        },
        "outputId": "825fe429-3850-48b6-936c-1eda48e8c59d"
      },
      "execution_count": null,
      "outputs": [
        {
          "output_type": "execute_result",
          "data": {
            "text/plain": [
              "MinMaxScaler()"
            ],
            "text/html": [
              "<style>#sk-container-id-1 {color: black;background-color: white;}#sk-container-id-1 pre{padding: 0;}#sk-container-id-1 div.sk-toggleable {background-color: white;}#sk-container-id-1 label.sk-toggleable__label {cursor: pointer;display: block;width: 100%;margin-bottom: 0;padding: 0.3em;box-sizing: border-box;text-align: center;}#sk-container-id-1 label.sk-toggleable__label-arrow:before {content: \"▸\";float: left;margin-right: 0.25em;color: #696969;}#sk-container-id-1 label.sk-toggleable__label-arrow:hover:before {color: black;}#sk-container-id-1 div.sk-estimator:hover label.sk-toggleable__label-arrow:before {color: black;}#sk-container-id-1 div.sk-toggleable__content {max-height: 0;max-width: 0;overflow: hidden;text-align: left;background-color: #f0f8ff;}#sk-container-id-1 div.sk-toggleable__content pre {margin: 0.2em;color: black;border-radius: 0.25em;background-color: #f0f8ff;}#sk-container-id-1 input.sk-toggleable__control:checked~div.sk-toggleable__content {max-height: 200px;max-width: 100%;overflow: auto;}#sk-container-id-1 input.sk-toggleable__control:checked~label.sk-toggleable__label-arrow:before {content: \"▾\";}#sk-container-id-1 div.sk-estimator input.sk-toggleable__control:checked~label.sk-toggleable__label {background-color: #d4ebff;}#sk-container-id-1 div.sk-label input.sk-toggleable__control:checked~label.sk-toggleable__label {background-color: #d4ebff;}#sk-container-id-1 input.sk-hidden--visually {border: 0;clip: rect(1px 1px 1px 1px);clip: rect(1px, 1px, 1px, 1px);height: 1px;margin: -1px;overflow: hidden;padding: 0;position: absolute;width: 1px;}#sk-container-id-1 div.sk-estimator {font-family: monospace;background-color: #f0f8ff;border: 1px dotted black;border-radius: 0.25em;box-sizing: border-box;margin-bottom: 0.5em;}#sk-container-id-1 div.sk-estimator:hover {background-color: #d4ebff;}#sk-container-id-1 div.sk-parallel-item::after {content: \"\";width: 100%;border-bottom: 1px solid gray;flex-grow: 1;}#sk-container-id-1 div.sk-label:hover label.sk-toggleable__label {background-color: #d4ebff;}#sk-container-id-1 div.sk-serial::before {content: \"\";position: absolute;border-left: 1px solid gray;box-sizing: border-box;top: 0;bottom: 0;left: 50%;z-index: 0;}#sk-container-id-1 div.sk-serial {display: flex;flex-direction: column;align-items: center;background-color: white;padding-right: 0.2em;padding-left: 0.2em;position: relative;}#sk-container-id-1 div.sk-item {position: relative;z-index: 1;}#sk-container-id-1 div.sk-parallel {display: flex;align-items: stretch;justify-content: center;background-color: white;position: relative;}#sk-container-id-1 div.sk-item::before, #sk-container-id-1 div.sk-parallel-item::before {content: \"\";position: absolute;border-left: 1px solid gray;box-sizing: border-box;top: 0;bottom: 0;left: 50%;z-index: -1;}#sk-container-id-1 div.sk-parallel-item {display: flex;flex-direction: column;z-index: 1;position: relative;background-color: white;}#sk-container-id-1 div.sk-parallel-item:first-child::after {align-self: flex-end;width: 50%;}#sk-container-id-1 div.sk-parallel-item:last-child::after {align-self: flex-start;width: 50%;}#sk-container-id-1 div.sk-parallel-item:only-child::after {width: 0;}#sk-container-id-1 div.sk-dashed-wrapped {border: 1px dashed gray;margin: 0 0.4em 0.5em 0.4em;box-sizing: border-box;padding-bottom: 0.4em;background-color: white;}#sk-container-id-1 div.sk-label label {font-family: monospace;font-weight: bold;display: inline-block;line-height: 1.2em;}#sk-container-id-1 div.sk-label-container {text-align: center;}#sk-container-id-1 div.sk-container {/* jupyter's `normalize.less` sets `[hidden] { display: none; }` but bootstrap.min.css set `[hidden] { display: none !important; }` so we also need the `!important` here to be able to override the default hidden behavior on the sphinx rendered scikit-learn.org. See: https://github.com/scikit-learn/scikit-learn/issues/21755 */display: inline-block !important;position: relative;}#sk-container-id-1 div.sk-text-repr-fallback {display: none;}</style><div id=\"sk-container-id-1\" class=\"sk-top-container\"><div class=\"sk-text-repr-fallback\"><pre>MinMaxScaler()</pre><b>In a Jupyter environment, please rerun this cell to show the HTML representation or trust the notebook. <br />On GitHub, the HTML representation is unable to render, please try loading this page with nbviewer.org.</b></div><div class=\"sk-container\" hidden><div class=\"sk-item\"><div class=\"sk-estimator sk-toggleable\"><input class=\"sk-toggleable__control sk-hidden--visually\" id=\"sk-estimator-id-1\" type=\"checkbox\" checked><label for=\"sk-estimator-id-1\" class=\"sk-toggleable__label sk-toggleable__label-arrow\">MinMaxScaler</label><div class=\"sk-toggleable__content\"><pre>MinMaxScaler()</pre></div></div></div></div></div>"
            ]
          },
          "metadata": {},
          "execution_count": 13
        }
      ]
    },
    {
      "cell_type": "code",
      "source": [
        "# Transform both training and testing data\n",
        "train_features = feature_scaler.transform(train_features.values)\n",
        "test_features = feature_scaler.transform(test_features.values)\n",
        "train_labels = label_scaler.transform(train_labels.values.reshape(-1, 1))\n",
        "test_labels = label_scaler.transform(test_labels.values.reshape(-1, 1))"
      ],
      "metadata": {
        "id": "2nH8uVt50dSK"
      },
      "execution_count": null,
      "outputs": []
    },
    {
      "cell_type": "code",
      "source": [
        "# After normalization\n",
        "print(train_features)\n",
        "print(test_features)\n",
        "print(train_labels)\n",
        "print(test_labels)"
      ],
      "metadata": {
        "colab": {
          "base_uri": "https://localhost:8080/"
        },
        "id": "3kDs32JfDnUh",
        "outputId": "84ce0626-c48c-4ebb-8238-1a1c4fa5c0b0"
      },
      "execution_count": null,
      "outputs": [
        {
          "output_type": "stream",
          "name": "stdout",
          "text": [
            "[[0.20833333 0.03597404]\n",
            " [1.         0.00495474]\n",
            " [0.3125     0.02742555]\n",
            " ...\n",
            " [0.5        0.26475055]\n",
            " [0.         0.96084732]\n",
            " [0.79166667 0.00721563]]\n",
            "[[0.0625     0.03091352]\n",
            " [0.22916667 0.10847583]\n",
            " [0.29166667 0.13682684]\n",
            " ...\n",
            " [0.45833333 0.00490337]\n",
            " [0.54166667 0.0035346 ]\n",
            " [0.60416667 0.00274749]]\n",
            "[[0.47873937]\n",
            " [0.46623312]\n",
            " [0.41770885]\n",
            " ...\n",
            " [0.03051526]\n",
            " [0.14007004]\n",
            " [0.47123562]]\n",
            "[[0.]\n",
            " [0.]\n",
            " [0.]\n",
            " ...\n",
            " [1.]\n",
            " [1.]\n",
            " [1.]]\n"
          ]
        }
      ]
    },
    {
      "cell_type": "code",
      "source": [
        "#to check the normalization\n",
        "print(np.max(train_features))\n",
        "print(np.max(test_features))\n",
        "print(np.max(train_labels))\n",
        "print(np.max(test_labels))\n"
      ],
      "metadata": {
        "colab": {
          "base_uri": "https://localhost:8080/"
        },
        "id": "BHZpqEHwKgRW",
        "outputId": "00d1fc70-856f-4442-ca6a-b5d14550dbca"
      },
      "execution_count": null,
      "outputs": [
        {
          "output_type": "stream",
          "name": "stdout",
          "text": [
            "1.0000000000000002\n",
            "0.9999999999999999\n",
            "0.9999999999999999\n",
            "0.9999999999999999\n"
          ]
        }
      ]
    },
    {
      "cell_type": "code",
      "source": [
        "# Now let's create a Deep Neural Network to train a regression model on our data.\n",
        "model = Sequential([\n",
        "    layers.Dense(32, activation='relu'),\n",
        "    layers.Dense(64, activation='relu'),\n",
        "    layers.Dense(32, activation='relu'),\n",
        "    layers.Dense(1)\n",
        "])\n"
      ],
      "metadata": {
        "id": "xV1JCEfS0iAn"
      },
      "execution_count": null,
      "outputs": []
    },
    {
      "cell_type": "code",
      "source": [
        "tf.keras.optimizers.Adam(\n",
        "    learning_rate=0.001,\n",
        "    beta_1=0.9,\n",
        "    beta_2=0.999,\n",
        "    epsilon=1e-07,\n",
        "    amsgrad=False,\n",
        "    weight_decay=None,\n",
        "    clipnorm=None,\n",
        "    clipvalue=None,\n",
        "    global_clipnorm=None,\n",
        "    use_ema=False,\n",
        "    ema_momentum=0.99,\n",
        "    ema_overwrite_frequency=None,\n",
        "    jit_compile=True,\n",
        "    name='Adam',\n",
        "\n",
        ")\n"
      ],
      "metadata": {
        "id": "A3Jo2PqONTnq",
        "colab": {
          "base_uri": "https://localhost:8080/"
        },
        "outputId": "6c8c965a-768c-4d8f-a286-61da5f417b64"
      },
      "execution_count": null,
      "outputs": [
        {
          "output_type": "execute_result",
          "data": {
            "text/plain": [
              "<keras.optimizers.adam.Adam at 0x7ff848aa26e0>"
            ]
          },
          "metadata": {},
          "execution_count": 18
        }
      ]
    },
    {
      "cell_type": "code",
      "source": [
        "model.compile(optimizer=\"Adam\",\n",
        "               loss=\"mean_squared_error\")"
      ],
      "metadata": {
        "id": "MSO8Oy5-Nu1j"
      },
      "execution_count": null,
      "outputs": []
    },
    {
      "cell_type": "code",
      "source": [
        "# Now let's train the model\n",
        "history = model.fit(epochs=100, x=train_features, y=train_labels,\n",
        "          validation_data=(test_features, test_labels), verbose=0)"
      ],
      "metadata": {
        "id": "uPuZLUJq2eGv"
      },
      "execution_count": null,
      "outputs": []
    },
    {
      "cell_type": "code",
      "source": [
        "# Function to plot loss\n",
        "def plot_loss(history):\n",
        "    plt.plot(history.history['loss'], label='loss')\n",
        "    plt.plot(history.history['val_loss'], label='val_loss')\n",
        "    plt.ylim([0,10])\n",
        "    plt.xlabel('Epoch')\n",
        "    plt.ylabel('Error (Loss)')\n",
        "    plt.legend()\n",
        "    plt.grid(True)"
      ],
      "metadata": {
        "id": "rqKuq_lu69Y6"
      },
      "execution_count": null,
      "outputs": []
    },
    {
      "cell_type": "code",
      "source": [
        "plot_loss(history)"
      ],
      "metadata": {
        "id": "0-GCihem7Gkv",
        "colab": {
          "base_uri": "https://localhost:8080/",
          "height": 455
        },
        "outputId": "72892ceb-1360-44c1-fa64-7cdbf54c0497"
      },
      "execution_count": null,
      "outputs": [
        {
          "output_type": "display_data",
          "data": {
            "text/plain": [
              "<Figure size 640x480 with 1 Axes>"
            ],
            "image/png": "[encoded data removed]"
          },
          "metadata": {}
        }
      ]
    },
    {
      "cell_type": "code",
      "source": [
        "# Model evaluation on testing dataset\n",
        "model.evaluate(test_features, test_labels)"
      ],
      "metadata": {
        "id": "EsfkVM147NZ0",
        "colab": {
          "base_uri": "https://localhost:8080/"
        },
        "outputId": "989a2b4c-ceb3-4156-a78a-538ceca62ed9"
      },
      "execution_count": null,
      "outputs": [
        {
          "output_type": "stream",
          "name": "stdout",
          "text": [
            "613/613 [==============================] - 1s 1ms/step - loss: 2.9947e-04\n"
          ]
        },
        {
          "output_type": "execute_result",
          "data": {
            "text/plain": [
              "0.00029947038274258375"
            ]
          },
          "metadata": {},
          "execution_count": 23
        }
      ]
    },
    {
      "cell_type": "code",
      "source": [
        "# Load and perform predictions\n",
        "results = model.predict(test_features)"
      ],
      "metadata": {
        "id": "x8OjkTGA7sQX",
        "colab": {
          "base_uri": "https://localhost:8080/"
        },
        "outputId": "1ec8d439-1cce-4162-a80a-c5ddc906a3e4"
      },
      "execution_count": null,
      "outputs": [
        {
          "output_type": "stream",
          "name": "stdout",
          "text": [
            "613/613 [==============================] - 1s 2ms/step\n"
          ]
        }
      ]
    },
    {
      "cell_type": "code",
      "source": [
        "# We can decode using the scikit-learn object to get the result\n",
        "decoded_result = label_scaler.inverse_transform(results.reshape(-1,1))\n",
        "print(decoded_result)\n",
        "print(decoded_result.shape)\n",
        "decoded_testlabels =label_scaler.inverse_transform(test_labels)"
      ],
      "metadata": {
        "id": "sXDgvdfI8ULC",
        "colab": {
          "base_uri": "https://localhost:8080/"
        },
        "outputId": "dcead85b-47d5-42e3-d2f5-7ad418866f67"
      },
      "execution_count": null,
      "outputs": [
        {
          "output_type": "stream",
          "name": "stdout",
          "text": [
            "[[486.80167]\n",
            " [158.97577]\n",
            " [100.01241]\n",
            " ...\n",
            " [988.34717]\n",
            " [987.1984 ]\n",
            " [988.6777 ]]\n",
            "(19600, 1)\n"
          ]
        }
      ]
    },
    {
      "cell_type": "code",
      "source": [
        "plt.scatter(decoded_testlabels, decoded_result, s=3)\n",
        "plt.title(\"Muon Energy Graph\")\n",
        "plt.xlabel(\"Energy calculated (GeV)\")\n",
        "plt.ylabel(\"Predicted Energy (GeV)\")"
      ],
      "metadata": {
        "colab": {
          "base_uri": "https://localhost:8080/",
          "height": 489
        },
        "id": "Cap1Ljka87Hh",
        "outputId": "3b573fae-429d-4e70-d7d8-b3774353c05d"
      },
      "execution_count": null,
      "outputs": [
        {
          "output_type": "execute_result",
          "data": {
            "text/plain": [
              "Text(0, 0.5, 'Predicted Energy (GeV)')"
            ]
          },
          "metadata": {},
          "execution_count": 26
        },
        {
          "output_type": "display_data",
          "data": {
            "text/plain": [
              "<Figure size 640x480 with 1 Axes>"
            ],
            "image/png": "[encoded data removed]"
          },
          "metadata": {}
        }
      ]
    },
    {
      "cell_type": "code",
      "source": [
        "print(np.max(results))\n",
        "print(np.min(results))"
      ],
      "metadata": {
        "colab": {
          "base_uri": "https://localhost:8080/"
        },
        "id": "sxqfTqOdOE-F",
        "outputId": "ee5b0ba0-7b54-41a5-dbf3-1437760a3a3b"
      },
      "execution_count": null,
      "outputs": [
        {
          "output_type": "stream",
          "name": "stdout",
          "text": [
            "0.99906385\n",
            "-0.009970248\n"
          ]
        }
      ]
    },
    {
      "cell_type": "code",
      "source": [
        "# calculate the mean absolute error\n",
        "# calculate errors for minmax normalized 100 epoch model\n",
        "mae = mean_absolute_error(decoded_testlabels, decoded_result)\n",
        "# report error\n",
        "print(mae)"
      ],
      "metadata": {
        "colab": {
          "base_uri": "https://localhost:8080/"
        },
        "id": "l77BtEauOXvd",
        "outputId": "4622eb23-ff44-4145-c07a-4c9ed18526ae"
      },
      "execution_count": null,
      "outputs": [
        {
          "output_type": "stream",
          "name": "stdout",
          "text": [
            "5.043801996330826\n"
          ]
        }
      ]
    },
    {
      "cell_type": "code",
      "source": [
        "enrgyDF= pd.DataFrame(decoded_testlabels, columns= [\"real energy\"])\n"
      ],
      "metadata": {
        "id": "XNlAgPmE6JrN"
      },
      "execution_count": null,
      "outputs": []
    },
    {
      "cell_type": "code",
      "source": [
        "enrgyDF['predicted energy']= decoded_result"
      ],
      "metadata": {
        "id": "t-duFPXB7BYu"
      },
      "execution_count": null,
      "outputs": []
    },
    {
      "cell_type": "code",
      "source": [
        "enrgyDF # for MinMaxscaler normalization function"
      ],
      "metadata": {
        "colab": {
          "base_uri": "https://localhost:8080/",
          "height": 424
        },
        "id": "mZQhQ7jnH0Be",
        "outputId": "4fee128f-c73f-42b5-d0a9-b1eb03a7ea28"
      },
      "execution_count": null,
      "outputs": [
        {
          "output_type": "execute_result",
          "data": {
            "text/plain": [
              "       real energy  predicted energy\n",
              "0              0.5        486.801666\n",
              "1              0.5        158.975769\n",
              "2              0.5        100.012413\n",
              "3              0.5         37.613846\n",
              "4              0.5         32.217377\n",
              "...            ...               ...\n",
              "19595       1000.0        990.113708\n",
              "19596       1000.0        990.831543\n",
              "19597       1000.0        988.347168\n",
              "19598       1000.0        987.198425\n",
              "19599       1000.0        988.677673\n",
              "\n",
              "[19600 rows x 2 columns]"
            ],
            "text/html": [
              "\n",
              "  <div id=\"df-57c2ae14-62ef-4184-9c6e-12cfc027c42d\">\n",
              "    <div class=\"colab-df-container\">\n",
              "      <div>\n",
              "<style scoped>\n",
              "    .dataframe tbody tr th:only-of-type {\n",
              "        vertical-align: middle;\n",
              "    }\n",
              "\n",
              "    .dataframe tbody tr th {\n",
              "        vertical-align: top;\n",
              "    }\n",
              "\n",
              "    .dataframe thead th {\n",
              "        text-align: right;\n",
              "    }\n",
              "</style>\n",
              "<table border=\"1\" class=\"dataframe\">\n",
              "  <thead>\n",
              "    <tr style=\"text-align: right;\">\n",
              "      <th></th>\n",
              "      <th>real energy</th>\n",
              "      <th>predicted energy</th>\n",
              "    </tr>\n",
              "  </thead>\n",
              "  <tbody>\n",
              "    <tr>\n",
              "      <th>0</th>\n",
              "      <td>0.5</td>\n",
              "      <td>486.801666</td>\n",
              "    </tr>\n",
              "    <tr>\n",
              "      <th>1</th>\n",
              "      <td>0.5</td>\n",
              "      <td>158.975769</td>\n",
              "    </tr>\n",
              "    <tr>\n",
              "      <th>2</th>\n",
              "      <td>0.5</td>\n",
              "      <td>100.012413</td>\n",
              "    </tr>\n",
              "    <tr>\n",
              "      <th>3</th>\n",
              "      <td>0.5</td>\n",
              "      <td>37.613846</td>\n",
              "    </tr>\n",
              "    <tr>\n",
              "      <th>4</th>\n",
              "      <td>0.5</td>\n",
              "      <td>32.217377</td>\n",
              "    </tr>\n",
              "    <tr>\n",
              "      <th>...</th>\n",
              "      <td>...</td>\n",
              "      <td>...</td>\n",
              "    </tr>\n",
              "    <tr>\n",
              "      <th>19595</th>\n",
              "      <td>1000.0</td>\n",
              "      <td>990.113708</td>\n",
              "    </tr>\n",
              "    <tr>\n",
              "      <th>19596</th>\n",
              "      <td>1000.0</td>\n",
              "      <td>990.831543</td>\n",
              "    </tr>\n",
              "    <tr>\n",
              "      <th>19597</th>\n",
              "      <td>1000.0</td>\n",
              "      <td>988.347168</td>\n",
              "    </tr>\n",
              "    <tr>\n",
              "      <th>19598</th>\n",
              "      <td>1000.0</td>\n",
              "      <td>987.198425</td>\n",
              "    </tr>\n",
              "    <tr>\n",
              "      <th>19599</th>\n",
              "      <td>1000.0</td>\n",
              "      <td>988.677673</td>\n",
              "    </tr>\n",
              "  </tbody>\n",
              "</table>\n",
              "<p>19600 rows × 2 columns</p>\n",
              "</div>\n",
              "      <button class=\"colab-df-convert\" onclick=\"convertToInteractive('df-57c2ae14-62ef-4184-9c6e-12cfc027c42d')\"\n",
              "              title=\"Convert this dataframe to an interactive table.\"\n",
              "              style=\"display:none;\">\n",
              "        \n",
              "  <svg xmlns=\"http://www.w3.org/2000/svg\" height=\"24px\"viewBox=\"0 0 24 24\"\n",
              "       width=\"24px\">\n",
              "    <path d=\"M0 0h24v24H0V0z\" fill=\"none\"/>\n",
              "    <path d=\"M18.56 5.44l.94 2.06.94-2.06 2.06-.94-2.06-.94-.94-2.06-.94 2.06-2.06.94zm-11 1L8.5 8.5l.94-2.06 2.06-.94-2.06-.94L8.5 2.5l-.94 2.06-2.06.94zm10 10l.94 2.06.94-2.06 2.06-.94-2.06-.94-.94-2.06-.94 2.06-2.06.94z\"/><path d=\"M17.41 7.96l-1.37-1.37c-.4-.4-.92-.59-1.43-.59-.52 0-1.04.2-1.43.59L10.3 9.45l-7.72 7.72c-.78.78-.78 2.05 0 2.83L4 21.41c.39.39.9.59 1.41.59.51 0 1.02-.2 1.41-.59l7.78-7.78 2.81-2.81c.8-.78.8-2.07 0-2.86zM5.41 20L4 18.59l7.72-7.72 1.47 1.35L5.41 20z\"/>\n",
              "  </svg>\n",
              "      </button>\n",
              "      \n",
              "  <style>\n",
              "    .colab-df-container {\n",
              "      display:flex;\n",
              "      flex-wrap:wrap;\n",
              "      gap: 12px;\n",
              "    }\n",
              "\n",
              "    .colab-df-convert {\n",
              "      background-color: #E8F0FE;\n",
              "      border: none;\n",
              "      border-radius: 50%;\n",
              "      cursor: pointer;\n",
              "      display: none;\n",
              "      fill: #1967D2;\n",
              "      height: 32px;\n",
              "      padding: 0 0 0 0;\n",
              "      width: 32px;\n",
              "    }\n",
              "\n",
              "    .colab-df-convert:hover {\n",
              "      background-color: #E2EBFA;\n",
              "      box-shadow: 0px 1px 2px rgba(60, 64, 67, 0.3), 0px 1px 3px 1px rgba(60, 64, 67, 0.15);\n",
              "      fill: #174EA6;\n",
              "    }\n",
              "\n",
              "    [theme=dark] .colab-df-convert {\n",
              "      background-color: #3B4455;\n",
              "      fill: #D2E3FC;\n",
              "    }\n",
              "\n",
              "    [theme=dark] .colab-df-convert:hover {\n",
              "      background-color: #434B5C;\n",
              "      box-shadow: 0px 1px 3px 1px rgba(0, 0, 0, 0.15);\n",
              "      filter: drop-shadow(0px 1px 2px rgba(0, 0, 0, 0.3));\n",
              "      fill: #FFFFFF;\n",
              "    }\n",
              "  </style>\n",
              "\n",
              "      <script>\n",
              "        const buttonEl =\n",
              "          document.querySelector('#df-57c2ae14-62ef-4184-9c6e-12cfc027c42d button.colab-df-convert');\n",
              "        buttonEl.style.display =\n",
              "          google.colab.kernel.accessAllowed ? 'block' : 'none';\n",
              "\n",
              "        async function convertToInteractive(key) {\n",
              "          const element = document.querySelector('#df-57c2ae14-62ef-4184-9c6e-12cfc027c42d');\n",
              "          const dataTable =\n",
              "            await google.colab.kernel.invokeFunction('convertToInteractive',\n",
              "                                                     [key], {});\n",
              "          if (!dataTable) return;\n",
              "\n",
              "          const docLinkHtml = 'Like what you see? Visit the ' +\n",
              "            '<a target=\"_blank\" href=https://colab.research.google.com/notebooks/data_table.ipynb>data table notebook</a>'\n",
              "            + ' to learn more about interactive tables.';\n",
              "          element.innerHTML = '';\n",
              "          dataTable['output_type'] = 'display_data';\n",
              "          await google.colab.output.renderOutput(dataTable, element);\n",
              "          const docLink = document.createElement('div');\n",
              "          docLink.innerHTML = docLinkHtml;\n",
              "          element.appendChild(docLink);\n",
              "        }\n",
              "      </script>\n",
              "    </div>\n",
              "  </div>\n",
              "  "
            ]
          },
          "metadata": {},
          "execution_count": 29
        }
      ]
    },
    {
      "cell_type": "code",
      "source": [
        "#to get the difference in energy between PREDICTED and  REAL values\n",
        "diff= decoded_result- decoded_testlabels\n",
        "# plt.hist(diff,bins= 500)"
      ],
      "metadata": {
        "id": "5znFsWR5gATG"
      },
      "execution_count": null,
      "outputs": []
    },
    {
      "cell_type": "code",
      "source": [
        "enrgyDF.to_csv(\"mdl6_minmax_energysheet.csv\", header=True, index=False, sep='\\t', mode='a')"
      ],
      "metadata": {
        "id": "2wo3GIfKL4Z2"
      },
      "execution_count": null,
      "outputs": []
    },
    {
      "cell_type": "code",
      "source": [
        "def gauss(x,amp,mu,sigma):\n",
        "    return (amp/np.sqrt(sigma))*np.exp(-(x-mu)**2 / 2*sigma**2)"
      ],
      "metadata": {
        "id": "0l9NPvtuHueW"
      },
      "execution_count": null,
      "outputs": []
    },
    {
      "cell_type": "code",
      "source": [
        "#for Minmax all normalized\n",
        "x= np.linspace(-25,25,700)\n",
        "n,bins,patches = plt.hist(diff,bins= 700,range= (-25,25))#, ); # range= (-0.5,1.5)\n",
        "print(\"This is n==>\",n, bins, patches)\n",
        "plt.title('Residual Energy Distribution')\n",
        "plt.xlabel('Residual Energy')\n",
        "plt.ylabel('Counts')\n",
        "y=n\n",
        "print(max(y))\n",
        "popt, pcov = curve_fit(gauss, x,y)#p0= (300,0.0,0.5)) # p0= (amp, mean, satndard deviation)===> guessed\n",
        "y= gauss(x, popt[0], popt[1], popt[2])\n",
        "plt.plot(x,y,color= 'r', linestyle='dashed', label='fit function \\n amplitude= {} GeV \\n mean={} GeV \\n std= {}'.format(round(popt[0],5),round(popt[1],5),round(popt[2],5)));\n",
        "tbl= np.column_stack((popt[0],popt[1],popt[2]))\n",
        "parameters= pd.DataFrame(tbl, columns=['amplitude','mean', 'standard deviation'])\n",
        "print(parameters)\n",
        "plt.legend(loc='best')\n",
        "# print(popt[0],popt[1],popt[2]) # gives actual (amp, mean, standard deviation)\n",
        "plt.show()"
      ],
      "metadata": {
        "colab": {
          "base_uri": "https://localhost:8080/",
          "height": 1000
        },
        "id": "0hh6qavlOy3D",
        "outputId": "0c9537e2-d808-4e73-fd73-2c7effea07e0"
      },
      "execution_count": null,
      "outputs": [
        {
          "output_type": "stream",
          "name": "stdout",
          "text": [
            "This is n==> [  0.   1.   0.   0.   1.   0.   0.   1.   0.   2.   0.   0.   0.   4.\n",
            "   1.   2.   2.   1.   1.   2.   0.   2.   1.   2.   5.   2.   2.   1.\n",
            "   1.   1.   0.   2.   0.   0.   1.   2.   2.   0.   3.   1.   1.   1.\n",
            "   2.   2.   0.   5.   0.   4.   3.   1.   1.   1.   2.   2.   2.   2.\n",
            "   4.   3.   2.   4.   2.   2.   2.   4.   1.   1.   2.   1.   3.   1.\n",
            "   1.   1.   2.   5.   1.   4.   2.   2.   4.   4.   4.   1.   3.   4.\n",
            "   5.   9.   1.   3.   0.   1.   3.   6.   3.   3.   8.   3.   3.   3.\n",
            "   2.   6.   4.   8.   4.   6.   1.   5.   5.   6.   4.   8.   1.   5.\n",
            "   3.   2.   6.  10.   2.   8.   6.   6.   5.   6.   5.   0.   5.   2.\n",
            "   4.   9.   4.   7.   5.   9.   3.   5.   8.   3.   8.  12.  16.   5.\n",
            "   6.   8.   7.   9.   7.   9.   7.   9.   9.  10.   6.   8.  12.  11.\n",
            "  17.  16.   7.   9.   6.  17.  12.   9.   8.  13.  10.  23.  13.  14.\n",
            "  13.   7.  12.  19.   8.  17.   9.  13.  17.   8.  18.  18.  13.  17.\n",
            "  13.  15.   9.  13.  17.  19.  20.  15.  22.  23.  17.  16.  21.  24.\n",
            "  19.  30.  15.  20.  15.  17.  25.  19.  19.  26.  19.  16.  16.  31.\n",
            "  21.  27.  21.  18.  26.  32.  34.  34.  27.  30.  26.  27.  29.  29.\n",
            "  35.  34.  36.  32.  30.  43.  42.  41.  48.  44.  38.  34.  37.  47.\n",
            "  35.  43.  50.  58.  49.  57.  55.  52.  54.  63.  49.  53.  49.  53.\n",
            "  57.  50.  64.  69.  58.  71.  61.  70.  59.  76.  74.  81.  76.  86.\n",
            "  90.  85.  95.  93.  77.  89. 109. 118. 117.  83. 105.  98. 113.  99.\n",
            " 125. 112. 119. 143. 120. 135. 118. 113. 120. 117. 122. 144. 143. 130.\n",
            " 146. 147. 139. 150. 167. 176. 154. 153. 148. 161. 174. 160. 158. 147.\n",
            " 174. 149. 170. 159. 162. 162. 172. 166. 158. 160. 154. 194. 207. 190.\n",
            " 198. 195. 177. 172. 157. 155. 185. 146. 146. 126. 154. 181. 163. 131.\n",
            " 125. 164. 147. 122. 130. 113. 127. 122. 133. 136. 133. 125. 125. 114.\n",
            "  95.  93.  97. 102.  92. 106.  98.  84.  81.  83.  94.  96. 115.  85.\n",
            "  89.  80.  74.  67.  61.  64.  77.  65.  43.  68.  52.  60.  60.  40.\n",
            "  33.  36.  35.  48.  43.  41.  45.  39.  34.  37.  39.  41.  40.  21.\n",
            "  30.  44.  20.  32.  21.  23.  26.  27.  20.  18.  17.  22.   6.  10.\n",
            "  15.  19.  18.  22.  15.  14.  17.  13.   5.  11.  14.  11.  13.  16.\n",
            "  19.  21.  13.  13.  11.   3.   8.  12.   4.  12.  10.  14.   7.   7.\n",
            "   6.   4.  11.   3.   2.   3.   7.   3.   2.   6.   5.   2.   0.   4.\n",
            "   5.   0.   1.   0.   3.   2.   0.   1.   1.   1.   3.   0.   1.   0.\n",
            "   1.   0.   5.   1.   0.   5.   1.   2.   0.   2.   0.   2.   2.   2.\n",
            "   6.   3.   1.   2.   0.   0.   0.   2.   2.   2.   0.   2.   0.   0.\n",
            "   1.   1.   2.   1.   1.   1.   1.   1.   3.   2.   2.   5.   0.   0.\n",
            "   0.   0.   0.   0.   0.   0.   0.   0.   0.   0.   0.   0.   1.   1.\n",
            "   0.   0.   0.   0.   0.   0.   0.   1.   0.   0.   0.   0.   0.   0.\n",
            "   1.   0.   0.   0.   0.   0.   0.   0.   0.   0.   0.   0.   0.   1.\n",
            "   0.   0.   0.   0.   0.   0.   0.   0.   0.   1.   0.   0.   0.   0.\n",
            "   0.   0.   0.   0.   0.   0.   0.   0.   0.   0.   0.   0.   0.   0.\n",
            "   0.   0.   0.   0.   0.   0.   0.   1.   0.   0.   0.   0.   0.   0.\n",
            "   0.   0.   0.   0.   0.   0.   0.   0.   1.   0.   0.   0.   0.   0.\n",
            "   0.   0.   0.   0.   0.   0.   0.   0.   0.   0.   0.   0.   0.   0.\n",
            "   0.   0.   1.   0.   0.   0.   2.   0.   0.   0.   0.   0.   0.   0.\n",
            "   0.   0.   0.   0.   0.   0.   0.   0.   0.   0.   0.   0.   0.   0.\n",
            "   0.   0.   0.   0.   0.   0.   0.   0.   0.   0.   0.   0.   0.   0.\n",
            "   0.   0.   0.   0.   0.   0.   0.   0.   0.   0.   0.   0.   0.   0.\n",
            "   0.   0.   0.   0.   0.   0.   1.   0.   0.   0.   0.   0.   0.   0.\n",
            "   0.   0.   0.   0.   0.   0.   0.   0.   1.   0.   0.   0.   0.   0.] [-25.         -24.92857143 -24.85714286 -24.78571429 -24.71428571\n",
            " -24.64285714 -24.57142857 -24.5        -24.42857143 -24.35714286\n",
            " -24.28571429 -24.21428571 -24.14285714 -24.07142857 -24.\n",
            " -23.92857143 -23.85714286 -23.78571429 -23.71428571 -23.64285714\n",
            " -23.57142857 -23.5        -23.42857143 -23.35714286 -23.28571429\n",
            " -23.21428571 -23.14285714 -23.07142857 -23.         -22.92857143\n",
            " -22.85714286 -22.78571429 -22.71428571 -22.64285714 -22.57142857\n",
            " -22.5        -22.42857143 -22.35714286 -22.28571429 -22.21428571\n",
            " -22.14285714 -22.07142857 -22.         -21.92857143 -21.85714286\n",
            " -21.78571429 -21.71428571 -21.64285714 -21.57142857 -21.5\n",
            " -21.42857143 -21.35714286 -21.28571429 -21.21428571 -21.14285714\n",
            " -21.07142857 -21.         -20.92857143 -20.85714286 -20.78571429\n",
            " -20.71428571 -20.64285714 -20.57142857 -20.5        -20.42857143\n",
            " -20.35714286 -20.28571429 -20.21428571 -20.14285714 -20.07142857\n",
            " -20.         -19.92857143 -19.85714286 -19.78571429 -19.71428571\n",
            " -19.64285714 -19.57142857 -19.5        -19.42857143 -19.35714286\n",
            " -19.28571429 -19.21428571 -19.14285714 -19.07142857 -19.\n",
            " -18.92857143 -18.85714286 -18.78571429 -18.71428571 -18.64285714\n",
            " -18.57142857 -18.5        -18.42857143 -18.35714286 -18.28571429\n",
            " -18.21428571 -18.14285714 -18.07142857 -18.         -17.92857143\n",
            " -17.85714286 -17.78571429 -17.71428571 -17.64285714 -17.57142857\n",
            " -17.5        -17.42857143 -17.35714286 -17.28571429 -17.21428571\n",
            " -17.14285714 -17.07142857 -17.         -16.92857143 -16.85714286\n",
            " -16.78571429 -16.71428571 -16.64285714 -16.57142857 -16.5\n",
            " -16.42857143 -16.35714286 -16.28571429 -16.21428571 -16.14285714\n",
            " -16.07142857 -16.         -15.92857143 -15.85714286 -15.78571429\n",
            " -15.71428571 -15.64285714 -15.57142857 -15.5        -15.42857143\n",
            " -15.35714286 -15.28571429 -15.21428571 -15.14285714 -15.07142857\n",
            " -15.         -14.92857143 -14.85714286 -14.78571429 -14.71428571\n",
            " -14.64285714 -14.57142857 -14.5        -14.42857143 -14.35714286\n",
            " -14.28571429 -14.21428571 -14.14285714 -14.07142857 -14.\n",
            " -13.92857143 -13.85714286 -13.78571429 -13.71428571 -13.64285714\n",
            " -13.57142857 -13.5        -13.42857143 -13.35714286 -13.28571429\n",
            " -13.21428571 -13.14285714 -13.07142857 -13.         -12.92857143\n",
            " -12.85714286 -12.78571429 -12.71428571 -12.64285714 -12.57142857\n",
            " -12.5        -12.42857143 -12.35714286 -12.28571429 -12.21428571\n",
            " -12.14285714 -12.07142857 -12.         -11.92857143 -11.85714286\n",
            " -11.78571429 -11.71428571 -11.64285714 -11.57142857 -11.5\n",
            " -11.42857143 -11.35714286 -11.28571429 -11.21428571 -11.14285714\n",
            " -11.07142857 -11.         -10.92857143 -10.85714286 -10.78571429\n",
            " -10.71428571 -10.64285714 -10.57142857 -10.5        -10.42857143\n",
            " -10.35714286 -10.28571429 -10.21428571 -10.14285714 -10.07142857\n",
            " -10.          -9.92857143  -9.85714286  -9.78571429  -9.71428571\n",
            "  -9.64285714  -9.57142857  -9.5         -9.42857143  -9.35714286\n",
            "  -9.28571429  -9.21428571  -9.14285714  -9.07142857  -9.\n",
            "  -8.92857143  -8.85714286  -8.78571429  -8.71428571  -8.64285714\n",
            "  -8.57142857  -8.5         -8.42857143  -8.35714286  -8.28571429\n",
            "  -8.21428571  -8.14285714  -8.07142857  -8.          -7.92857143\n",
            "  -7.85714286  -7.78571429  -7.71428571  -7.64285714  -7.57142857\n",
            "  -7.5         -7.42857143  -7.35714286  -7.28571429  -7.21428571\n",
            "  -7.14285714  -7.07142857  -7.          -6.92857143  -6.85714286\n",
            "  -6.78571429  -6.71428571  -6.64285714  -6.57142857  -6.5\n",
            "  -6.42857143  -6.35714286  -6.28571429  -6.21428571  -6.14285714\n",
            "  -6.07142857  -6.          -5.92857143  -5.85714286  -5.78571429\n",
            "  -5.71428571  -5.64285714  -5.57142857  -5.5         -5.42857143\n",
            "  -5.35714286  -5.28571429  -5.21428571  -5.14285714  -5.07142857\n",
            "  -5.          -4.92857143  -4.85714286  -4.78571429  -4.71428571\n",
            "  -4.64285714  -4.57142857  -4.5         -4.42857143  -4.35714286\n",
            "  -4.28571429  -4.21428571  -4.14285714  -4.07142857  -4.\n",
            "  -3.92857143  -3.85714286  -3.78571429  -3.71428571  -3.64285714\n",
            "  -3.57142857  -3.5         -3.42857143  -3.35714286  -3.28571429\n",
            "  -3.21428571  -3.14285714  -3.07142857  -3.          -2.92857143\n",
            "  -2.85714286  -2.78571429  -2.71428571  -2.64285714  -2.57142857\n",
            "  -2.5         -2.42857143  -2.35714286  -2.28571429  -2.21428571\n",
            "  -2.14285714  -2.07142857  -2.          -1.92857143  -1.85714286\n",
            "  -1.78571429  -1.71428571  -1.64285714  -1.57142857  -1.5\n",
            "  -1.42857143  -1.35714286  -1.28571429  -1.21428571  -1.14285714\n",
            "  -1.07142857  -1.          -0.92857143  -0.85714286  -0.78571429\n",
            "  -0.71428571  -0.64285714  -0.57142857  -0.5         -0.42857143\n",
            "  -0.35714286  -0.28571429  -0.21428571  -0.14285714  -0.07142857\n",
            "   0.           0.07142857   0.14285714   0.21428571   0.28571429\n",
            "   0.35714286   0.42857143   0.5          0.57142857   0.64285714\n",
            "   0.71428571   0.78571429   0.85714286   0.92857143   1.\n",
            "   1.07142857   1.14285714   1.21428571   1.28571429   1.35714286\n",
            "   1.42857143   1.5          1.57142857   1.64285714   1.71428571\n",
            "   1.78571429   1.85714286   1.92857143   2.           2.07142857\n",
            "   2.14285714   2.21428571   2.28571429   2.35714286   2.42857143\n",
            "   2.5          2.57142857   2.64285714   2.71428571   2.78571429\n",
            "   2.85714286   2.92857143   3.           3.07142857   3.14285714\n",
            "   3.21428571   3.28571429   3.35714286   3.42857143   3.5\n",
            "   3.57142857   3.64285714   3.71428571   3.78571429   3.85714286\n",
            "   3.92857143   4.           4.07142857   4.14285714   4.21428571\n",
            "   4.28571429   4.35714286   4.42857143   4.5          4.57142857\n",
            "   4.64285714   4.71428571   4.78571429   4.85714286   4.92857143\n",
            "   5.           5.07142857   5.14285714   5.21428571   5.28571429\n",
            "   5.35714286   5.42857143   5.5          5.57142857   5.64285714\n",
            "   5.71428571   5.78571429   5.85714286   5.92857143   6.\n",
            "   6.07142857   6.14285714   6.21428571   6.28571429   6.35714286\n",
            "   6.42857143   6.5          6.57142857   6.64285714   6.71428571\n",
            "   6.78571429   6.85714286   6.92857143   7.           7.07142857\n",
            "   7.14285714   7.21428571   7.28571429   7.35714286   7.42857143\n",
            "   7.5          7.57142857   7.64285714   7.71428571   7.78571429\n",
            "   7.85714286   7.92857143   8.           8.07142857   8.14285714\n",
            "   8.21428571   8.28571429   8.35714286   8.42857143   8.5\n",
            "   8.57142857   8.64285714   8.71428571   8.78571429   8.85714286\n",
            "   8.92857143   9.           9.07142857   9.14285714   9.21428571\n",
            "   9.28571429   9.35714286   9.42857143   9.5          9.57142857\n",
            "   9.64285714   9.71428571   9.78571429   9.85714286   9.92857143\n",
            "  10.          10.07142857  10.14285714  10.21428571  10.28571429\n",
            "  10.35714286  10.42857143  10.5         10.57142857  10.64285714\n",
            "  10.71428571  10.78571429  10.85714286  10.92857143  11.\n",
            "  11.07142857  11.14285714  11.21428571  11.28571429  11.35714286\n",
            "  11.42857143  11.5         11.57142857  11.64285714  11.71428571\n",
            "  11.78571429  11.85714286  11.92857143  12.          12.07142857\n",
            "  12.14285714  12.21428571  12.28571429  12.35714286  12.42857143\n",
            "  12.5         12.57142857  12.64285714  12.71428571  12.78571429\n",
            "  12.85714286  12.92857143  13.          13.07142857  13.14285714\n",
            "  13.21428571  13.28571429  13.35714286  13.42857143  13.5\n",
            "  13.57142857  13.64285714  13.71428571  13.78571429  13.85714286\n",
            "  13.92857143  14.          14.07142857  14.14285714  14.21428571\n",
            "  14.28571429  14.35714286  14.42857143  14.5         14.57142857\n",
            "  14.64285714  14.71428571  14.78571429  14.85714286  14.92857143\n",
            "  15.          15.07142857  15.14285714  15.21428571  15.28571429\n",
            "  15.35714286  15.42857143  15.5         15.57142857  15.64285714\n",
            "  15.71428571  15.78571429  15.85714286  15.92857143  16.\n",
            "  16.07142857  16.14285714  16.21428571  16.28571429  16.35714286\n",
            "  16.42857143  16.5         16.57142857  16.64285714  16.71428571\n",
            "  16.78571429  16.85714286  16.92857143  17.          17.07142857\n",
            "  17.14285714  17.21428571  17.28571429  17.35714286  17.42857143\n",
            "  17.5         17.57142857  17.64285714  17.71428571  17.78571429\n",
            "  17.85714286  17.92857143  18.          18.07142857  18.14285714\n",
            "  18.21428571  18.28571429  18.35714286  18.42857143  18.5\n",
            "  18.57142857  18.64285714  18.71428571  18.78571429  18.85714286\n",
            "  18.92857143  19.          19.07142857  19.14285714  19.21428571\n",
            "  19.28571429  19.35714286  19.42857143  19.5         19.57142857\n",
            "  19.64285714  19.71428571  19.78571429  19.85714286  19.92857143\n",
            "  20.          20.07142857  20.14285714  20.21428571  20.28571429\n",
            "  20.35714286  20.42857143  20.5         20.57142857  20.64285714\n",
            "  20.71428571  20.78571429  20.85714286  20.92857143  21.\n",
            "  21.07142857  21.14285714  21.21428571  21.28571429  21.35714286\n",
            "  21.42857143  21.5         21.57142857  21.64285714  21.71428571\n",
            "  21.78571429  21.85714286  21.92857143  22.          22.07142857\n",
            "  22.14285714  22.21428571  22.28571429  22.35714286  22.42857143\n",
            "  22.5         22.57142857  22.64285714  22.71428571  22.78571429\n",
            "  22.85714286  22.92857143  23.          23.07142857  23.14285714\n",
            "  23.21428571  23.28571429  23.35714286  23.42857143  23.5\n",
            "  23.57142857  23.64285714  23.71428571  23.78571429  23.85714286\n",
            "  23.92857143  24.          24.07142857  24.14285714  24.21428571\n",
            "  24.28571429  24.35714286  24.42857143  24.5         24.57142857\n",
            "  24.64285714  24.71428571  24.78571429  24.85714286  24.92857143\n",
            "  25.        ] <BarContainer object of 700 artists>\n",
            "207.0\n",
            "   amplitude      mean  standard deviation\n",
            "0  91.278779 -2.610116            0.317082\n"
          ]
        },
        {
          "output_type": "stream",
          "name": "stderr",
          "text": [
            "<ipython-input-31-679ff3a10ba0>:2: RuntimeWarning: invalid value encountered in sqrt\n",
            "  return (amp/np.sqrt(sigma))*np.exp(-(x-mu)**2 / 2*sigma**2)\n"
          ]
        },
        {
          "output_type": "display_data",
          "data": {
            "text/plain": [
              "<Figure size 640x480 with 1 Axes>"
            ],
            "image/png": "[encoded data removed]"
          },
          "metadata": {}
        }
      ]
    },
    {
      "cell_type": "code",
      "source": [
        "# Save model\n",
        "model.save(\"ML6_mdl.h5\")"
      ],
      "metadata": {
        "id": "Z7vxo9H_7b6T"
      },
      "execution_count": null,
      "outputs": []
    },
    {
      "cell_type": "code",
      "source": [
        "# Save the min and scale values\n",
        "np.save('scaler_min_mdl6.npy', label_scaler.min_)\n",
        "np.save('scaler_scale_mdl6.npy', label_scaler.scale_)\n"
      ],
      "metadata": {
        "id": "F2DUy34VQwYI"
      },
      "execution_count": null,
      "outputs": []
    }
  ]
}