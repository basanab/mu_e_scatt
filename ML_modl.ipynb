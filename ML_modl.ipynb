{
  "nbformat": 4,
  "nbformat_minor": 0,
  "metadata": {
    "colab": {
      "provenance": [],
      "mount_file_id": "1WMEA-MjT-UtszBE3jbmVmazP0YkCumG2",
      "authorship_tag": "ABX9TyOKhek+9l6i/WweHzCd3/jA",
      "include_colab_link": true
    },
    "kernelspec": {
      "name": "python3",
      "display_name": "Python 3"
    },
    "language_info": {
      "name": "python"
    },
    "gpuClass": "standard"
  },
  "cells": [
    {
      "cell_type": "markdown",
      "metadata": {
        "id": "view-in-github",
        "colab_type": "text"
      },
      "source": [
        "<a href=\"https://colab.research.google.com/github/basanab/mu_e_scatt/blob/main/ML_modl.ipynb\" target=\"_parent\"><img src=\"https://colab.research.google.com/assets/colab-badge.svg\" alt=\"Open In Colab\"/></a>"
      ]
    },
    {
      "cell_type": "code",
      "source": [
        "import numpy as np\n",
        "import matplotlib.pyplot as plt\n",
        "import pandas as pd\n",
        "import tensorflow as tf\n",
        "from tensorflow import keras\n",
        "from tensorflow.keras import layers\n",
        "from tensorflow.keras import Sequential\n",
        "from tensorflow.keras import optimizers\n",
        "from tensorflow.keras.models import Model\n",
        "from tensorflow.keras.models import load_model\n",
        "from scipy.optimize import curve_fit \n"
      ],
      "metadata": {
        "id": "CtW7KZPgdSTr"
      },
      "execution_count": 38,
      "outputs": []
    },
    {
      "cell_type": "code",
      "execution_count": 43,
      "metadata": {
        "id": "35z5KleUbb2R"
      },
      "outputs": [],
      "source": [
        "df=pd.read_excel(\"/content/drive/MyDrive/ColabNotebooks/muon_data.xlsx\")\n",
        "df"
      ]
    },
    {
      "cell_type": "code",
      "source": [
        "# Create a copy for further processing\n",
        "dataset = df.copy()\n",
        "# Check for null values\n",
        "dataset.isna().sum()"
      ],
      "metadata": {
        "id": "ahHkL8KKfNoh"
      },
      "execution_count": 44,
      "outputs": []
    },
    {
      "cell_type": "code",
      "source": [
        "# Split the Dataset and create train and test sets\n",
        "train_dataset = dataset.sample(frac=0.8, random_state=0)\n",
        "test_dataset = dataset.drop(train_dataset.index)\n",
        "\n",
        "print(dataset.shape, train_dataset.shape, test_dataset.shape)\n",
        "train_dataset.describe().transpose()"
      ],
      "metadata": {
        "id": "klSf4W4BfuSW"
      },
      "execution_count": 45,
      "outputs": []
    },
    {
      "cell_type": "code",
      "source": [
        "# Remove columns not needed\n",
        "dataset_size2=dataset.drop(['E_mu', 'Emu_p','Ee_p'], axis=1)\n",
        "dataset_size2.describe().transpose()"
      ],
      "metadata": {
        "id": "IYl3tT3NkIc4"
      },
      "execution_count": 46,
      "outputs": []
    },
    {
      "cell_type": "code",
      "source": [
        "# Separate labels and features\n",
        "train_features = train_dataset.copy()\n",
        "test_features = test_dataset.copy()\n",
        "\n",
        "train_labels = train_features.pop(\"E_mu\")\n",
        "test_labels = test_features.pop(\"E_mu\")"
      ],
      "metadata": {
        "id": "-pmMFpZtf6YA"
      },
      "execution_count": 47,
      "outputs": []
    },
    {
      "cell_type": "code",
      "source": [
        "print(train_features)\n",
        "print(test_features)\n",
        "print(train_labels)\n",
        "print(test_labels)"
      ],
      "metadata": {
        "id": "NzWPCLzMg8K0"
      },
      "execution_count": 48,
      "outputs": []
    },
    {
      "cell_type": "code",
      "source": [
        "#normalisation\n",
        "from sklearn.preprocessing import StandardScaler\n",
        "feature_scaler = StandardScaler()\n",
        "label_scaler = StandardScaler()\n",
        "# Fit on Training Data\n",
        "feature_scaler.fit(train_features.values)\n",
        "label_scaler.fit(train_labels.values.reshape(-1, 1))"
      ],
      "metadata": {
        "id": "G1f0Vu03vWYX"
      },
      "execution_count": 49,
      "outputs": []
    },
    {
      "cell_type": "code",
      "source": [
        "# Transform both training and testing data\n",
        "train_features = feature_scaler.transform(train_features.values)\n",
        "test_features = feature_scaler.transform(test_features.values)\n",
        "train_labels = label_scaler.transform(train_labels.values.reshape(-1, 1))\n",
        "test_labels = label_scaler.transform(test_labels.values.reshape(-1, 1))"
      ],
      "metadata": {
        "id": "2nH8uVt50dSK"
      },
      "execution_count": 50,
      "outputs": []
    },
    {
      "cell_type": "code",
      "source": [
        "# Now let's create a Deep Neural Network to train a regression model on our data.\n",
        "model = Sequential([\n",
        "    layers.Dense(32, activation='relu'),\n",
        "    layers.Dense(64, activation='relu'),\n",
        "    layers.Dense(32, activation='relu'),\n",
        "    layers.Dense(1)\n",
        "])\n"
      ],
      "metadata": {
        "id": "xV1JCEfS0iAn"
      },
      "execution_count": 51,
      "outputs": []
    },
    {
      "cell_type": "code",
      "source": [
        "tf.keras.optimizers.Adam(\n",
        "    learning_rate=0.001,\n",
        "    beta_1=0.9,\n",
        "    beta_2=0.999,\n",
        "    epsilon=1e-07,\n",
        "    amsgrad=False,\n",
        "    weight_decay=None,\n",
        "    clipnorm=None,\n",
        "    clipvalue=None,\n",
        "    global_clipnorm=None,\n",
        "    use_ema=False,\n",
        "    ema_momentum=0.99,\n",
        "    ema_overwrite_frequency=None,\n",
        "    jit_compile=True,\n",
        "    name='Adam',\n",
        "    \n",
        ")\n"
      ],
      "metadata": {
        "id": "A3Jo2PqONTnq"
      },
      "execution_count": 52,
      "outputs": []
    },
    {
      "cell_type": "code",
      "source": [
        "model.compile(optimizer=\"Adam\",\n",
        "               loss=\"mean_squared_error\")"
      ],
      "metadata": {
        "id": "MSO8Oy5-Nu1j"
      },
      "execution_count": 53,
      "outputs": []
    },
    {
      "cell_type": "code",
      "source": [
        "# Now let's train the model\n",
        "history = model.fit(epochs=100, x=train_features, y=train_labels,\n",
        "          validation_data=(test_features, test_labels), verbose=0)"
      ],
      "metadata": {
        "id": "uPuZLUJq2eGv"
      },
      "execution_count": 54,
      "outputs": []
    },
    {
      "cell_type": "code",
      "source": [
        "# Function to plot loss\n",
        "def plot_loss(history):\n",
        "    plt.plot(history.history['loss'], label='loss')\n",
        "    plt.plot(history.history['val_loss'], label='val_loss')\n",
        "    plt.ylim([0,10])\n",
        "    plt.xlabel('Epoch')\n",
        "    plt.ylabel('Error (Loss)')\n",
        "    plt.legend()\n",
        "    plt.grid(True)"
      ],
      "metadata": {
        "id": "rqKuq_lu69Y6"
      },
      "execution_count": 55,
      "outputs": []
    },
    {
      "cell_type": "code",
      "source": [
        "plot_loss(history)"
      ],
      "metadata": {
        "id": "0-GCihem7Gkv"
      },
      "execution_count": 56,
      "outputs": []
    },
    {
      "cell_type": "code",
      "source": [
        "# Model evaluation on testing dataset\n",
        "model.evaluate(test_features, test_labels)"
      ],
      "metadata": {
        "id": "EsfkVM147NZ0"
      },
      "execution_count": 57,
      "outputs": []
    },
    {
      "cell_type": "code",
      "source": [
        "#Save model \n",
        "model.save(\"correct_ML_mdl.h5\")"
      ],
      "metadata": {
        "id": "Z7vxo9H_7b6T"
      },
      "execution_count": 58,
      "outputs": []
    },
    {
      "cell_type": "code",
      "source": [
        "# Load and perform predictions\n",
        "results = model.predict(test_features)"
      ],
      "metadata": {
        "id": "x8OjkTGA7sQX"
      },
      "execution_count": 59,
      "outputs": []
    },
    {
      "cell_type": "code",
      "source": [
        "# We can decode using the scikit-learn object to get the result\n",
        "decoded_result = label_scaler.inverse_transform(results.reshape(-1,1))\n",
        "print(decoded_result)\n",
        "print(decoded_result.shape)\n",
        "decoded_testlabels =label_scaler.inverse_transform(test_labels)"
      ],
      "metadata": {
        "id": "sXDgvdfI8ULC"
      },
      "execution_count": 60,
      "outputs": []
    },
    {
      "cell_type": "code",
      "source": [
        "plt.scatter(decoded_testlabels, decoded_result, s=3)\n",
        "plt.title(\"Muon Energy Graph\")\n",
        "plt.xlabel(\"Energy calculated (GeV)\")\n",
        "plt.ylabel(\"Predicted Energy (GeV)\")"
      ],
      "metadata": {
        "colab": {
          "base_uri": "https://localhost:8080/",
          "height": 489
        },
        "id": "Cap1Ljka87Hh",
        "outputId": "50bed32c-e521-45ee-d856-cf0f998e1467"
      },
      "execution_count": 36,
      "outputs": [
        {
          "output_type": "execute_result",
          "data": {
            "text/plain": [
              "Text(0, 0.5, 'Predicted Energy (GeV)')"
            ]
          },
          "metadata": {},
          "execution_count": 36
        },
        {
          "output_type": "display_data",
          "data": {
            "text/plain": [
              "<Figure size 640x480 with 1 Axes>"
            ],
            "image/png": "[encoded data removed]"
          },
          "metadata": {}
        }
      ]
    },
    {
      "cell_type": "code",
      "source": [
        "# diff= decoded_result- decoded_testlabels\n",
        "# plt.hist(diff,bins= 500)"
      ],
      "metadata": {
        "id": "5znFsWR5gATG"
      },
      "execution_count": 61,
      "outputs": []
    },
    {
      "cell_type": "code",
      "source": [
        "def gauss(x,amp,mu,sigma):\n",
        "    return (amp/np.sqrt(sigma))*np.exp(-(x-mu)**2 / 2*sigma**2)"
      ],
      "metadata": {
        "id": "0l9NPvtuHueW"
      },
      "execution_count": 39,
      "outputs": []
    },
    {
      "cell_type": "code",
      "source": [
        "x= np.linspace(-0.5,0.5,500)\n",
        "n,bins,patches = plt.hist(diff,bins= 500,range= (-0.5,0.5))#, ); # range= (-0.5,1.5)\n",
        "print(\"This is n==>\",n, bins, patches)\n",
        "y=n \n",
        "print(max(y))\n",
        "popt, pcov = curve_fit(gauss, x,y)#p0= (300,0.0,0.5)) # p0= (amp, mean, satndard deviation)===> guessed\n",
        "y= gauss(x, popt[0], popt[1], popt[2])\n",
        "plt.plot(x,y,color= 'r', linestyle='dashed', label='fit function');\n",
        "print(popt[0],popt[1],popt[2]) # gives actual (amp, mean, standard deviation)\n",
        "# plt.show()"
      ],
      "metadata": {
        "colab": {
          "base_uri": "https://localhost:8080/",
          "height": 1000
        },
        "id": "Oy3CsPA6mB-b",
        "outputId": "ed1c9d1b-748d-4c5e-8d00-e52010b4d032"
      },
      "execution_count": 40,
      "outputs": [
        {
          "output_type": "stream",
          "name": "stdout",
          "text": [
            "This is n==> [  0.   1.   0.   0.   0.   0.   0.   0.   0.   0.   1.   0.   0.   0.\n",
            "   0.   0.   0.   1.   0.   4.   0.   1.   1.   1.   2.   3.   1.   1.\n",
            "   0.   0.   2.   8.   2.   1.   4.   2.   2.   6.   2.   2.   4.   5.\n",
            "   2.   4.   4.   3.   2.   6.   4.   5.   6.   2.   6.   6.   2.   4.\n",
            "   5.   7.   4.   3.   1.   3.   2.   2.   4.   3.   4.   4.   4.   3.\n",
            "   4.   6.   2.   1.   1.   5.   4.   2.   4.   5.   6.   4.   7.   2.\n",
            "   7.   4.   5.   6.   4.   2.   4.   6.   1.   0.   1.   0.   2.   0.\n",
            "   1.   4.   5.   5.   1.   1.   2.   4.   5.   2.   4.   0.   6.   5.\n",
            "   7.   2.   2.   4.   3.   3.   6.   7.   3.   4.   6.   4.   3.   7.\n",
            "   6.   5.   6.   7.   1.   3.   8.   8.   6.   9.   8.   5.   8.   9.\n",
            "  11.   6.  13.  10.  12.   8.  16.   8.  10.  14.  12.  12.   8.   9.\n",
            "  15.   5.  18.  18.  20.  13.  15.  26.  25.  18.  24.  31.  27.  40.\n",
            "  37.  31.  38.  41.  39.  50.  53.  44.  47.  35.  36.  55.  40.  48.\n",
            "  52.  65.  54.  44.  56.  67.  58.  60.  61.  58.  67.  64.  60.  64.\n",
            "  74.  71.  79.  68.  80.  69.  75.  80.  91.  78.  86.  87.  81. 101.\n",
            "  91.  93.  99.  91. 120. 103. 100. 112. 105. 117. 113. 109. 118. 118.\n",
            " 111. 114. 108. 138. 146. 151. 131. 147. 138. 132. 160. 145. 156. 141.\n",
            " 157. 148. 168. 148. 163. 154. 178. 156. 170. 155. 159. 150. 150. 164.\n",
            " 148. 162. 169. 153. 157. 169. 158. 162. 175. 153. 170. 160. 158. 157.\n",
            " 150. 155. 178. 154. 150. 140. 153. 143. 154. 163. 146. 143. 141. 168.\n",
            " 142. 145. 130. 138. 151. 140. 149. 131. 129. 142. 133. 123. 131. 134.\n",
            " 132. 132. 125. 122. 114. 118.  91. 123.  92. 106. 108. 103. 101. 102.\n",
            " 102. 106.  89.  93.  94.  84.  86.  91.  85.  92.  91.  65.  82.  63.\n",
            "  61.  91.  61.  65.  65.  71.  69.  48. 107.  92.  61.  67.  42.  53.\n",
            "  54.  38.  61.  33.  47.  40.  35.  23.  31.  27.  24.  25.  27.  28.\n",
            "  21.  20.  18.  11.  19.  16.  15.  15.  10.  14.   9.  10.   6.   7.\n",
            "   6.  13.   4.   9.   8.   3.   6.   7.   4.   4.   4.   1.   4.   5.\n",
            "   4.   6.   4.   2.   4.   4.   4.   3.   0.   3.   3.   2.   1.   3.\n",
            "   3.   1.   3.   2.   5.   2.   0.   0.   0.   0.   0.   0.   2.   0.\n",
            "   1.   1.   0.   0.   1.   1.   1.   2.   0.   1.   0.   2.   0.   0.\n",
            "   0.   0.   1.   0.   0.   1.   0.   1.   0.   0.   0.   0.   0.   0.\n",
            "   0.   0.   0.   0.   0.   0.   0.   0.   0.   0.   0.   0.   0.   0.\n",
            "   0.   1.   0.   0.   0.   0.   0.   0.   0.   0.   0.   0.   0.   0.\n",
            "   0.   0.   0.   1.   0.   0.   0.   0.   0.   0.   0.   0.   0.   0.\n",
            "   1.   0.   0.   0.   0.   0.   0.   0.   0.   0.   0.   0.   0.   0.\n",
            "   0.   0.   0.   0.   0.   0.   0.   0.   0.   0.] [-0.5   -0.498 -0.496 -0.494 -0.492 -0.49  -0.488 -0.486 -0.484 -0.482\n",
            " -0.48  -0.478 -0.476 -0.474 -0.472 -0.47  -0.468 -0.466 -0.464 -0.462\n",
            " -0.46  -0.458 -0.456 -0.454 -0.452 -0.45  -0.448 -0.446 -0.444 -0.442\n",
            " -0.44  -0.438 -0.436 -0.434 -0.432 -0.43  -0.428 -0.426 -0.424 -0.422\n",
            " -0.42  -0.418 -0.416 -0.414 -0.412 -0.41  -0.408 -0.406 -0.404 -0.402\n",
            " -0.4   -0.398 -0.396 -0.394 -0.392 -0.39  -0.388 -0.386 -0.384 -0.382\n",
            " -0.38  -0.378 -0.376 -0.374 -0.372 -0.37  -0.368 -0.366 -0.364 -0.362\n",
            " -0.36  -0.358 -0.356 -0.354 -0.352 -0.35  -0.348 -0.346 -0.344 -0.342\n",
            " -0.34  -0.338 -0.336 -0.334 -0.332 -0.33  -0.328 -0.326 -0.324 -0.322\n",
            " -0.32  -0.318 -0.316 -0.314 -0.312 -0.31  -0.308 -0.306 -0.304 -0.302\n",
            " -0.3   -0.298 -0.296 -0.294 -0.292 -0.29  -0.288 -0.286 -0.284 -0.282\n",
            " -0.28  -0.278 -0.276 -0.274 -0.272 -0.27  -0.268 -0.266 -0.264 -0.262\n",
            " -0.26  -0.258 -0.256 -0.254 -0.252 -0.25  -0.248 -0.246 -0.244 -0.242\n",
            " -0.24  -0.238 -0.236 -0.234 -0.232 -0.23  -0.228 -0.226 -0.224 -0.222\n",
            " -0.22  -0.218 -0.216 -0.214 -0.212 -0.21  -0.208 -0.206 -0.204 -0.202\n",
            " -0.2   -0.198 -0.196 -0.194 -0.192 -0.19  -0.188 -0.186 -0.184 -0.182\n",
            " -0.18  -0.178 -0.176 -0.174 -0.172 -0.17  -0.168 -0.166 -0.164 -0.162\n",
            " -0.16  -0.158 -0.156 -0.154 -0.152 -0.15  -0.148 -0.146 -0.144 -0.142\n",
            " -0.14  -0.138 -0.136 -0.134 -0.132 -0.13  -0.128 -0.126 -0.124 -0.122\n",
            " -0.12  -0.118 -0.116 -0.114 -0.112 -0.11  -0.108 -0.106 -0.104 -0.102\n",
            " -0.1   -0.098 -0.096 -0.094 -0.092 -0.09  -0.088 -0.086 -0.084 -0.082\n",
            " -0.08  -0.078 -0.076 -0.074 -0.072 -0.07  -0.068 -0.066 -0.064 -0.062\n",
            " -0.06  -0.058 -0.056 -0.054 -0.052 -0.05  -0.048 -0.046 -0.044 -0.042\n",
            " -0.04  -0.038 -0.036 -0.034 -0.032 -0.03  -0.028 -0.026 -0.024 -0.022\n",
            " -0.02  -0.018 -0.016 -0.014 -0.012 -0.01  -0.008 -0.006 -0.004 -0.002\n",
            "  0.     0.002  0.004  0.006  0.008  0.01   0.012  0.014  0.016  0.018\n",
            "  0.02   0.022  0.024  0.026  0.028  0.03   0.032  0.034  0.036  0.038\n",
            "  0.04   0.042  0.044  0.046  0.048  0.05   0.052  0.054  0.056  0.058\n",
            "  0.06   0.062  0.064  0.066  0.068  0.07   0.072  0.074  0.076  0.078\n",
            "  0.08   0.082  0.084  0.086  0.088  0.09   0.092  0.094  0.096  0.098\n",
            "  0.1    0.102  0.104  0.106  0.108  0.11   0.112  0.114  0.116  0.118\n",
            "  0.12   0.122  0.124  0.126  0.128  0.13   0.132  0.134  0.136  0.138\n",
            "  0.14   0.142  0.144  0.146  0.148  0.15   0.152  0.154  0.156  0.158\n",
            "  0.16   0.162  0.164  0.166  0.168  0.17   0.172  0.174  0.176  0.178\n",
            "  0.18   0.182  0.184  0.186  0.188  0.19   0.192  0.194  0.196  0.198\n",
            "  0.2    0.202  0.204  0.206  0.208  0.21   0.212  0.214  0.216  0.218\n",
            "  0.22   0.222  0.224  0.226  0.228  0.23   0.232  0.234  0.236  0.238\n",
            "  0.24   0.242  0.244  0.246  0.248  0.25   0.252  0.254  0.256  0.258\n",
            "  0.26   0.262  0.264  0.266  0.268  0.27   0.272  0.274  0.276  0.278\n",
            "  0.28   0.282  0.284  0.286  0.288  0.29   0.292  0.294  0.296  0.298\n",
            "  0.3    0.302  0.304  0.306  0.308  0.31   0.312  0.314  0.316  0.318\n",
            "  0.32   0.322  0.324  0.326  0.328  0.33   0.332  0.334  0.336  0.338\n",
            "  0.34   0.342  0.344  0.346  0.348  0.35   0.352  0.354  0.356  0.358\n",
            "  0.36   0.362  0.364  0.366  0.368  0.37   0.372  0.374  0.376  0.378\n",
            "  0.38   0.382  0.384  0.386  0.388  0.39   0.392  0.394  0.396  0.398\n",
            "  0.4    0.402  0.404  0.406  0.408  0.41   0.412  0.414  0.416  0.418\n",
            "  0.42   0.422  0.424  0.426  0.428  0.43   0.432  0.434  0.436  0.438\n",
            "  0.44   0.442  0.444  0.446  0.448  0.45   0.452  0.454  0.456  0.458\n",
            "  0.46   0.462  0.464  0.466  0.468  0.47   0.472  0.474  0.476  0.478\n",
            "  0.48   0.482  0.484  0.486  0.488  0.49   0.492  0.494  0.496  0.498\n",
            "  0.5  ] <BarContainer object of 500 artists>\n",
            "178.0\n",
            "517.8611888061221 0.018983679158843095 10.227508440451999\n"
          ]
        },
        {
          "output_type": "stream",
          "name": "stderr",
          "text": [
            "<ipython-input-39-679ff3a10ba0>:2: RuntimeWarning: invalid value encountered in sqrt\n",
            "  return (amp/np.sqrt(sigma))*np.exp(-(x-mu)**2 / 2*sigma**2)\n"
          ]
        },
        {
          "output_type": "display_data",
          "data": {
            "text/plain": [
              "<Figure size 640x480 with 1 Axes>"
            ],
            "image/png": "[encoded data removed]"
          },
          "metadata": {}
        }
      ]
    }
  ]
}